{
  "nbformat": 4,
  "nbformat_minor": 0,
  "metadata": {
    "colab": {
      "provenance": [],
      "collapsed_sections": [
        "LDoT3x4Z779X"
      ]
    },
    "kernelspec": {
      "name": "python3",
      "display_name": "Python 3"
    }
  },
  "cells": [
    {
      "cell_type": "code",
      "metadata": {
        "colab": {
          "base_uri": "https://localhost:8080/"
        },
        "id": "JeH1XWkB0n_8",
        "outputId": "08348ac0-2432-4be4-c5bd-73159a4b3f30"
      },
      "source": [
        "from google.colab import drive\n",
        "drive.mount('/content/drive')"
      ],
      "execution_count": null,
      "outputs": [
        {
          "output_type": "stream",
          "text": [
            "Mounted at /content/drive\n"
          ],
          "name": "stdout"
        }
      ]
    },
    {
      "cell_type": "markdown",
      "metadata": {
        "id": "SHkxQta702Pd"
      },
      "source": [
        "# **Install Libraries**"
      ]
    },
    {
      "cell_type": "code",
      "metadata": {
        "colab": {
          "base_uri": "https://localhost:8080/"
        },
        "id": "SgyS1RZBDhSP",
        "outputId": "d8062e5f-5e9e-4acb-c574-e70b52b6db19"
      },
      "source": [
        "# !pip install tensorflow-gpu==1.15\n",
        "# !pip install tensorflow-gpu==2.0.0 \n",
        "# !pip install tensorflow==2.2.0\n",
        "# !pip install tensorflow==2.3.1\n",
        "!pip install --upgrade tensorflow \n"
      ],
      "execution_count": null,
      "outputs": [
        {
          "output_type": "stream",
          "text": [
            "Collecting tensorflow\n",
            "\u001b[?25l  Downloading https://files.pythonhosted.org/packages/ad/ad/769c195c72ac72040635c66cd9ba7b0f4b4fc1ac67e59b99fa6988446c22/tensorflow-2.3.1-cp36-cp36m-manylinux2010_x86_64.whl (320.4MB)\n",
            "\u001b[K     |████████████████████████████████| 320.4MB 49kB/s \n",
            "\u001b[?25hRequirement already satisfied, skipping upgrade: six>=1.12.0 in /usr/local/lib/python3.6/dist-packages (from tensorflow) (1.15.0)\n",
            "Requirement already satisfied, skipping upgrade: astunparse==1.6.3 in /usr/local/lib/python3.6/dist-packages (from tensorflow) (1.6.3)\n",
            "Requirement already satisfied, skipping upgrade: grpcio>=1.8.6 in /usr/local/lib/python3.6/dist-packages (from tensorflow) (1.33.2)\n",
            "Requirement already satisfied, skipping upgrade: numpy<1.19.0,>=1.16.0 in /usr/local/lib/python3.6/dist-packages (from tensorflow) (1.18.5)\n",
            "Requirement already satisfied, skipping upgrade: tensorflow-estimator<2.4.0,>=2.3.0 in /usr/local/lib/python3.6/dist-packages (from tensorflow) (2.3.0)\n",
            "Requirement already satisfied, skipping upgrade: opt-einsum>=2.3.2 in /usr/local/lib/python3.6/dist-packages (from tensorflow) (3.3.0)\n",
            "Requirement already satisfied, skipping upgrade: wheel>=0.26 in /usr/local/lib/python3.6/dist-packages (from tensorflow) (0.35.1)\n",
            "Requirement already satisfied, skipping upgrade: h5py<2.11.0,>=2.10.0 in /usr/local/lib/python3.6/dist-packages (from tensorflow) (2.10.0)\n",
            "Requirement already satisfied, skipping upgrade: keras-preprocessing<1.2,>=1.1.1 in /usr/local/lib/python3.6/dist-packages (from tensorflow) (1.1.2)\n",
            "Requirement already satisfied, skipping upgrade: wrapt>=1.11.1 in /usr/local/lib/python3.6/dist-packages (from tensorflow) (1.12.1)\n",
            "Requirement already satisfied, skipping upgrade: google-pasta>=0.1.8 in /usr/local/lib/python3.6/dist-packages (from tensorflow) (0.2.0)\n",
            "Requirement already satisfied, skipping upgrade: tensorboard<3,>=2.3.0 in /usr/local/lib/python3.6/dist-packages (from tensorflow) (2.3.0)\n",
            "Requirement already satisfied, skipping upgrade: termcolor>=1.1.0 in /usr/local/lib/python3.6/dist-packages (from tensorflow) (1.1.0)\n",
            "Requirement already satisfied, skipping upgrade: protobuf>=3.9.2 in /usr/local/lib/python3.6/dist-packages (from tensorflow) (3.12.4)\n",
            "Requirement already satisfied, skipping upgrade: absl-py>=0.7.0 in /usr/local/lib/python3.6/dist-packages (from tensorflow) (0.10.0)\n",
            "Requirement already satisfied, skipping upgrade: gast==0.3.3 in /usr/local/lib/python3.6/dist-packages (from tensorflow) (0.3.3)\n",
            "Requirement already satisfied, skipping upgrade: requests<3,>=2.21.0 in /usr/local/lib/python3.6/dist-packages (from tensorboard<3,>=2.3.0->tensorflow) (2.23.0)\n",
            "Requirement already satisfied, skipping upgrade: tensorboard-plugin-wit>=1.6.0 in /usr/local/lib/python3.6/dist-packages (from tensorboard<3,>=2.3.0->tensorflow) (1.7.0)\n",
            "Requirement already satisfied, skipping upgrade: markdown>=2.6.8 in /usr/local/lib/python3.6/dist-packages (from tensorboard<3,>=2.3.0->tensorflow) (3.3.3)\n",
            "Requirement already satisfied, skipping upgrade: google-auth<2,>=1.6.3 in /usr/local/lib/python3.6/dist-packages (from tensorboard<3,>=2.3.0->tensorflow) (1.17.2)\n",
            "Requirement already satisfied, skipping upgrade: setuptools>=41.0.0 in /usr/local/lib/python3.6/dist-packages (from tensorboard<3,>=2.3.0->tensorflow) (50.3.2)\n",
            "Requirement already satisfied, skipping upgrade: google-auth-oauthlib<0.5,>=0.4.1 in /usr/local/lib/python3.6/dist-packages (from tensorboard<3,>=2.3.0->tensorflow) (0.4.2)\n",
            "Requirement already satisfied, skipping upgrade: werkzeug>=0.11.15 in /usr/local/lib/python3.6/dist-packages (from tensorboard<3,>=2.3.0->tensorflow) (1.0.1)\n",
            "Requirement already satisfied, skipping upgrade: certifi>=2017.4.17 in /usr/local/lib/python3.6/dist-packages (from requests<3,>=2.21.0->tensorboard<3,>=2.3.0->tensorflow) (2020.11.8)\n",
            "Requirement already satisfied, skipping upgrade: urllib3!=1.25.0,!=1.25.1,<1.26,>=1.21.1 in /usr/local/lib/python3.6/dist-packages (from requests<3,>=2.21.0->tensorboard<3,>=2.3.0->tensorflow) (1.24.3)\n",
            "Requirement already satisfied, skipping upgrade: chardet<4,>=3.0.2 in /usr/local/lib/python3.6/dist-packages (from requests<3,>=2.21.0->tensorboard<3,>=2.3.0->tensorflow) (3.0.4)\n",
            "Requirement already satisfied, skipping upgrade: idna<3,>=2.5 in /usr/local/lib/python3.6/dist-packages (from requests<3,>=2.21.0->tensorboard<3,>=2.3.0->tensorflow) (2.10)\n",
            "Requirement already satisfied, skipping upgrade: importlib-metadata; python_version < \"3.8\" in /usr/local/lib/python3.6/dist-packages (from markdown>=2.6.8->tensorboard<3,>=2.3.0->tensorflow) (2.0.0)\n",
            "Requirement already satisfied, skipping upgrade: rsa<5,>=3.1.4; python_version >= \"3\" in /usr/local/lib/python3.6/dist-packages (from google-auth<2,>=1.6.3->tensorboard<3,>=2.3.0->tensorflow) (4.6)\n",
            "Requirement already satisfied, skipping upgrade: pyasn1-modules>=0.2.1 in /usr/local/lib/python3.6/dist-packages (from google-auth<2,>=1.6.3->tensorboard<3,>=2.3.0->tensorflow) (0.2.8)\n",
            "Requirement already satisfied, skipping upgrade: cachetools<5.0,>=2.0.0 in /usr/local/lib/python3.6/dist-packages (from google-auth<2,>=1.6.3->tensorboard<3,>=2.3.0->tensorflow) (4.1.1)\n",
            "Requirement already satisfied, skipping upgrade: requests-oauthlib>=0.7.0 in /usr/local/lib/python3.6/dist-packages (from google-auth-oauthlib<0.5,>=0.4.1->tensorboard<3,>=2.3.0->tensorflow) (1.3.0)\n",
            "Requirement already satisfied, skipping upgrade: zipp>=0.5 in /usr/local/lib/python3.6/dist-packages (from importlib-metadata; python_version < \"3.8\"->markdown>=2.6.8->tensorboard<3,>=2.3.0->tensorflow) (3.4.0)\n",
            "Requirement already satisfied, skipping upgrade: pyasn1>=0.1.3 in /usr/local/lib/python3.6/dist-packages (from rsa<5,>=3.1.4; python_version >= \"3\"->google-auth<2,>=1.6.3->tensorboard<3,>=2.3.0->tensorflow) (0.4.8)\n",
            "Requirement already satisfied, skipping upgrade: oauthlib>=3.0.0 in /usr/local/lib/python3.6/dist-packages (from requests-oauthlib>=0.7.0->google-auth-oauthlib<0.5,>=0.4.1->tensorboard<3,>=2.3.0->tensorflow) (3.1.0)\n",
            "Installing collected packages: tensorflow\n",
            "  Found existing installation: tensorflow 2.3.0\n",
            "    Uninstalling tensorflow-2.3.0:\n",
            "      Successfully uninstalled tensorflow-2.3.0\n",
            "Successfully installed tensorflow-2.3.1\n"
          ],
          "name": "stdout"
        }
      ]
    },
    {
      "cell_type": "code",
      "metadata": {
        "id": "sNpZXGEvFHdd"
      },
      "source": [
        "import tensorflow as tf\n",
        "\n",
        "# !pip install keras==2.4.2\n",
        "from tensorflow import keras\n",
        "from tensorflow.keras.preprocessing.text import Tokenizer\n",
        "# from keras.preprocessing.text import Tokenizer \n",
        "from tensorflow.keras.preprocessing.sequence import pad_sequences"
      ],
      "execution_count": null,
      "outputs": []
    },
    {
      "cell_type": "code",
      "metadata": {
        "colab": {
          "base_uri": "https://localhost:8080/"
        },
        "id": "Q3zdwWURENg_",
        "outputId": "225c481e-c350-469b-b08e-0be4359c95f9"
      },
      "source": [
        "import numpy as np  \n",
        "import pandas as pd \n",
        "import re           \n",
        "import os\n",
        "from bs4 import BeautifulSoup \n",
        "\n",
        "from nltk.corpus import stopwords   \n",
        "from tensorflow.keras.layers import Input, LSTM, Embedding, Dense, Concatenate, TimeDistributed, Bidirectional\n",
        "from tensorflow.keras.models import Model\n",
        "from tensorflow.keras.callbacks import EarlyStopping\n",
        "import warnings\n",
        "pd.set_option(\"display.max_colwidth\", 200)\n",
        "warnings.filterwarnings(\"ignore\")\n",
        "!pip install wget\n",
        "import wget\n",
        "import nltk"
      ],
      "execution_count": null,
      "outputs": [
        {
          "output_type": "stream",
          "text": [
            "Collecting wget\n",
            "  Downloading https://files.pythonhosted.org/packages/47/6a/62e288da7bcda82b935ff0c6cfe542970f04e29c756b0e147251b2fb251f/wget-3.2.zip\n",
            "Building wheels for collected packages: wget\n",
            "  Building wheel for wget (setup.py) ... \u001b[?25l\u001b[?25hdone\n",
            "  Created wheel for wget: filename=wget-3.2-cp36-none-any.whl size=9682 sha256=51810f4c0a1b814f53e36dde60198f4ae2bb32db31c72f8c9dcc4162df246236\n",
            "  Stored in directory: /root/.cache/pip/wheels/40/15/30/7d8f7cea2902b4db79e3fea550d7d7b85ecb27ef992b618f3f\n",
            "Successfully built wget\n",
            "Installing collected packages: wget\n",
            "Successfully installed wget-3.2\n"
          ],
          "name": "stdout"
        }
      ]
    },
    {
      "cell_type": "code",
      "metadata": {
        "colab": {
          "base_uri": "https://localhost:8080/"
        },
        "id": "ZfLVCPbolnee",
        "outputId": "c47b8537-013c-4d42-edcd-e7de5650eb33"
      },
      "source": [
        "!pip install rouge\n",
        "from rouge import Rouge"
      ],
      "execution_count": null,
      "outputs": [
        {
          "output_type": "stream",
          "text": [
            "Collecting rouge\n",
            "  Downloading https://files.pythonhosted.org/packages/43/cc/e18e33be20971ff73a056ebdb023476b5a545e744e3fc22acd8c758f1e0d/rouge-1.0.0-py3-none-any.whl\n",
            "Requirement already satisfied: six in /usr/local/lib/python3.6/dist-packages (from rouge) (1.15.0)\n",
            "Installing collected packages: rouge\n",
            "Successfully installed rouge-1.0.0\n"
          ],
          "name": "stdout"
        }
      ]
    },
    {
      "cell_type": "markdown",
      "metadata": {
        "id": "lXw4cZzaNBil"
      },
      "source": [
        "# **Bleu**"
      ]
    },
    {
      "cell_type": "code",
      "metadata": {
        "colab": {
          "base_uri": "https://localhost:8080/",
          "height": 1000
        },
        "id": "dIFBFdMdHMHf",
        "outputId": "611a67e5-824f-4de6-e1da-30cee4d5cbc8"
      },
      "source": [
        "import nltk\n",
        "import nltk.translate.bleu_score as bleu\n",
        "\n",
        "!pip install bert-embedding\n",
        "from bert_embedding import BertEmbedding\n",
        "bert_E = BertEmbedding()\n",
        "def token_list(embeddings, no_sep=False):\n",
        "    \"\"\"\n",
        "    Returns with the tokens of the embedding data from the BertEmbedding.\n",
        "\n",
        "    Params:\n",
        "        embeddings: The embedding data from BertEmbedding\n",
        "        no_sep: If True, the separators are trimmed.\n",
        "    Return:\n",
        "        tokens: list of tokens\n",
        "    \"\"\"\n",
        "    if no_sep:\n",
        "        return embeddings[0][0][1:-1]\n",
        "    return embeddings[0][0]\n",
        "\n",
        "def sentence_embs(embeddings):\n",
        "    \"\"\"Return with the sentence level embeddings\"\"\"\n",
        "    return embeddings[0][1][0]\n",
        "def prep(sentence):\n",
        "    \"\"\"Return with tokens and sentence level embeddings\"\"\"\n",
        "    embs = bert_E([sentence])\n",
        "    tokens = token_list(embs, no_sep=True)\n",
        "    se = sentence_embs(embs)\n",
        "    return tokens, se\n",
        "\n",
        "SmoothingFunction = nltk.translate.bleu_score.SmoothingFunction()\n"
      ],
      "execution_count": null,
      "outputs": [
        {
          "output_type": "stream",
          "text": [
            "Collecting bert-embedding\n",
            "  Downloading https://files.pythonhosted.org/packages/62/85/e0d56e29a055d8b3ba6da6e52afe404f209453057de95b90c01475c3ff75/bert_embedding-1.0.1-py3-none-any.whl\n",
            "Collecting numpy==1.14.6\n",
            "\u001b[?25l  Downloading https://files.pythonhosted.org/packages/e5/c4/395ebb218053ba44d64935b3729bc88241ec279915e72100c5979db10945/numpy-1.14.6-cp36-cp36m-manylinux1_x86_64.whl (13.8MB)\n",
            "\u001b[K     |████████████████████████████████| 13.8MB 354kB/s \n",
            "\u001b[?25hCollecting mxnet==1.4.0\n",
            "\u001b[?25l  Downloading https://files.pythonhosted.org/packages/c0/e9/241aadccc4522f99adee5b6043f730d58adb7c001e0a68865a3728c3b4ae/mxnet-1.4.0-py2.py3-none-manylinux1_x86_64.whl (29.6MB)\n",
            "\u001b[K     |████████████████████████████████| 29.6MB 98kB/s \n",
            "\u001b[?25hCollecting typing==3.6.6\n",
            "  Downloading https://files.pythonhosted.org/packages/4a/bd/eee1157fc2d8514970b345d69cb9975dcd1e42cd7e61146ed841f6e68309/typing-3.6.6-py3-none-any.whl\n",
            "Collecting gluonnlp==0.6.0\n",
            "\u001b[?25l  Downloading https://files.pythonhosted.org/packages/e2/07/037585c23bccec19ce333b402997d98b09e43cc8d2d86dc810d57249c5ff/gluonnlp-0.6.0.tar.gz (209kB)\n",
            "\u001b[K     |████████████████████████████████| 215kB 47.4MB/s \n",
            "\u001b[?25hRequirement already satisfied: requests>=2.20.0 in /usr/local/lib/python3.6/dist-packages (from mxnet==1.4.0->bert-embedding) (2.23.0)\n",
            "Collecting graphviz<0.9.0,>=0.8.1\n",
            "  Downloading https://files.pythonhosted.org/packages/53/39/4ab213673844e0c004bed8a0781a0721a3f6bb23eb8854ee75c236428892/graphviz-0.8.4-py2.py3-none-any.whl\n",
            "Requirement already satisfied: idna<3,>=2.5 in /usr/local/lib/python3.6/dist-packages (from requests>=2.20.0->mxnet==1.4.0->bert-embedding) (2.10)\n",
            "Requirement already satisfied: chardet<4,>=3.0.2 in /usr/local/lib/python3.6/dist-packages (from requests>=2.20.0->mxnet==1.4.0->bert-embedding) (3.0.4)\n",
            "Requirement already satisfied: urllib3!=1.25.0,!=1.25.1,<1.26,>=1.21.1 in /usr/local/lib/python3.6/dist-packages (from requests>=2.20.0->mxnet==1.4.0->bert-embedding) (1.24.3)\n",
            "Requirement already satisfied: certifi>=2017.4.17 in /usr/local/lib/python3.6/dist-packages (from requests>=2.20.0->mxnet==1.4.0->bert-embedding) (2020.11.8)\n",
            "Building wheels for collected packages: gluonnlp\n",
            "  Building wheel for gluonnlp (setup.py) ... \u001b[?25l\u001b[?25hdone\n",
            "  Created wheel for gluonnlp: filename=gluonnlp-0.6.0-cp36-none-any.whl size=259917 sha256=955708e0ffbbc2f26355f386e712332e5a392b54ce43b357d13ce793c6d33edf\n",
            "  Stored in directory: /root/.cache/pip/wheels/ff/48/ac/a77c79aa416ba6dd7bf487f2280b0471034f66141617965914\n",
            "Successfully built gluonnlp\n",
            "\u001b[31mERROR: xarray 0.15.1 has requirement numpy>=1.15, but you'll have numpy 1.14.6 which is incompatible.\u001b[0m\n",
            "\u001b[31mERROR: umap-learn 0.4.6 has requirement numpy>=1.17, but you'll have numpy 1.14.6 which is incompatible.\u001b[0m\n",
            "\u001b[31mERROR: tifffile 2020.9.3 has requirement numpy>=1.15.1, but you'll have numpy 1.14.6 which is incompatible.\u001b[0m\n",
            "\u001b[31mERROR: tensorflow 2.3.1 has requirement numpy<1.19.0,>=1.16.0, but you'll have numpy 1.14.6 which is incompatible.\u001b[0m\n",
            "\u001b[31mERROR: spacy 2.2.4 has requirement numpy>=1.15.0, but you'll have numpy 1.14.6 which is incompatible.\u001b[0m\n",
            "\u001b[31mERROR: seaborn 0.11.0 has requirement numpy>=1.15, but you'll have numpy 1.14.6 which is incompatible.\u001b[0m\n",
            "\u001b[31mERROR: plotnine 0.6.0 has requirement numpy>=1.16.0, but you'll have numpy 1.14.6 which is incompatible.\u001b[0m\n",
            "\u001b[31mERROR: pandas 1.1.4 has requirement numpy>=1.15.4, but you'll have numpy 1.14.6 which is incompatible.\u001b[0m\n",
            "\u001b[31mERROR: numba 0.48.0 has requirement numpy>=1.15, but you'll have numpy 1.14.6 which is incompatible.\u001b[0m\n",
            "\u001b[31mERROR: imgaug 0.2.9 has requirement numpy>=1.15.0, but you'll have numpy 1.14.6 which is incompatible.\u001b[0m\n",
            "\u001b[31mERROR: fbprophet 0.7.1 has requirement numpy>=1.15.4, but you'll have numpy 1.14.6 which is incompatible.\u001b[0m\n",
            "\u001b[31mERROR: fastai 1.0.61 has requirement numpy>=1.15, but you'll have numpy 1.14.6 which is incompatible.\u001b[0m\n",
            "\u001b[31mERROR: datascience 0.10.6 has requirement folium==0.2.1, but you'll have folium 0.8.3 which is incompatible.\u001b[0m\n",
            "\u001b[31mERROR: cvxpy 1.0.31 has requirement numpy>=1.15, but you'll have numpy 1.14.6 which is incompatible.\u001b[0m\n",
            "\u001b[31mERROR: blis 0.4.1 has requirement numpy>=1.15.0, but you'll have numpy 1.14.6 which is incompatible.\u001b[0m\n",
            "\u001b[31mERROR: astropy 4.1 has requirement numpy>=1.16, but you'll have numpy 1.14.6 which is incompatible.\u001b[0m\n",
            "\u001b[31mERROR: albumentations 0.1.12 has requirement imgaug<0.2.7,>=0.2.5, but you'll have imgaug 0.2.9 which is incompatible.\u001b[0m\n",
            "Installing collected packages: numpy, graphviz, mxnet, typing, gluonnlp, bert-embedding\n",
            "  Found existing installation: numpy 1.18.5\n",
            "    Uninstalling numpy-1.18.5:\n",
            "      Successfully uninstalled numpy-1.18.5\n",
            "  Found existing installation: graphviz 0.10.1\n",
            "    Uninstalling graphviz-0.10.1:\n",
            "      Successfully uninstalled graphviz-0.10.1\n",
            "Successfully installed bert-embedding-1.0.1 gluonnlp-0.6.0 graphviz-0.8.4 mxnet-1.4.0 numpy-1.14.6 typing-3.6.6\n"
          ],
          "name": "stdout"
        },
        {
          "output_type": "display_data",
          "data": {
            "application/vnd.colab-display-data+json": {
              "pip_warning": {
                "packages": [
                  "numpy",
                  "typing"
                ]
              }
            }
          },
          "metadata": {
            "tags": []
          }
        },
        {
          "output_type": "stream",
          "text": [
            "Vocab file is not found. Downloading.\n",
            "Downloading /root/.mxnet/models/book_corpus_wiki_en_uncased-a6607397.zip from https://apache-mxnet.s3-accelerate.dualstack.amazonaws.com/gluon/dataset/vocab/book_corpus_wiki_en_uncased-a6607397.zip...\n",
            "Downloading /root/.mxnet/models/bert_12_768_12_book_corpus_wiki_en_uncased-75cc780f.zip from https://apache-mxnet.s3-accelerate.dualstack.amazonaws.com/gluon/models/bert_12_768_12_book_corpus_wiki_en_uncased-75cc780f.zip...\n"
          ],
          "name": "stdout"
        }
      ]
    },
    {
      "cell_type": "code",
      "metadata": {
        "id": "L39lzNdCNALD"
      },
      "source": [],
      "execution_count": null,
      "outputs": []
    },
    {
      "cell_type": "markdown",
      "metadata": {
        "id": "-qDwoSCq08hn"
      },
      "source": [
        "# **Read Data**"
      ]
    },
    {
      "cell_type": "code",
      "metadata": {
        "id": "Usoi-LQbGoh5"
      },
      "source": [
        "def sent_tokenizer(s):\n",
        "    ishightlight=True\n",
        "    article_sents = []\n",
        "    reference_summary =[]\n",
        "    for sent in s.split('\\n'):\n",
        "          listOfWords = ['@highlight']\n",
        "          if all(word in sent for word in listOfWords):\n",
        "               ishightlight=False\n",
        "          if ishightlight==True:\n",
        "                # print(sent)\n",
        "                article_sents.append(sent.strip())\n",
        "          if  ishightlight==False:\n",
        "                # print(sent)\n",
        "                reference_summary.append(sent.strip())\n",
        "    splitted_article_sents=article_sents\n",
        "   \n",
        "    article_sents = \" \".join(article_sents)\n",
        "    return article_sents, reference_summary, splitted_article_sents\n"
      ],
      "execution_count": null,
      "outputs": []
    },
    {
      "cell_type": "code",
      "metadata": {
        "colab": {
          "base_uri": "https://localhost:8080/"
        },
        "id": "1a6kDS2rG-No",
        "outputId": "7d376527-723c-4778-b687-0c1450fdcf48"
      },
      "source": [
        "directory_DailyMail = '/content/drive/MyDrive/Colab Notebooks/DM/'\n",
        "directory_CNN = '/content/drive/MyDrive/Colab Notebooks/CNN'\n",
        "import os\n",
        "count=0\n",
        "import pandas as pd\n",
        "\n",
        "data =  pd.DataFrame(index=[],columns=['Text','Summary'])\n",
        "\n",
        "if __name__ == \"__main__\": \n",
        "    for (root,dirs,files) in os.walk(directory_DailyMail, topdown=True ): \n",
        "        print (files) \n",
        "        print ('--------------------------------') \n",
        "    for fileName in files: \n",
        "      print(count)\n",
        "      with open('/content/drive/MyDrive/Colab Notebooks/DM/'+fileName, mode='r') as file:\n",
        "          fileContent = file.read()\n",
        "      tokenized_sentence,reference_summary, splitted_article_sents = sent_tokenizer(fileContent)\n",
        "      df_new_row = pd.DataFrame(data=np.array([[tokenized_sentence,reference_summary]]), columns=['Text','Summary'])\n",
        "      data = pd.concat([data,df_new_row], ignore_index=True)\n",
        "      count=count+1\n",
        "      if count==20:\n",
        "        break;"
      ],
      "execution_count": null,
      "outputs": [
        {
          "output_type": "stream",
          "text": [
            "['0a3b16c1ca88183a6de59149cbeed3cb0e6bb8e2.story', '00b6b0dedac7e54899b3fb0989c09ab676c4b5b5.story', '0c488875bfaeb8b7d08a38e6ff64139d5ec88d02.story', '00c62cf59818178a15994170384fe1e7f5bd9fdd.story', '0c521c600996fda1407351aaddec54b983aacb25.story', '0ce932cc492f123d1f7ec7af449ad7ca56bc8d32.story', '00e545e17083ede3173542866f49d27405d029f0.story', '0bd2c21810b70bfccb2aefc2df0fe8a5fc4302be.story', '0b0dbc8723e53fbc2a64a331bc3625b87bedc850.story', '0cf83c28985e9efe58f9c52d58c596dabc73f317.story', '0bbb67bae2ed1728aa8aee3e16d9882880893d78.story', '0c9c937edb3328f1ca92b3be01b680c30f0eba0e.story', '0cd76753079dd610bda57a82ee5512e6edf8cdeb.story', '0bdd402d150259cafea44ebf5c7491c8e6dad77c.story', '0b1c12e2f5f191c6a2f3403b5caea3c9e8a4c75e.story', '0c8af91ed7fa25f5ca38e6f723f718861e6c9576.story', '0000800d9058217f6509d7e63ad475e2de0da611.story', '0ab0b137d63ae824538660f2f315524cf95e7db0.story', '0a0db6c641cedb28c98a2a8de080ec47b68bb9e7.story', '0d27a0aea2eae6915049a7b43f3e6c1d499d979f.story', '00f51e5a9b108adcd5e79eb64d02edbe80259816.story', '0c0446bc7db6fde3108451aafeb8fb27e6824137.story', '0be502356f8b95f9e95b4c90b1c6a3ee64e55ec6.story', '0d0a33171369d4f0a648f87433e0a73353b049e9.story', '0baa0cee79336265550f8f0ff67a8738baa777c2.story', '0a62ea840be6b00cde2fdb23ca528ee187dcecfd.story', '0a09cf9b86c6f9793a1a7bd7e0ef6e37dd254dfa.story', '0b764e4845ea958072c21672fcad970feddaa67d.story', '0b4d6e3bbd0d2760066bf8b1166906a13a15f480.story', '0c9e0c0396852d388e65167fdacf32f7f2ecda0e.story', '0c280a4c6c4c7aa6094ef616677b7856b8ffd686.story', '0b07d31ab7aae4b3fc35d57ea990902f07b1316a.story', '0a16866663569d43c376b7ba97b07e6568bd0caf.story', '0d2f2e830ee3dd2f00746b8192ea11b6c0062470.story', '0adbe928e812658513f3d10b5e2b4e439598c3cc.story', '00da7ec24cfa6ee37f56c0e901f8caaf1721966e.story', '0ca756d68712068d401d55d7dd695c64a79b224a.story', '0c45596d498f8e18c466670887f8ffa67fbe62f6.story', '0aa3316c59fea6e13881d850a652c9b5b2479e71.story', '0b5edaf620697a52de76fe2f05266914c17d9f3f.story', '0a8cd89fb3f0369461d25092782d6b4ba2be349b.story', '0ad18221cdbe91c00bac24cd096a40a99befecb2.story', '0ce03c35286e07043f14e338a29b68037dcfdb0f.story', '0a7541f5c023c6da4c98447b4efd9c163806b259.story', '0bcad17c3c2c6c9748feffd5bd966e6d7ffdec98.story', '0cb32aca9d20757d83d67fe1345f0db5c35c3867.story', '0b5782d577e89981a6ff48d9c150813ac041a382.story', '0bebdfb25262680f554e93b6bc88eb8d02176a48.story', '0cb23bce4ffe29c01442ada5bc14f790c96d4ee3.story', '0b7c6afc11e4015e380970d58c82b65bca7d7acf.story', '0cf3a2cf390635cc3216c650d0527e78098fbad0.story', '0c892f085fb2c3cc608eb4d068986d7610084076.story', '0ce3c30c68e8fe8e9f4e7cb985edb2384dd07ce7.story', '00ba865c154c2e659381ba12aa0ff0ceff77500f.story', '0d18fafb2c2b00c7c24456a1a919d56e33d7af70.story', '0bea47c271bc0e052fd4351ce3dacd6d95c94f29.story', '0cbee20c5dde779a3681d3a7d40616f4808c02c4.story', '0bd7ed552bd3aa70d28999d8b4589700e86fee62.story', '0ba33d2bf37d7aa3da87f9ef66f79a6dcb3bfbe2.story', '0ae8c0a032e81321b1a1086c43aa5a4ec9200873.story', '0b7fc896eea566a33a8bd5584f76e701db6ff03b.story', '0a4058404d17dfdbad5ba3f0ab8445a39bea47dc.story', '0ad9b62f0064505672368fcff87c730fd2a02aa1.story', '0a3447aaa67541d69b27981426e2b2a5b66d8217.story', '0d3f345c8561d1381a3680b8f434fdcc2fbb64af.story', '0b2534b1b3558d8ffc03a9edc2133bcc7a19ceb9.story', '0a44838ff5995a382d6738edfa7d15409f54d3e5.story', '0c50f96ea4afb45583c694715ead9b6765d0af3b.story', '0c6ea1176d3afc36db40463ee9e168538228e551.story', '0aeb7c7172a00128d56c077d2f986ee0bff6cb7e.story', '0b823cb2aa39b35dfed0c4228b7e420f2cd53855.story', '0bec4dc9584b135a82c32b7fb62890b070a7d795.story', '0c3f8a1675c6edb433872189f775f2ebf2aaf0cf.story', '00a665151b89a53e5a08a389df8334f4106494c2.story', '0d8ff9c041493b36de2244d24f5de324e50c1055.story', '0c40c6c573e10d7436883000bb2305c86f0e7a28.story', '0d29ae06dd015e141646c3b03671901c1b8465c4.story', '0c306f5e1a8b21275b6b461c37f40a9ee80bb9ec.story', '0bcc8fe6356a27252c70319fc96ad2ec6df80b0b.story', '0a6daf0c4a51968300ddebd9a2742ad376b270d2.story', '0b618d7a25dff3aca36cf9d7406e9f551686ee96.story', '0b03de6ec3f51278450f0199ccedde2d4089861a.story', '0a56380c1ab93eaa0dc07cf291d90cbc446ea9cc.story', '0c8064027808157cfdf30384e8373d7e9165b9af.story', '00ffa5b59748068ddad24e7ed857e86926153da3.story', '0abf7ab73bb50372f7279c73d00a945dc7662443.story', '0ae33e2abf06de4a876dade12484df60bdf390eb.story', '0a6641884638af74c7025500399c8692b43e9912.story', '0b50563e4f8eda79977810111bdc67f3de975696.story', '0b441989a2f03e78017ddc7a5202e8d2cb25eeb1.story', '00b7c9d48f8b8d80e73799e367fd3121e63bd873.story', '0bc17e30ac461f2e9047c3fab2780ec92a11c8c1.story', '0a15e204af0ae1f793bd4325dac03d6a671ff924.story', '0a847504dcde9cd4a476ffb4e5c831e3dfcb2d58.story', '0d6d16c5c8c0fb0b7451882a818d9db4286aefb8.story', '0ac5361f65cb2cd47f3904ee0fabaeb626282405.story', '0a0a007398ab02d4bd3c1ef9e034f567afa76b2c.story', '0c60d1eeff563de70fb2ae9def09f7312464b415.story', '0ce3441b58049473f1ab3678601eb43f17cfe045.story', '00e7530c2887c82ecd6c52b1963724857bc42a33.story', '0a167e1b287070c1ac577400309a55d499939d2c.story', '0b5576cb45cf0abdc2de87c4d62d7ae59d7d2270.story', '0c158d43cdbb544f693862bbeed3fd7b96c15b09.story', '0b57813fcfb2b1c12f935c1efcfce85446a7c46e.story', '0cf718691fc6da6b097c6ca8e792b6661b98d372.story', '00ed02b883afcc19969e2148693189dca865e7ba.story', '0c6a6d4dc0f024f5239fd4184759715b0103485e.story', '0d6e1b74ef63ab83c114c25f7f3089bb84bbcc66.story', '0b70e7b227000ba9dacb319da174acc2e2762553.story', '0a17a069498a1473e1a0311be5904b2c701fab07.story', '0d8a547436173692bc84048db8326bcf9e5d63bd.story', '0af5eecfbaa0a0c8d2bcbb72f6b0efe9f0576d5d.story', '0cfa7901a134be25d8e704936f214ac13d093145.story', '0b051f62ca889b15ea310696ea8dffbfb8d7b999.story', '0bbdc032093b5b0ec215b93137e2ec8d85690292.story', '0b628e970d9d0a635ebaabd694cdd8560f9a16b0.story', '0d6cc92997b227e59775b75aee3e618743c2c634.story', '0b4212ca7662f09da197081b8d7bae78634415ed.story', '0d6ee9ebc0f2bef3cbec1495bcf575452087c9a4.story', '0bcd4dbe21cb97bb51b5f4d501bad4c248ac9a99.story', '0b8c1a786b4f57ab746a8fc9ba1c54511598bedd.story', '0c6c050fd2e94e0f827050014a3eca67b8e86c98.story', '0ca2fddb9ae508e87c9729fab6050ab6939a762a.story', '0a90293cc770d792eb4ee85d24a8d7ae23e274f2.story', '0b90f4f10f92d7fa83da9bf799a497e72c142f50.story', '0a35a156906af69ce36c2b3adc26dda53e36139c.story', '0ac8d4c73fe060ce377c9ca65897596b67d1a050.story', '0a8fd2888f20c9e705696d8ef847a32df47900e6.story', '0c12d2652727e786c2d6cedfa01c9d0882c96c54.story', '0c3d5c9b78d847c86b0b765b2fb0269dea6bca46.story', '0bd425e84799c4a0490d11c4790208018305e422.story', '0a20ae35c1226f1764f24c41d1a698757c7bbe43.story', '0d5ef58fda0aca09f16b831c55c94efe88b29cd9.story', '0ae5a393cb21f9dec88b6ab5d8e49c5cc961d94d.story', '0c8e5e87cc38dcf4146222aa9afa750568485c37.story', '0d9c681c789b64a2eb73ed5a16f6c30b6cab0a1e.story', '0c53c9489726da1919e36513bf131794f941269a.story', '0ad2ebdb83b72d507100e386f19df60b3c651de5.story', '0cd467ec31317aef144c6699cb20a1e38ecf748f.story', '0b2cf604647133b7a3cdd305302fd5f9b12d75ad.story', '0c95e609e727971b1bd5461ef85003437ab58168.story', '0b401e621a9ef12de2e6029c753e73cff11728de.story', '0a73d38138ef4176245aa928ada60ff0e2c1bb4d.story', '0b75f9a1a318c80ca4aa9d45c694ac858b871c72.story', '0b58132bff71522c7afee5fbf0f44ba21ea80842.story', '0bb2d6dbddfa08a1d5a203687661d53d9f6177d1.story', '0ac117ced870d364bf509fa16417613991b2743c.story', '0c4ec9b60d2c3f939b39ff53bfe73aa8d8b1fdf4.story', '0acd0dfcf063273e2b5c1c5ef62d8c5f723a0206.story', '0a701fc8266413cc98e7006bda68d8bed6f9668b.story', '0d4f2445b053ed6e96950fa4f9be41d8fe325fa3.story', '0b4d51c6d6fd7d4aa5382b12a36349b6fa90482e.story', '0d03b44673b10112686c7c2b38931c1a67826cc5.story', '0a52a4b2566fa9b9c1680a62b25fe6f087c9e220.story', '0bb52d152c66f0d58d20bc420ef45823e17f98b2.story', '0be7650b868145ad3f3e02fc02331d55dfecd466.story', '0b296c04ed290ec8456b06785af31f2db4ed8df7.story', '0d15ae93797da2e49e9ea28caf54e3a8f6078bf4.story', '0acd2d1521b5a97b270ade7fc739e4f091514406.story', '0b185a6e55261a84ed6c09368a88494e7da1fd12.story', '0a5e63224ae04cad2d77c3cc437071149d1c1dd2.story', '0a5924cb1c32882daf6eb355f10954360c0d748a.story', '0c59fa094819e002f734653f20e36e71e0b9e775.story', '0b4dca5b7864b60f33f1128d11429fe1f675e6fa.story', '0bb0aabc3fbc176a682056ea0578b86466bf135f.story', '0bcb46f2258fc818ead935d2fd14ef7cc59bdffa.story', '0ccc7d7223489e89d2b91271d2a0b1c4ac9c20e2.story', '0ce50c33764b1c8961775b177f40f91a621bb80e.story', '0ac19307a97649b3ca183d137b0c16354dc8af6c.story', '0a116dcd9fb47846cd4ab614f126975cbf2495e9.story', '0b50e5d0fd4525fcff6b790411c83ad5d42bdc38.story', '0c5ec6812e15a7710f7dbf9ff715b62c6b03e3ff.story', '0a2597628cd192a00bfb3bb3a81a0af5154b4386.story', '0ce08484f17d6d3b3a930c5dbb8f5b06b9ef2d7a.story', '0ccf6f304c0224f181e184aac2cca2393739d410.story', '0a67205f0c87087767c047f7445ebfbd1e18fdf3.story', '0b82a1eb41ba58b8903bff63ae182b5ead7f4cdf.story', '0bad9e8ca15464b3647cb7c0ac39b1889b880374.story', '0bc55b35efa10e940c8bc6c5bb0dd582dc9b8a57.story', '0ad23a94ff348c4fd1a058c4feb995fb4d561f39.story', '0d0efce5483cc04747f2c61536e3e849c8cffc2a.story', '0ce8d1b591af75ea5d39ec31fd242bf20a9e6003.story', '0c38930e4781e918adf7f37e2bd398344b7df59d.story', '00d3c22183d528da798574bbc04cafaac69ba9d1.story', '0cb56220d5abfe41fe7b4eedcd80b73dadabc62d.story', '0b5bd785bd65316460d045328b2b735bfcdb64f0.story', '0cdfc412547c1a806344bc3b37e0ec60adf5cccf.story', '0b6ee20d19e89512903366438c9497e941e07162.story', '0a1ed1c496a33085cd005a9b1cbac7e0c24ea51f.story', '0a0df8155f9fde2120951da84eff10661ed5f1e0.story', '0ca3d3f3dc1eba28ea13d847f6492196f2f3d0d7.story', '0c6d592b46f375bfe073479b3ea2a422a76eb402.story', '00c95d10b58369fa2e905817b73ea2beed9a59a6.story', '0a5e61a314ba8c8c8d675735a4c21da89e96d436.story', '0d34b6971b06108f4a991eccfab1e5770ce8b2d7.story', '00f459447b7881246f506827ed525990a63b8806.story', '0d3d7848bf4d9a504ebf524eff922a398ed067c5.story', '0ccf46e8bc9e8b5da336e0c80001b0079656aad1.story', '0aa7bbf3464f5c8688b11e9332bdcb014818e2f7.story', '0a9042d01a71ffdf5b138dc4df6ffcfea10d7b0f.story', '0b955a34c3afc6c45209709284a53a4469b5e1e3.story', '0ce7d1cd6382bcd667a0edbbfce3bdae5a74f109.story', '0b3022c2abc3cffa205d2475401aa997b4b564c6.story', '0b5251be83bac0fbfc31487c2126dba992c756f6.story', '00f6ef36f768b077ec77290f3c80eeaa33f49cde.story', '0c7182ed4592a8d3beebd36290d39cc92db3153c.story', '0abce45f98bffcf6658871f589da96f57495c652.story', '0b02f620781592f0ffd07150ceeb94735ac58840.story', '0ce2c7599762b54789c5383dcd39446716fdd276.story', '0b9cd90b67fb59828f9a45da621ea553ad6cd0dd.story', '0aba1ca7308ece8eb5565181e0f3324096868e44.story', '00b0319898ed6c2010a235078bbc27176677aeac.story', '0cc293ad47f8de004976e16c768473045b3ffd7a.story', '000424152bce9d9f36cb43884dacf16b43052463.story', '00b17666d2e38e6fd515c0e1efc2af04df44733f.story', '0b7c64e1464d8d1ccd2409005ffe5d82e5dfbc2f.story', '0d6d5be3f41aa1bc02133117d252c85f6e99f0ec.story', '00e0ef83db3cb98e099c8d0280497fd1c5393d3d.story', '0a9e9db4e27c13d234c3810e882230383e745cc5.story', '0a1fe06405c1a121e34b3eebb5768fee65e25b68.story', '0a6c0d89e018b928e49edbc3f433a0d3747666d4.story', '0bb9f8a6164d057ab42b89fc5905d053998e7270.story', '0ce8863d90e57796d85d0beaf3191626f20c7415.story', '0c4b508d472a28ba2b7b8b735fa8946591172d3b.story', '0ad708366facb48af3fecfc3ab4521b54e284a23.story', '0bae0317aa217384c494b5c2002bbb15a0d4a0b6.story', '0c3c4a6570b5d936e0cdac26dbda61bc7e459017.story', '0c58d521677065d753e62c1e55bd7e2c834b5862.story', '0cfb660acb7c984413bcc70776a57856853c007b.story', '0aa99a5ae122166f06b00299894e57cf4818e0ff.story', '0c49d3776b388dfc977e94fd847ec28546bd30f9.story', '0a7fc2ecffdf56f9b2873f94e27d69d61d9d9d65.story', '0aab9c79a3d5bbb03a237665a44ce5d14b01ec1e.story', '0c3d77592037d2bee4b9a66e0e84f8f7272f075f.story', '0bc894ef47d774aa494381626b79fa78567e63fe.story', '0d4a9002ff5eab8458fa7c3cdf7a0a10420f20ef.story', '0cd875596eada9164e7d349d654697c342020b65.story', '0bba4099246108291a118970867f57384e3c4cc8.story', '0d3a09a19c255b57756da5a9ccdb9050377e25e1.story', '0c4a9231f0f29f639d9228c7da3c15b694bcf998.story', '0c990fa7aee9633ffb6179f80582bebb889c04ff.story', '0ca3eed1f2e71a71780c47678de5987cc7588a18.story', '0c07447381825d9f55bcef116b55031894c679df.story', '0a2693ea6d1d636b7961b9df51d14d0aa6cc0885.story', '0b4af747c16dfdc7828a0b6413a7bd2da87bf3ae.story', '0acbea1ae921bf7bedb306c60116816c2dc6855d.story', '0b00ff061ec1537e17a6e6798376b4183a52a643.story', '0b02c2add235010f5a1b268e94a19cc07e66fd24.story', '0c90ccb0782cbf1e56fa6fa40691a0a34156b1aa.story', '00d2b5f28352bfc337f5a04dcafe2281c7cc27ea.story', '00fbfb7dbc73a22dc4cc10992675f134a24f7233.story', '0a3553a4bcab372033d35a9f2988f3b4fa9734b6.story', '0b3ea78623833197f77b6f11dcd7f4d4afb5e24c.story', '0bdaf3c547f1cde7b5bf91c8be5747e16805f896.story', '0b0c31c54c68291a5060f3de114ac898f627a46d.story', '00b5adb5e72d40d8cd70088faa771c5c47f3df6e.story', '0c0875578a447b002f01f546b45abbbd34aa6e75.story', '00a48254f033140b66212183299a6b77bd4ff463.story', '0c221113328c52a1d7657f12684b03c5ea3b6297.story', '0bbea3c678cb3467bc2598d859c5c912c33a191b.story', '0a896ea1812669fe67ed7cf23bdd5edca52e58a8.story', '0a80225d0a9e2ac4a444f8a68232ba6876f20557.story', '0ca30955461dafa021927baee8a95f2fdcab10c7.story', '0a26164589aead6d760c982631e02ff8025856de.story', '0a36a0af69011d67f364bc5ba385f9039eb9c589.story', '00a6bed00cf2c7171fcb2d354a72648c18b3634c.story', '0a18b1b162221ed1fdbc3951434bdab64ece31a9.story', '0d7cc4ffbee0d280f6a7de804a0edd741fa97e1c.story', '0d9f21cfcecfa0797e91075cdfd8ceafc56ad451.story', '0c643fe692fa4fb325fa9355e6ee89532040eb64.story', '0c79e7eba418a9ef0250b491545f42200ef6894a.story', '00ed3c64299a60a91516e38dc009e298a8bb84f3.story', '0bb3dd40681acc58ac601fdd6b6836e6d79eef74.story', '0abdb8f6d78263a777ece5ee0a967868c8714387.story', '0b158d5219bf61579a7f14a9aad436955201a20b.story', '0bc935a0ea280d702b86bb2279ee60134e4cb7d0.story', '0a1c18635c65188b87b92f47dd2c1cf2fefa4e30.story', '0a1cabbc6b9c07c97e8001dca6301770c28f1833.story', '0a381b0313ec9d563a83c31ea89a7b88304913ff.story', '0cee77309d47538292d9524a1eed4304c61650db.story', '0cb2f2798532ff1aa42710bd77cec05b40d07f66.story', '0a61cc5c304b3d78070eea0d2686da69d56552f0.story', '0b84f5ea32a4827d0788c13736f16205f838af31.story', '0c5a3cfb807284913979e6c2ffceb305944b0bad.story', '0a2f5a8474949419bacf03a34fccb48748b21b84.story', '0aeb16eaa62bd08e1ec2841e40c26e13a0dfa4f9.story', '0a135f5ebad02cdfddabbaa2a8763fc60673cd1c.story', '0b52b04eddac5613833d1190543481aed16990ba.story', '0c4678d1c39cdb2c1a2f54697c21dcabdb434424.story', '00b444b77a60a268c6747995bcf67d9da4dcd18f.story', '0a2bebe1f1781e965312d90ed13dc530f0511186.story', '0cd4aef7931b6a149dafcc1e56d6b61863f8c71e.story', '00dd37eb90d8bd97c8fc1d2c4d0d04fe94f220ba.story', '0ac1a42b2f67d54fabbe279169e67440451c1fba.story', '0c94cd42dd7dd5130aaaba65e5fdb47aac7f9fe0.story', '0b04fef2551c7b94c4458feea6163baa93a15f30.story', '0aa3339ac793efca6fa06d583bd0b9d7b3d63920.story', '0000bf554ca24b0c72178403b54c0cca62d9faf8.story', '00a4e038101945dd07baee4a020ae85adb43a54d.story', '0d7ff6ddd9b994700e9f3d135a34286700cd2a9a.story', '0abb723a0ff4d20c7a638850b9861a05e98d000c.story', '0ab4939ba90eb760cf300b292d3fba94697ae800.story', '0a33653d1673b3d39f93839b51c6b347b6765ab0.story', '0a37ecc017255c85d84b92110bc9fe79b16c2687.story', '0baa5e5fe65401be934349bd1f067b31a4a0f0d0.story', '0b00c7c4c20e7049d731d0123945387add6e51dd.story', '0c3eba0c64a044da898b4949fb8b207f9e3d1497.story', '0c679e13ed6279dba4ef1cb3599d4b6ab88c759e.story', '0ab020db40dd152e53ab533ff59c27b782d941bc.story', '0b7a388cf1b67395de8022e58f79414bfc4c5adb.story', '0ae93149862a7d9fb2c3855283d7d32218f9b4b7.story', '0abba076209cffc9c342dd5073f5a73ea998b9e4.story', '00ac70934fc041c20c037d21fdbcff20511e04c2.story', '0b16f96e4c1b30b6df5f22bcd60ce80829e14fb6.story', '0b2bd892cfb89cacfb84b8a49cfaf685d948ca1f.story', '0c460523c05c5cad196dc1fd836e5237b9b66221.story', '0ba10c593b476bbb724bf7838d45bf6d0f816547.story', '0c0129c12c6b3ed75adfd155378ce5f965f6df66.story', '0cf658435ea47d3de5a7336a6aa2f0648a715504.story', '0ca47fa5025f16d2ecf7461eb0602870dbeeb0a6.story', '0cb3f43f4fd0b0479aaebf7f280e444937d76e2c.story', '0a95be151afb2dcb9399f0f46779035e061f2d8b.story', '0b6c67bac05bcad26bd701fa91f0db4e411333ad.story', '0d3ef8c08af00c696d67c7d66716c773a1cf0556.story', '0ab2b97a5ad37c4e3be81c9595298b57a3352c8a.story', '00c8013a81382905e8d0b822a943c9335322a078.story', '0bedb30f248dd2559811bbc75f81cd7863de8c84.story', '0c7fafc8b21b3affaca6916aa6ad73aa6155f537.story', '0bd896950b9f27deb845f1aadacaac50199a4d64.story', '0ae026bca56df2e52609550bed3c184165a034ea.story', '0d8f939993ea1fb15c11274de009955c6abb5d86.story', '0ce936ffc8abc007d8e3d2ef876f891b4cf64e76.story', '0c6863d75f6d1a90b9c2eca0eecc6bdd9cd9eee1.story', '0a80d772e87c235cb633a19107483e345d6ef46a.story', '0cf7ac1ecd9160b4c49acea6c602ce1970218d99.story', '0b12e9d23eff68183215f425f58a149d8091d93b.story', '0bdde0b5184a1a077ef77e1ca6fd034fc71fca1e.story', '0b53b70f6a119fba770849de5fe1565a3855ec06.story', '0a7083ef01c346775a3fefaf577b6e14a0dbfbda.story', '0c8baa3544be08b864ec198516a3512b977f082b.story', '0a7bf47c29ff5daaf19c61fb203eb2a634034143.story', '0ae803505eef23017ea7b87aea821340a8b2e718.story', '00ba9c2cbc4578450a64b99e1d808e33a48ac713.story', '00cf9de3fa1a851f0c9b8d6f7430a5072b6fa37c.story', '0a004086df4a75570c9c232d3dace3115fe912d3.story', '0cfde541f835947caa54cb31316224c81d8d384d.story', '0cae5338e2741c089cec18c6f4dbd68e867cbf47.story', '0cb92ab49ddb110b47a651a482792d2844cf1669.story', '0a916d927d4bf757e1dc64aedd592808d9b64bf3.story', '0adf053fcdb915a1b8ec6d56ac6a107b5b4098c1.story', '000c0265cb9c98336a0d67979fa91038a7cab075.story', '0ab99d0bc941bc62ea625b112fb4088062dd85b9.story', '0a5a1a17961b552e31eb3baddd0c0db0d412a009.story', '00f455bf5cd8c4a400eb84936a9750d92ab77990.story', '0cab7f48e6f9cf1db9c4ba393b23e5f94ad4c7c7.story', '0c11d44a4562713d7aaa272d92e7895dd6abcd04.story', '0b03fb754fb711707d98eef57c038e50a250672e.story', '0a14c29bfb34cdbb33d50c4ea102d71f428c3656.story', '0cfff3751816d97e90b53a14961281d02dbcfd79.story', '0c4d542eb9865e9962ac84c4ed9519321b09d2ec.story', '0a734e26434526d7ddb04e9fd6e197e77a096c48.story', '0cb1b4602f72d46c514363a6a100fa5ebd32ad0b.story', '0b4b9a127dfcc61e200d4fa481326e83b59b822c.story', '0c130e032a5d35f7de73d0231c08837d922052c2.story', '0c72ab886b48904432d3e7c48fb6de505aad322a.story', '0af3ff96fb9da3ff49d3c7a61e16f48749691cd5.story', '0cbe9678255bcddbf5cba56ae0fb07fad20984fd.story', '0b3dec25c5e5ba9d1d743dfce4aaa948d35fff7b.story', '00a5c6a8b1b3bd07c52e0c64f09350e1190474a7.story', '0cd6be2bc40bb6304b1044b74f4d1344b6d73b92.story', '0a8705fa16f028d18dde276cd208dea4d910e82b.story', '0b26906d7e82947d48e10d1f8379471c7ce55721.story', '0b10205b188dfa628fdd1deb88254eb6a628dcf3.story', '0a022fdf33f893526630e849a47fc45f69a0be74.story', '00ce91e2a4624b0a5e89952dbc49981a0902e2dc.story', '00cf084e914aeff71887081e2eea7ef1111792e2.story', '0a2198f6c7b2798fe2d1f761d63eb64b3102f935.story', '0d4fcf3da8a9bd2f9dca69d8ca71ad4ca90846cf.story', '0b7e8f085ab0284b9d05a43f43cc83d649acbe79.story', '0d3a338de46672e1526d1fc528a7ac79ab681a5d.story', '00a092ff5c2a2a1331fe317592d51a96869d8e62.story', '0af5c45debab891f7588639cff0a73c5759f395e.story', '0c1006cf535d3d3a418671e7ab3ce7f9979c7075.story', '0d9fa9c4c2e93aec749a0dac1ebf22d4f00cd3f1.story', '0d9c1e56452ba78a3397ff510651bc2c9955ebce.story', '0d3c95f7608a3b644acd6d21a931f0a9661dd7a7.story', '0c464f8e4e22545dcef94af6838a57333da7707a.story', '0cb186346acc14263f2b126033de9409efd319f4.story', '00daf3e506e2daf9e6567e7f10916b6c2f8a3dd0.story', '0ba7bfd8bdba840dd21641ebaa9188d888762f5c.story', '0d5e47202782fc67f88b0de2721db9689612f00c.story', '0b6fe27dc356b8d04b683eb38d50eb40560f35ac.story', '0bb06db0965ddb5fa8914a468a00211533957982.story', '0c79257350b038b93d475e54ab42b9b27ebde628.story', '00fc6e7139dd7b0bd408f08b693cffb49788129c.story', '0bcdff1769693f1a765e0e668c8a80feffe640bb.story', '00f510df997670363d80f4ada4552af8b3ec4914.story', '0a16421146a54cb77aecf2e0325326cbd28b3bce.story', '0be1aa6bc5d207db5aa323d5f4ad2c1f75910308.story', '00ec3f11b1527e297630d8a0f856fb11a427345a.story', '0cf683dd3e0664d4170348f540fe2a186de65e6e.story', '0ab949307058e77334e44a867827d0aa26411782.story', '00bb01d5ecf528f50ab5ac145a3b9005f57020da.story', '00ec0bb7e6e276bb60714e7a660e94a29b7a5ce3.story', '0b97cb47f51561671d6535a45fea835d62f9720f.story', '0ace40fc1688a63e8605e56aa484bcb49a39bfda.story', '0c9080aa5dc95680e482e39d0528b38694da38b5.story', '0ad354388e84bcf081392aa71a2972f369309be7.story', '0c928ed37107ccabd4799f26a3c51fa9e2f1dc73.story', '0b5025a528e086f40956aa89796271537c9d0a88.story', '0abf8a9fc6694931699390c2653d1f8a6aa00ec0.story', '0a58c0b6b6bc6a4d05e32e1c7b4ea2c744f71f54.story', '0bdde14d90c11fb4acae10b11320462060c95f33.story', '0c5f5561e6f860b1dba916672b9f543b65a03e4d.story', '0c75dd4ff26d4656c995c782a324392bbd372d2e.story', '0af012149801e2a10a39b11e2a9143bb81642d23.story', '0a0ad50bb4952bdfca93ff74565f1ac80e740278.story', '0bdf5a96b9dfa84de1fa44f4505e478fc64b0f38.story', '0ac5fd0150ddf7c4fa8b65cabd47aedadce68efe.story', '0abc1c931f8964132eeedfc9c4c434409b854ca0.story', '0a68eb94920c46e160c3969470fa5e90b4f9f079.story', '0b497807a4adc5179233315b56bee24f8be8dfa5.story', '0cc37111ea6675c6163eeb52e4d5fd304b7b9655.story', '0abcd9f70313a872d5ccb1c3b464cced05fc6fc6.story', '0a8f3cf210a71f359f0b71ef8a26d32b85ba073e.story', '0ba6e89742a07af9b57c3c3feb62b2d32162aaa8.story', '0d4b2a6375122f0e7b2001b5625799405a517df0.story', '0be9fd9adf2ad9869b3a3c6c33b03204c41ea5e3.story', '0a25591ed23e1dfc89dd0a458df47dfe458590c6.story', '0bd6b095abc5e623b12d1f4329db19334aaf151f.story', '0a0afa9106783f8b7aca75d53054b51ca7293fb2.story', '0c5312381cdc7ea0d0cc8b1c9baed34dac7cc2e7.story', '0cec81b1346f3c4c1fd205074a5d478b1fa15dc1.story', '0d7cde298452c00a145dba55da5afe298913f8a7.story', '0b3d5ccc31d46a056d83e3543e7b4ab388e8ecc1.story', '0a0d38e855d052bb9a6f4cc102ee6e0019ed9382.story', '0a32dc3cea13a9ed99ca115afd37949208238511.story', '0b34edf92cba97df480c20732a7d346184a64152.story', '0c80c0998de0b8e1c10a9033357addc713d0cdc7.story', '0c94b91351f6397282c6310c531826642ea5e1ff.story', '0d1ee0bffd51b89a74234782ae90a8b1a8464a3a.story', '0a27b72208712032c3ea2cd17edaefa265836fd8.story', '0a15339bcc950f461c6049816cbad54d166532b3.story', '0d6e20e7d51c0021adf68ffe2392ffe9ef7875f1.story', '0b90b69638cc354bd9a242e85c40fd0182e79323.story', '0be725e9d83b9b201803fbfa6f36904d0d7b29c2.story', '0ce80bc0b558a104a468c1c58074dfd33b9e30cf.story', '0b1509b3bb0f08921a43443bcb192938eaf82f6e.story', '00e578386457f8cc11d2dee5706739cc11c2ec11.story', '0c83cc99786595b98501c2c6053e0bc61a7a1551.story', '0acb0f477b61f4e0f94324e5f3bed7380e580b33.story', '0a4acfbc331157b18e942dacbcbe73571aa66934.story', '0ba8852529598f4ef0201273b096d01a6b6766de.story', '0c82544710743f5e515af1e8d1b608ace4cb2988.story', '0a0b3d0b0ab9ee056856cdb241a58fc1ea049d53.story', '0a4ae726d30eee1de3dfa88e2bad22c4317704b7.story', '0c3c747b8432959a0c228a315a1b72edcc26e308.story', '0a8f0d8e4db013dc9251b8c763f217d6ca907818.story', '0cd4b8e792a489c48cabd0e40c64d6e25fba9b63.story', '0a525d6dc980d9cd8e0becdbf387b5df1ffd5641.story', '0d4dbb4dbd0949b16d9acd7de6ca97de8c32d1fa.story', '0adae8686f11e869c3d47cc50362ea9f4b106089.story', '0c78e292fbcbd100c217c9c036a2013a12ec79e1.story', '0cabcac9a952753bef625bd489014502e3ce5480.story', '0b5bb4a08cf9137c17d2932b59fd508538e57452.story', '0b11342cf5f49b83f84fb16b4853ec3f68217a12.story', '0b18ddcc8321eba938fba578f0fae96ed0b12379.story', '0a5678b5817c8124e7b6c17efaea88610b35c968.story', '0c3db1680f1696ec16c1aadcdcece97dfe8028b4.story', '0c72629ad85afc4efe1a9f673c07dddee6353619.story', '0b2bafbef12d8fb458f386421bb9ee704d005d37.story', '0adb8d89312bd5d1901cfcab51a8641c1b3f8a36.story', '0c3832157e4fc899876609e10a60d3859bfba090.story', '00e90f6877b8eb2d0e97f880cdcac33a7748138c.story', '0b5f21422f839f41007471151c1d6ad2802efe24.story', '0b624bbf1e9a4e73dab5d3ec85f5b5f1c87f5ddf.story', '0bc862709b50f5bf80457b4907f3351c3e08532a.story', '0a6cb98ec11f8a734483bce6950e60879fdb558b.story', '0d6d327b85467484e57374d4ea9fb347b050d6cd.story', '0c8d91583f7ebf9a39529db51e20c10f09ff6b4c.story', '0a6bfb1b8eac558fe545e45d205c4405e6d0e130.story', '0a10973e3d6e8b48f749c6f845e323041e9c6632.story', '0cb40ea968eb62654199e7dd1d15587854c9f04a.story', '0b6c24e9454d5aeac695501ab5da734b1ca521eb.story', '00a17476636877aca7a0660c1b740c124b3be022.story', '0b86d8a725977c81560b530e27b768779dbbcf3e.story', '0beb7e0e2256d6ccc8ffa22485bbd4754f3123b5.story', '0c6b8c0fa005573c045a1c4f3c9b62fbcd4a7873.story', '0a73bc8c22b9dd5327fdc9517dd039cf104c335a.story', '0bc04a9e99f42b80879b4a21e1e87c537398b57c.story', '0d4ebe3f7cdb4f6f64eb5e8e6ef0a3023a22bc4d.story', '0d8af40f9498429113b4d16ed59977325b69bc98.story', '0c29300694eee7fe67e3b4509489da819945d408.story', '0b7d1e7a3ef005e85b93938a6766b78b442b88fa.story', '0d1d6284061a99cb2478ecb4b490e4605698ec3e.story', '0c5439bb99fad0f51e6b85f910871c35fc0063ae.story', '0a42e0ca9dc4c93ec35a6bfa20371560480b1e6e.story', '00e5f8abd3f676c53ccc244cadb3cd9b108c52dc.story', '0a71e6bc68aaa465b4666d4b0cd8f18a9f83e1a1.story', '0c52b6795e245fa66d85ee60517eb14afe49467f.story', '0a425aefe09ff7cfb7a193e8662e3e2b722fb804.story', '0aa3eafd99627969b8690579afdeed2232da1ec0.story', '0b2acd0bbd956ef9c2abeecd0a190f0ee0be8aa3.story', '0d8d0474292d2cad5cbaf30476660e8227c077f4.story', '00d130fdf732346b214fb0dd3b6c11a38c1cf804.story', '0a6537fe4b2a95f3140fc8f942692f0ec7c4ba3a.story', '0b95dfe9d262327253924d2f5739d3a84e07d13f.story', '0a75493b05faf1b06bdc422a681b77b14034f823.story', '0cf156b7f0923eeac6d43533da5ca3194c94317b.story', '0b2b8239f5d934c49caae48a34403e3fe071cd1f.story', '0b2d8159174f4c452e2a7eb1400b9afe96111b84.story', '0af6f737929c066ee1493d15204d33db1ab5b40d.story', '0a8f3ec2647102fb0cdcc61c2e21fe8ed053b7da.story', '0b71ae566f72b97479f9e453017b5551423c3554.story', '0b26082de44b9a29bc880512620f4c3cf4075e4a.story', '0b2bab0ec065b5ba458a114592f13a31a68c4870.story', '0ca16f2b3444f67aa500a0da9266f32d79316b99.story', '0ba169b934a309ce1f7d25fa31eea8a7c709e80c.story', '0bb411d5a3bf8147a1d99802eb474b94acd99c9f.story', '0bde6085f0d9cf1e2a52669ac1899116d630b3a3.story', '0c05d48523361d4efc025bde78702955f0a8d70c.story', '0c6516656a5dbf301e625267fa7dcfddca6581d6.story', '0ba768a0126976aa8980019a0bd09ae12d342d3f.story', '0cdfebd4b11f4bb9ffe92a822f16df1f1137dcb4.story', '0b0ff27d84703bc9d57e8e5f105f249e82b94ee9.story', '00fcb8be0187eb7e65e60c0b135f728953eb52c0.story', '0ab9f05c7e1a9bbcb62d5f01c90c837888d126bb.story', '00ba2ec517c68135081fe20cb5ee4c246c7c827b.story', '0d3ef496a1904f41a74f5f7781bd549147566574.story', '00d2fa9b8aafa97b0c5fc511ad9f2b74d6a305cf.story', '0a0e3163993656a742b9ee91a8307075f495960b.story', '0c80f4fe3ab406a0cc1a11ca8ae8d8640f569827.story', '0b527201d533c0c583f717535c45608b2e00fd72.story', '0a22518b7bda880a2b6aa1d99decf03fe9c2dcf1.story', '0aea3fce9582b074140c7ad2d5d8ed59c5dd54f3.story', '0b9fb486abc591eba5c6e4b7f82e255ba7afdc3c.story', '0abb8f66d238319d8057f8dfcaefe1fcff388116.story', '0b3065f62db03416c01b0bc8d87a03add5402070.story', '0cb5c205002f81c43619e3c75a9f1412ac56ab9e.story', '0baf749e2368349e64c27d6e998567cff4c8215f.story', '0ae56a9919147915a423ac0710845ddbf110db9b.story', '0ad920f27e35eee7462132e9ba5f198b503c81b1.story', '0d22ffcd8d44f9487a03c13824b6256f8971e14d.story', '0c9382debd7c0b32a8b4f6c1cc347adb4eb7d4cb.story', '0d07cadf68c754627407c8154b0d04e0c1157e5a.story', '0c076b5c800e769e84218516aa68560c0e6df8ae.story', '0b68f7fcc9f8633c954f2d6a332d731384a4c0b4.story', '0a0ebd725d17988db262629f7c9a667bc69e9c67.story', '0afba7cfe2fda0766c02de774954ee6fcee0236d.story', '0ce63827c97e1ee4938a00d98d10f56a7aa97d2b.story', '0b6947329c94a47502de2a96ee6ffa616ab762f7.story', '0b88599d7b1e25e59f2da8338520ec3325de9337.story', '0a7ac29a3f682d4630eeaae2a4de44b530ab3611.story', '0cd153419e9f755d4670caf5f521447d0e0b317a.story', '0a501fe02634f69ea0ce2ad2f717c3453873fd51.story', '0b0014f165e268acaa3f8ba97aeb3cd17ff22d5f.story', '00a9329c2766ca57b0556d9d45cb1fe0f49e17e0.story', '0a6c4fd3b4371bfb7c58e441013c5eb965e800da.story', '0cdc3e1ac382be5bab2492059fa0e71363a317c3.story', '0b6196f4d03e96cae2201c50253108183d985f18.story', '0b358c083da00dc2f1cc0e271803d5d564ea35c9.story', '0afedcf1b0c96d5cf49a1aad15ef3d756fe72124.story', '00d487cb7d3a2cab1582907db5d28a2b93caabe0.story', '0b632db94dd915e82e641b0e6137ad2733284a98.story', '0c7e422fe687c1cb1469c6fd2f19ea5541a97d3d.story', '0cd640f199aa024769a78232aaecaa08f5e0db99.story', '0d0a962a89d6863b276e2409587f93b05d4208c2.story', '0aadddd02ef3172884bd55fa6e5fbcab95ae7034.story', '0a148034d1206c68f5379ba3cedde8392a45ed2b.story', '0c752b9f376108c0007d04277c004d934453d545.story', '0b7f963fc836e7f924114da22fc02a07bc75df40.story', '00e8b09bfc1dfb18f728d525ee66072163a00e8d.story', '00b6607d4bbd6c7960cba3383830c53e30d592aa.story', '0ad5e05a98df20aaa730440f243d8452b7e05315.story', '0a0d524f9f21f6132b91422e00b575080bb7c4a6.story', '0d016d0e791bb4aa89026b6393f16fc931af13e9.story', '00fa75f6671a5f7fd57997d03db5f270c5681968.story', '0b3d5c47e06c9f3a772420375cb54b4df7bc7b11.story', '0cbce1f9f311d05fae3961751270eb9157930a23.story', '0a5ab0ac858a063a121bee426a19dde5eefec335.story', '0d17fb3c8e16ea5a01a2b731117cbf1b12a6c86c.story', '00cba0fc3d9dcbfeba2e0a5c940c4fe7f242fa9c.story', '0a47e706aed2fc5a9ddc405ec2f4e05d1366c9be.story', '0a74c79f47c7d0726658fc28a829e07ec936d8a3.story', '0ae1eb2130ad6cae21ca777fb46a942c1abcef8e.story', '0b669f2c7c47c2f2f40dbeddcb690b3d4c6e48bf.story', '0a07ecf16ce73e4f7c612ce0c165533357a3287f.story', '0a9a10ad9b216ae9fb07b7749217bd4ccc4144f4.story', '0b226997b157378158fc7eaa11fdf8d1db328523.story', '0b45c62d9dc835165cef304df4ef802d270715b1.story', '0d4efb866d37ec807cef26224a6e63a0d94ff18c.story', '0c280ae1819f6bf0fb7abb14fc634cc116c8ff70.story', '0d11ba28172174639848f924f5ac3d27e68b097f.story', '0d4a5027268e4860d832fc2086f24ecbac625372.story', '0c8fe937339adabc7666d98004419c9cd957af00.story', '0b125828a7c6a5d6bebcf48d2db94a84a16b8ed3.story', '00fe61e1a6e807449ac54129eada0b913a1f20ed.story', '0be2ae0b69126779e8062282440fb205e53e2e0f.story', '0d8bbcd33fea0a787815ace40118af00037d2d56.story', '0cf02bae291071b0da034bab06039edeef8373f1.story', '0cffd227263071557001b78e3eb1b9de30e93cbf.story', '0bc49e426700016ef3f93e7dafb7f0b1093eff20.story', '0a2947069b0b7ceb7afe4a31eaf500d9259c9b27.story', '0c2967aeb1f0031f38c2791a732cbadcd729f3a6.story', '0a88d12b7921356ddf0fd2fc3820cfcea225eac9.story', '0b54b51ec4aeba2f616588a43a7f83ca4141d6e1.story', '0a165584b0b59cb90b1d9c3e4f8bc394911cbc77.story', '0cb0a34d476fb26173c22c69036c5ea0f61908b0.story', '0b2c41711084d3e72b858b8eb72242153b765df2.story', '00d2d58e8d76be8da8b8b264bebc994337a73b8c.story', '0d9bd3c7fb33fbfdb61d533c22fd1c7498ffa347.story', '00cb561ff1e3d596a58cd82749dd0c5eec1662e3.story', '0acf7f4d2c2d6261de815bfa2dec16ab8d959a03.story', '0bcfa4cc0d1d6d5a121184642533593a078359fc.story', '0cee53e8bb1574ab9beaec8a7e02cf8a08685be8.story', '0ceb4cea35c3e964a2e54ec9715de42e1319fd03.story', '0bc21a6da003455c67d7fca4c3a1b5c8e7f1f504.story', '0c76002447f51098417c83f001d1780998f5c254.story', '0aa7a69013a6577a5f963c3068723c3d0973f7fa.story', '0b01264350b8ca8a3a2c742e4d7e40217e5f90e2.story', '0a622161b06f6d76d111a9483431c373395ec379.story', '0b5654d09bc279921508f48c5b55d18581a792fb.story', '0b421bb44be8a7a564a4b02f020efe4d2f51e337.story', '0b78d6789391d286329a671138998b2feb1b4177.story', '0b73185f641f57eb1bce2bd56e4805adad7f1514.story', '0b9b6b401114a74ba56605d7b6947011d1dab633.story', '0a8cce97da934439c28d1a2acad3d5f11c893eee.story', '0a1b0e5973b8b7c52b5e3189b93f8d9bd09381ea.story', '0c07f2d176ba8f8cdf25d031553f255b9d5c43dd.story', '0d9ba978f35843188c6b7c15126334d4e901f232.story', '0afd7cdc2882fb29fe4ae93b0e8d9ab85373463d.story', '0a84c286ccf7de1e169bf226a4ec7a40c692ddf1.story', '0b02d70b6c773cd225e0fe27665fa0c6b2d3243f.story', '0a1a94f06809b73d31cf1f43435827cd21467d94.story', '0a3da9f92379d218204af1ce10d93c83a8df1da0.story', '0a474e3fc3bc7c10435eb588ab2987c4f4d5c9d3.story', '0d09d6516ab6b4f2dacc29acf501d5f4ba6d15c2.story', '0a7d822a4d9f7269255b194d01a3503e7e207c7f.story', '0be589b16e28bb76f4ab2dab79ba235e8b8f4cf2.story', '0bec0b15a49684e08dc2179d0f76369df0890872.story', '0cf60cf709ddd69828027cdbf99674e2b2c45824.story', '0c76f2f69ba9757ada9bbd442bec4243be0b43ba.story', '0c94b99ef85ec1b1159ef508a547d77213d187f8.story', '00dc1740d509c7f31cedacdcda44e9db777f2e64.story', '0c90d4419b30ceec838eff2fe4654781e86485f4.story', '0a10314be206b7329b8f1526b11aa4a1ef825530.story', '0c5cb2b1ec7d57b2e38f96f2e30e1a02ee02a895.story', '0c4ed2c8372bbdedc633735af9ae7d6f4af42ebf.story', '0cfd2c421a8c00ec9a213ae08a81879013e92dc3.story', '00fe026cb363c12370e94c8a6725317b33bf6933.story', '00ff88d448a78f5fb258a37a3ec5e80c04d5a243.story', '0d4a76734c98076ab9c8acefd8fee4e3070030ec.story', '0ba1dfe8ee4bed165a8261f30e61b963e1390dd5.story', '0a0f356c4848add3583909f5ce06f8869eddce56.story', '0ae90bd1e957a1e40f208d1a9f691cb8957ffec6.story', '0c999be12fe73dfd332a7d0045d7b258006a1fa1.story', '0c55aaa760203bcd697b4ab46aec100a9c6f7755.story', '00f289271a73663af6b5b6b70e4af07c270ada13.story', '0b4d823930ab0ddb45ab29df249f8d604356d1b0.story', '0d8b2cb222142713873e9886b7465e5e7b6e5527.story', '0c8fba966b0a58c61541b916956e98bc2b6cd23b.story', '0bc6eebaba78da9ced314dc3ea343d34d92cee6a.story', '0c21d0b6577448607dbc36ad191a482a9c15efc9.story', '0c35b5d9c98d91a3d8c20b36f742d01353c3371c.story', '0c44293d920290549b872b6ba4da9da017764447.story', '0a0fb3719b0ff0d7a8d6bcdae38c97b438dbcd1d.story', '0c05bd7eddcced1896d560dcb36b9f880c7c18a8.story', '0aa73de594df2925d2074403af6dcfc82f449a5b.story', '0b439afa4eee90b716afecfda0de151a4d168bb3.story', '0bc71e4ef5d06b4923c82c137c3e0824d8fbd3c4.story', '0b42da91e552ea5e08cd8f6abb9aae438b3d3cf6.story', '0a38f7888b7b1f455be6bfe5f56cc4b00dbe08db.story', '0c8f1ceac2a1522290d2ee171de15dc2ecc99d6a.story', '0b31f1c5915eb988b88100e995df996489d34331.story', '0a52b87a8f51f13322678de5b10791c1e76b2356.story', '0d2c51e29328b5f49754c60a8da4665510d4c0a4.story', '0ca6d95872c9eb4be220cd4fff1708e871770e63.story', '00a7bf9a620d8e8366c74d6cb7b66aa2741d59a3.story', '0bbf92e2c7915c53942689819e3ad18379f7ab76.story', '0ceb9a1f0f3d10fb32125cff5949cb931a7ec1d0.story', '0bd4b7f44cc6163921063578e8114e057e13be6f.story', '0cbf94655dd044bdc8c2b9f20143af24138863c7.story', '0b65edeba65a510ae1590cbeb42e28b2d59f0f96.story', '0c10089dfcb94958767455f74552b51dd25dbf67.story', '0d6c51baa7a434bdfd7b787506cc1ca7021132b3.story', '0a1f670c42cbe851fd87d9c6f1053c21ac6d20bc.story', '0a849f497579d5b97f39408ae47c109834190d45.story', '0aad8f205861473a22cc19c11fe036710f745f0e.story', '0b1513493fd733f9d155de88b91351d0386fed48.story', '0bb8b303dbfcfe991cd4e59d4efe45bece9cf9f4.story', '0a71979632fae4c82950870c341b6709a38b66dd.story', '0c7871c8bfa34b0459333370dde5fde850051721.story', '0c4dacf570b07e2b63ee61d41f508baaf89c3891.story', '0c154a86414c8cba2d1473d188529a8b7433514c.story', '0be794978fd0ae0854531f262281be7901119b29.story', '0cecdb58ca9ee354b91be9b782fccf530361c7fb.story', '0bc2cee647bb59efab97538f016d6f90662f0f67.story', '0b5f008bcc3e7dbc078f4b3e035fddc5353f0122.story', '0a91073df5c9e4da92ef3d30143e6264e1fea1ca.story', '0a0ba0e482cb72efffc0710e5479659fc23d346d.story', '0bcfd172522e93f286079ac27c03d8d8ee5186f9.story', '0a690aa7528123d9f02a12bdb80ad165ca62870e.story', '0c12e1f1b96e3eaed0c83ee8dd1b7c117e5af816.story', '0b9972a5eddd210d0943605028afb1a89d02b28e.story', '0b65ea0d79ab826c7adbe53928c55e50f5d60750.story', '0b70e62466c61521968b6b85f6fdac743c8fd184.story', '0cb480f9191a08cab15b8b695adabf54feb025cb.story', '0b8136db3189fcdc4e55ad93f3c1da739843897a.story', '0b3a3b0f0d7b7253fb4c76b08d177c9be24f10ea.story', '0c813ec42570eee21ef6c23d448f7bfe671b539d.story', '00abcb09527060c5715bb97c68beb16d843ebffd.story', '0d9ab064beb0f72d3d5836cc06e485563819af3f.story', '00f64db29190e2ff1da2b1d9f258d58bbe883651.story', '0c42e644acc391ae7c02fdb4ebb1366e5fddaa9d.story', '0d6da8f91eba885f29d6a3caa0168887a7bfc46e.story', '0c7b8d176be91187ac5b8a4c797d117131d67ffa.story', '0b2984f218aaf783ad3acb582ac20f4f5b889075.story', '0ca6a55cc85d8039b2450d1b5709b599361abbdf.story', '0a01abb749e4c44d8969f9bf204ed10b7c67c216.story', '0b133d298aef50715d5ee549907798bfb31f0530.story', '0c4eaa94499c03ac2782b944f23c2eb8c152355e.story', '0a7ffd89efca7d59163779d226098eb29fc5f711.story', '0c093bc79a0529aafcddc6308033f179fa2dca7d.story', '0ad237a02083e026f5b833dabd14b8455785e15e.story', '0a56ef6656349433f6b572970ba954d980f32664.story', '00d9def5af225b138e3d4ffa4d73e3b7e64a5590.story', '0d8f16872cbe8af57fe0fe260660cd4c4dfd3ccc.story', '0ac62dcad2c6171ab0c4f6cf227a643ad8e3ac1f.story', '0ca3932d3dbf8e8e4a79d072a3c31b0a7d2f1255.story', '0ce5191024bcaf312755c1a3b00c8a9348b7e062.story', '00b7b8ff3d6999149cd7752937232e22b3f71401.story', '0ae533a8710b8ce93c1c66ba1908dd1d88e6e985.story', '00ae964e26c264a0cc15b17000029a364ff080a1.story', '0a1c5b0562184ee2835e0b809fa91a31c7ebf04c.story', '0b1daeab323a24fc5301bb0e3f51c2e584a4c991.story', '0a38e43aba718d158040aa5157f37c64bb2ec7f1.story', '0c88397b9c1ca8cf4c3eafb4ecdadf0a12a47175.story', '0cfc9cbbb2c8b30b323ff2ceb2e7f9e572430429.story', '0c8cc9ebf51d2e3548188545e1a8f099392e2a14.story', '0cd24ef266b17d0ee43cd38a7a31c0165f381989.story', '0cbb6a2cdce13b8df2055ea629ac69da7c36afb5.story', '0b938b018ee8de4238310d86c02d9a77bb040130.story', '0d6c2fadaa64e137b189c006406f7d1a76683c1c.story', '00aa56125558b7ea5b867e89d3e7e8e8bc2e9ea2.story', '0cb24586d2dc12a7167e1ebed71c701a96f986d3.story', '0a35442cb32839e1f0c60cac09a25903ef607a72.story', '0adb3929d8ea2079cea9065af4a16c9a8695780f.story', '0a5c58f75c2dca6cb038c3fc2ceaa6a45044fe82.story', '0a54d0e7fe6400dcf971d7ded7e8f111b67ea7a6.story', '0c9b1cb7006e7ad84a906dc467e4f2433780f7a0.story', '0a7a0c4c3a430de834870426e5d369211973cc5b.story', '0b01ae52f48c3f5ade4d2fbf790ae20a2cc073c7.story', '0c4a80a5b02ac81833aacef1a95447f7a34002bc.story', '0b32f7a08007268284736d0caf72730814ab94a1.story', '0aefba1b2737e014c99bdc82b9ce5ae8133b2729.story', '0b29a35cbffd967a952f6fd873abf0d85c77a803.story', '0aedb89ace206855a5fe81aea6d479e92ae6cc8c.story', '0af8ac4ac65b20d6414e2cfe67ad816936413d53.story', '0a3bad41fd5da4f82b90c7288fee7e5093740967.story', '0b2298e3fa350aeb482929a11ea5d8f8737ef1d9.story', '0c061799f5dfe74c627dc3da51c2bb878f58a93b.story', '0aa5c6c55e31195ebc7647a3a8452f8ff69fdba5.story', '0d0f3266012822de0da8ffe53b92e36b392a3965.story', '0b0b5471bcd942ed849e8c6dcc578a685553a869.story', '0d7dd1334f50d32bbb158f77d0be244b9aa77e91.story', '0a0dfa3b7a1dfa8369af4de706d2df0d3686c602.story', '00c53a47dc6eb289b268ace210b85e51300ca285.story', '0aa5dc0ec3918b6803b9972f774a5d9587ee4c4f.story', '0b9a465e12aa8b73eb0ab99290352edaf6801dca.story', '0ca840afab138ce01e4e62cf04ce897648eff3af.story', '0c773dfa980890e6873ac3be8d5282b0877714a3.story', '0ce392e691edfc2cb0c35fc852f73c833522452d.story', '0bb4be616ad98f59733c89191d96b459a334a1e5.story', '0b1a8c38c6f296d2bde95b4a1d6cdc7906263dd6.story', '0c948243d927f43f5c7be80c1ac6129900e9519c.story', '0a4b35853ede31c67b16def8f39453bce8460721.story', '0a7977b1c0a5a33100d279eebfab6adbee06fb54.story', '0a2793d7ed571352926655bd3327af3320c5a004.story', '00a3fbead23d83544eae11a0795717c4eb5d1921.story', '00a5262ccd1621805d4d6d41612b8a7dcf2c918c.story', '0b8ae26185e31ce9690df937897f816e2413cfb8.story', '0d6f6b6a543713699e055b586f5626055f804741.story', '0b6854498697a3259fdcc3c59fdc79f6d43197c6.story', '0b9283757f9cda69a545f23494a28e5bb12a7b19.story', '00d563275caf55635bc35cf8c6be9a0725f62cc9.story', '0b00679f572fa8336ca8c4062b48a22c5243f6eb.story', '0b55728d2533141a2e8f8e5922f414da11118d84.story', '0a9f7755bfdb3cb3e45bc89664aaab903abfcd4f.story', '0b945f7facd1a3c0477f3a35a3c67f3e96a3eac5.story', '0b6589e1b7eb296db778b30d8ca04a4813fab568.story', '00cf1e5e7c7a5b90ea6e6e04cf222ea46f1e7262.story', '0d4d975555d6c9fd99ede4ca434b78f8ffb5976c.story', '0c539624627f1d57763cd3bea79040e34bb9ba8d.story', '0afb5a98449f55b7e93bd0aa8f48584df43e2b9c.story', '0c61d5910598db016b7ece288ae8def27a66529a.story', '00c6bd38d2eb80ee0b29260e457c2cb82f695e69.story', '0a2609855bb8cbd03146d9cdf55a7833f6426294.story', '0a51ba76da7e939d62de9760448b82b5db06d517.story', '0b40ccb857d72c4480f4579625be0040a528e92a.story', '0afa18eca9e270838d56765fbbacdaaf4530d572.story', '0c7fa871fc85898f5e79c7bf95bba23e11676d77.story', '00d5047b1ca39adb8317afbf6d05812bca7b3a5f.story', '0a7928ae2b0ae836fbd7f99bbfb9e99b12919691.story', '0aed01f38f990acb0badcf9ee584cc21236ff977.story', '0af0a94bf48fa80668ff148b2b63030eb9d84d5b.story', '0c60670f34c9d47f076f5b6c5e2818ffd9f66cc3.story', '0aac53b5924cd485930bbd280f8606400a8c8d63.story', '0a07652db0c361f75763014ac50094084c25e2b0.story', '0aa665c84d1dc98aba2cd0ba171a4e01706fa603.story', '0a436b1b3dee78539c2de74f8d6c7b42594de4c3.story', '00bbe81863e83fe10ec6dc5e226553231804b6ce.story', '00fd04d4bc2eb297430eb83eb7e7199cf8b719c4.story', '0af710e04d06bbda1fa5fab09b76d718ad516305.story', '00f17a84d6dfe653e4d258377042aff4da89c4a2.story', '00cd00d4599a1a64a3eff84d63a73906bdc866e7.story', '0b999ee86545d314c175a0fb201a2dff0d3d00c6.story', '0bb5ee3c67905ebfeb2598f53983ae29af0c8a11.story', '0b393c19fc5fe6e7fccaff1da280d84506003731.story', '00fcb4d17edf5160fad7147a9a81ea2316ebb42d.story', '0a0cc37708525e5ea6e717eb65b8167d924fc870.story', '0cffc7d5555e4b7d9ac0d5e6f2feb611fcdbe9da.story', '0a663265ebd2e1fd63df18365d8851cff900e0bf.story', '0b0ec49bc9a38c196c646735b850d52467668201.story', '0d31b1fc337ae6a665f3694e2e04504bd55f92ba.story', '0a5ef939cb0d550bda113f1ebd8edec339172ed3.story', '0c60d51f3f04d7af45717d3b3cf59eec464532ab.story', '0ba31ecd497c269679637b942b00ff9bdc471dc7.story', '00022dbfa44ccdb94c1dc06938047e258076cf75.story', '0d9ba540825f75b942e0530476591e03462ad544.story', '0cca8a00872571bd90f1fb653b872df8dbfd6870.story', '0a18d2512fcb577a7e916f1f56fbf21be878c9b2.story', '0bdbdba0c4b5a504896c43ef8843a1761226cdaa.story', '0adf51f362c086f891d5fdc5a557e77992419869.story', '0a4c79b678395c3ee25cc1c77d0509b871d32fc0.story', '0baeb98aeb770f2130eb85efe82a6b6605b897ae.story', '0c9a892193b2b50ddc9a199259fef17e54d766a0.story', '00cbf3304f494999d75fd0eb438245c1b764b108.story', '0bbdf9bc808136945cf3106d3c2f2e623071336f.story', '0c77ad49591e30f5e0de1a48ca2bde1d1b44356d.story', '0c8da21717b5437e2acfa247f6d0897825c1e9e0.story', '00a137045dc1b28c81552ddf3dbe8e1577b20a95.story', '0c7d2f3e4a37274424920e06122b88d112c4c7c7.story', '0a4be39e4e3a9c4ceaf59a1456550bc2e450f7c8.story', '0d1aefdb155802842c2b3a376a2480dfd725e861.story', '00bd0517a8159be6bd443c13a74c0b8fa4e4189e.story', '00a25ae7fdbc3d28e1a7e1ae62bd24e533feb236.story', '0d8d24105873f29c75c43deda8dbdab5b29ddccf.story', '0ce399d97ea6eeb20f9892d088a62aaa0228c232.story', '0c9dde70b1512c773ead6fa2a0309e4527387cd4.story', '00cb273bbb4ea8011454a4df0d6f408b113d1709.story', '0b717a2294b429cce7f905524f6760c6189003f8.story', '0d1a2b0d2eaf593d2a3ff21c81a9517dd6a46d8b.story', '00b64ad0bbf52bacf21a73f676791b7fb9867b5b.story', '0b278c91ae457708af16f6cebacca0e157d6dcd7.story', '0cea71a5fdab84e54bdf820e4f16fa3f8fb143e9.story', '00d1c210af91a62adfea4a48d0f931fe4a681f6f.story', '0c99c69022e75fc1849b547131b7c828883a33eb.story', '0c3fa7977e045f2b8ed47ae1a726786f79a28216.story', '0b065b6f51f8c2b4cbbbd0c01d70de5a1aa7bb2b.story', '0af9b1f2ad78c63e8f5b4fbee0bd58065fdf0bab.story', '00c1aa1318504fbb06d51c4d402db5977e7f8c20.story', '0be04e1fcb91ec875b1bf59da43766e11fd73429.story', '0a3f95a0a463d410247b1dba12ab05463fc8a4e3.story', '0bc8eec9d9d973a17e2843faa29cf4335bcb0acb.story', '0b3068ae0a99a06ce739e50643bf2f135b482e30.story', '0a0082e22138a572ee76177f517b8fab4386dfb2.story', '0ac4783111aae00abb97501552fda127bf21e914.story', '0cc277f0bb4acea55ecc9ea50e96c53922ad2ee7.story', '0a6b8ab7fcb1c2689da2750de5724a22fa3a8074.story', '0c56de85384b4fde76f2dee81c9a8d60fb39bc2c.story', '0b6558b08f76b54f016a119ed1284ce1452ab9e0.story', '0b4180bb4489eadf5d4dded11811d237dedc4668.story', '00fb44838796dfaf0063aed792d0cb289c61b9fb.story', '0b0280e24431346529149f5aed9ce05e5d072190.story', '0b221cafd107c7dafb70c45abbc38d13406e49fd.story', '00ded532dcdbd3597f821d676401d55338591e3a.story', '0cba5b0a44de714e626eea378e9963b72c193037.story', '0c33a643e2720c77749972bdb13fac4fe6997bcd.story', '0b1072939b9c0af0cfc29bcf92a1334630fb6325.story', '0d0d7b32437cba2266e60da8a3638aaf63d07d64.story', '0bb7fe6d40cc56fa8258846e11db7841bc4fa7be.story', '0aece12f488e6161f74ce730c337ff9e16994448.story', '0b25eb15d95e0343d85589f989faa6c82a9b2bc8.story', '0ba2818cb481b9fd1933c65c26b36288e232b355.story', '0a81f0e7d9387623110f39c4a3ef7b1a80528a69.story', '0c7d7660689d75f44b09ec52f45e81afd692e243.story', '0b07f9324ceda876e6c5f85dd0ef0a06563ecb77.story', '0b505981b2b268690d28ccbe3f4a12bab03c8be5.story', '0abec9e018d5e8d46d5afd9a2df0b550930a9ef4.story', '0d9d050b2d63a7ef09c007df1bb2d6e243b9d108.story', '0aa72c8ac1367d21ed53e0fdf6431cf24c2a756d.story', '0c8d9bee575dd943ab36ef886c29b78b090cda6b.story', '0a5125a97dff4fa24c2d15edec051360140b01d0.story', '00e2d9bb2bc66fd5893b47f1c24b817e27173607.story', '0b964fd32e90fbbcca7c6bea7684d855e67b9487.story', '0a36ede917bd7f17f2f6fa909b65aa5e137896fc.story', '0cdede7e9df684457b88c8d80601f02dea725546.story', '00dc47ce4dd4998b69810e77d90ef20687e29b85.story', '0003b7e88347128efada6f9b75f7f1bac237dee8.story', '0bd8a54f72f00e482502d80eca9f47d2bb6951bf.story', '0b605dd70a5d95df7819b1fafb797809087fa3a3.story', '0a97b903c5f02ea2a6c96023fca1ff1353163f84.story', '00a56e9c9d66b15665ba861f531b956f07fb12b4.story', '0af0d11094c63b9bf2f373cac91f07704d8d1931.story', '00e1f8e88b78b527f3ac172fb1e7d95de4034c83.story', '0a685ea58bb45fe98dc3f21a94816c25112870d1.story', '0bb6fa31b610b418f94f11ed10c134c5912f5612.story', '0c7e75f2e2adc81d221da407ee52c07176ed5ff3.story', '0ce718a1aa28e6fde23851f731dd17727f92897d.story', '0c6e8ee91da0c47ed4f7c394bb655113a2659a5d.story', '0ab09b68163a4a662237e87fc4a271759cee3826.story', '0c3517b05b632cc7b788fdc176a33d3acac6e2e4.story', '0d06bfeb7d225c886be61ecaaf3d90715f8544b3.story', '0cd300fbaf9264c9bbf8fa4a55e35cdafe0e9d6b.story', '0cb0ca8cc8e702c3a66cec687f7c3d08595414dc.story', '00d028f7190f73e9cd1b192a685ed32a3dac01aa.story', '0c0970ce3dbe86f2fc11e85f6b0ba7684f3d08bf.story', '0b55946c2798361fdb0fa8de1441af9ec3123ee3.story', '00c7429c936c545fb203594c5b7a1a59cd2f3769.story', '0cefceed356f5d7fb0e76ad1ac02f956755853a4.story', '0a765a07872942dce6fa51504aa2dcd3a77951ba.story', '0cdaf251431747be1252a8b1fa9561c3e3ad9534.story', '0b601c25c5d3d4632c81841d2ccff0f414de546d.story', '0bd38c85e09a32cd953fc22d470578535f1bfb89.story', '0b343af0cccd534cb2bb4e93769f777931553705.story', '00c5dbdc552d81458b636caa16a52d24f27ef42d.story', '0abb3926388768740e1de10743d827029a3433c2.story', '0ce57369813360bf3bbd4cd716f1cb27b64354b1.story', '0cd6d8f7a5ad2038e99530fe90e17768056c08ca.story', '0d8d89a4d1b57af2100b93bb2f54ec56697727dd.story', '0cdeb733a03558eefc871d7cc7f80b79d15d60fa.story', '0b9feb71e4a252b18e2ad07082de4ecd6dbe62cf.story', '0c6fd23479f5b72b19b11ed34489094f2b13f394.story', '0a11cdc52b78758cc9388934181731c8cddd994f.story', '0c8fd2d56855d2a81f55da6f74ad77f16d2c41ec.story', '0a9f5975df8b838fc69d9e985371153a453e66a8.story', '0bb17d33efff5f8403329fcadb6aa59fc7f79fa8.story', '0a4a19e47e564354431d96ca371c1e038a9bc085.story', '0a60266f622680ec18cc85219f9f7c76c4e10205.story', '00ed2f39dacae584176bfc1793b3c9d81b049a92.story', '0b0ad20cf1e7db8fd5b8bc3911e2684906f9b5ad.story', '0a6ead59aa5b3392c1711d03858ca7355903c75d.story', '0c396fa22841fa22f8bffa2e200671ee21fd729b.story', '0ba8954e1ba9c79f0b162b77edb14de881f45a29.story', '0a6caf437caa2c560ab2172fc011da22d3aa5544.story', '0d1c3f2153c1a23853bf17ca0d4174ced5c96069.story', '0cd10ad50ceef529d96a255ed12ac9cd001ba9db.story', '0baddfae98cc6cb5b1a3dd2615ca802fedc30ab5.story', '0b9d53bb93e66c996737079deed5bf9cd1137caa.story', '0af5930ecbafde122f7cb2901c2bc5106e5eccf1.story', '0b08e2531af4e3a4ed239bc2e75133fd13b175b7.story', '0d7f6a839d5b41c8c6c1080e066cc6cdbfbb5eeb.story', '0cdff4afe747fe9f86b38bdd968df59c9e864972.story', '0adf75e48f969df8a2da5f4cfabdf868cdfd5a45.story', '0ca0c5bd8ac4a1ec4ff9a3b39829c5d35159f074.story', '000f05fd5e0b3072c1d905a281aa02f15e8382af.story', '0d8fb49dda8c0f1d5f65877fe308730d59ba19fa.story', '0b1d424a45c670e3fb83d46bbe19398013f9d9ac.story', '0c150957e74d769b136b1fdd033fc41d6f077630.story', '0c6b3aa9ae5494e7b2efd607aa32cbeaa9146d48.story', '0af483411a3f23ed0adf95491d42a7283d72a699.story', '0cceaa2a3bff10819baa303422ccbb6c12cf16c3.story', '0c5f370b0b711092fb6475d85becf763c5252225.story', '0afbb8c4ee8bb45123fdeeebc91a8f6ddba3d908.story', '0b023b40ae2d3b294190c2c5e4d6f3d88c0517ba.story', '0b41568f9b9c2100f8791dfe82fe06d75295e342.story', '0c80dfc3e6bc7ac450200f3650735e2bf86b814e.story', '0a853c2ee94fb5953c3dbeb04ca79292162c5011.story', '0c7345a7789e9a0f7c05407a2972a75ab07b1d3d.story', '0b448080a32a90cafa136224001befea53abfa26.story', '0abff2ad9fde26250a88d66b8e0be31516a9973a.story', '0c93cdb021040f1f1f297ce315d227d430616cf1.story', '0a0d7f31e9c7754c373ebf345bfc69ec1e635863.story', '0a8201ae18c7db380e0d838e19ab73a16e82102f.story', '00edf724f0ea43618190fd4dba68d8fa60cad492.story', '0c21804b5b9e5b4bda970033632597c47fe37b51.story', '00bce25b8f2ef4d0c770e75e324e1181386f35e7.story', '0a54dd2c2b1e77656bedc98779e58341f18257dc.story', '00fbf48f477adb2f2db1f87f3ce70989fe9c0c86.story', '0a8f254aafc8154ab9f46fb4eea2409849f68051.story', '0d2d554ad3634000fb321ba0413b775add77195d.story', '0aae571431fe9572dc237b5c1f23de8bbc22bfd4.story', '0ab8806b13c3250a5a8276a1a4a300dacfd070c3.story', '00e3d6e6ec5826911966d5cec12952cd77d535f7.story', '00de7e99061acc8a7e738078a3b45df706a96421.story', '0a305b01a6c1ca10b7d7da85fb5e0c02f04724af.story', '0afb948716834bf3f020d15c92dc7f1fc9275b71.story', '0d7e005c0179f8de294f34943a09ef378423ea96.story', '0c920703047ac24b9f62ede5b76fe72ad5f816be.story', '0d11b374f343161e967b494be0fad92d020ea21e.story', '0c194b0ba3a58d5963100cbd881865ff56e0c3ef.story', '0aa190e9dc56a8367bbc271a533e592244c3b40a.story', '00b43aaaa974926a95e0ffc93a1eac61ac68cc85.story', '0ae2966ad7641a021d80bd265f5ded826cada8dc.story', '0a0737134346f195060103fd1b9bf183f637283d.story', '00fd52822ee7202da2f95e7adda4a2c87558d891.story', '0001d4ce3598e37f20a47fe609736f72e5d73467.story', '0001dc22494415d03319a6833a00cd9c559f1395.story', '0001f1fcec4ca8bc7e278607ba0e31e5cc046e66.story', '00f2dcbaf64df265065f3ef314f5bbc17e6950ca.story', '00d8be4d37b588e89720a082d6ff818e9c15ef76.story', '0bb0e25cc64c4f64e0505b9a1b9d653689e4e1b3.story', '0c20931b51419bcbe1671fb4e5e98f626c5c5d9e.story', '0adc117054a8df79b96d5cad87bc3d095e1ccfd0.story', '0c9940279cdd1218ae1961ffeacf1813b4deb9be.story', '00a37dd6e15f7b902849099000cd1d8f5d5b73bb.story', '0a924b8fab17a04d84f90538820982bddda6432a.story', '0d5ff521886bdd08f2cea2d32683fde6408ee12d.story', '0b66ddf738d8dbda5921c60308a598741fd28a67.story', '0bb855df16a04a8f358e14a196a5a934352ebcbe.story', '0a55b90b0f93bf72d9be7c55bd6ad61b85dfe899.story', '0c8347e4f5a6c65f65bc0097e0f8c647aab32e3c.story', '00d26399854e9d0a155f26ae11b7ce13041591a8.story', '0b1613926f25a39e37483c0d5154b06724888c6d.story', '0ba9a1f5b9da8def850990cbbf76d492bce2ee03.story', '0c20de787e60c47e809326ed86f265cf1647f3ef.story', '0a26e425ead52106fae6fe5dd26fb0cb33ff9697.story', '0bcbc57b388de4b3bea3dddfd8499039d639c6cf.story', '0b31eead3ca13d353d3d3b99abaf5767886572ba.story', '00a06ecd34176f785ef63d6a622c939b4829c41d.story', '0a1f1ca6ad513c6fe5c3ab468c7fa20e9b70de06.story', '0bd0962f1806ccdb3e6156bb439b8e8ca9903fe1.story', '0ca47d9cbd34f9fe11baff3853143386e952891d.story', '0a892b6d4370be11cbe4556937dac0bb33223920.story', '0b7c1128f2bf2333d12c992aff7e22a8bc64688c.story', '0aa10db691ffe8e6b27310cf59d3feb7b95a0813.story', '0a0d3ef38353733204de31cdde7069dda9254f2c.story', '0b8fabfae79c9bfc8981a213c2117e394656dd8a.story', '0ba7eb7a83c7a3bedbeae16b6edac793e01a4584.story', '0ab26e08a84604b81b8eef65b9e25873020318b1.story', '0ac5eca70fcf1909917437a4654a197f1534288e.story', '0c6177257f990b133cd99999b8b9f34a4be9e8ef.story', '0d0cf01d708cc4a41cca322b8f3a84f5d6ccf312.story', '0adba46b9f1f32ac5f6b1e6890d430512e01efae.story', '0acb5cc75e64620e6af6bcec20fb5c9f71c575df.story', '0bea20e0f0e85188062eece9d621642115c6f4dc.story', '0c350ed9291e31bfc2567cf1aea193a1af0a0291.story', '0aa984e5e1578e3c790c2aea0c5594b9f11b20f4.story', '0c26c24f7055f03b5c1ff331b42c1275515d1098.story', '0cddd8d3deb8b39fec215e45cc70a7b50ce5a497.story', '0aad58d582d5b41c715d0f3f80804409108e523b.story', '0d8f18d022cac3bf3cc6c2b4d1306fe87a2e6081.story', '0b7157861994ee14f116fefd8b50f8de5c4e230c.story', '00db6f0c1a14eef331e0bc4fbefad8da28f25b7d.story', '00cdc100bac5eb7125974770f343767395b3814f.story', '0b8414a6031d182d938e0fbf9d0a0471bbc07a66.story', '0a583f676927b3281cd70f0ff447ebe37f88885a.story', '0a0529543d29112400086de16d699cbd9cb046a3.story', '0c60c87df0f6c87b19904d7b89ab26ed63896c62.story', '0c64a78c830a6d53bcb354c1fc0da1ca0ffe164d.story', '0b8604027609fb7a4a6432e6a5e903e10a1df91c.story', '0b00c7dab3f3a1cbc658122dfec674d3b5c2b702.story', '0ac2428ec4efe942885eb73098003e148944c6e6.story', '0a5aca618bc838885189d63b3ce378d16e7eddb1.story', '0b7558fe4596d58f3b6e2c80e3d7be9b76454b2a.story', '000452ad783360e6b7c3cd993efa880328b98622.story', '0cd557e8c067628037e2522b0b4b0c257ab43bb8.story', '00db0492b95c8d0e7e1d3fed29af2b8ad54cbedd.story', '0a3774406c3964a9a87305afa8fe4ccba8be2f5b.story', '0a5aaa12828010a3b8d72970b10a6d028799730e.story', '0b318457aaa65ea22bd54bd313dabdf1559c7aab.story', '0b74ef997e50890e38ad5dd1237e08519393dc36.story', '00b17c7294aa1be00ab72d89ebeed183ca337148.story', '0c70b9702255217324971ab847ade0feb7d9cfd5.story', '0c68c974cac7c99a400a60bf14d25c4221ff80af.story', '0d9b7235e0450d7c1f3b8346d6df2882dff644ce.story', '00dcb16ab24c5701ec0f3a11f334031bbd8e93ea.story', '0b2bfde6328e003f4aa8fb24ea506f8adea8cfbe.story', '00c8747b301578541f79d23efcf96a5bad541dfe.story', '0c432f23f3e650e3a3f4c3140f8be57e9b80a2d5.story', '00ce98e7bde3cd10a03a21153192bbf794c54636.story', '0ba0171f0f36b4bc420679ee150a28e483296927.story', '0ab0cd996e2c38ae57dc2369d2242ef7a33b26fd.story', '0a8623cd4acb332479718bef2a2c4d126afccb77.story', '00a88dc9b0180f451a5da788b7217f6f79ad7a72.story', '0a45e18aced0a91381806f6fa2488f5047ed2c63.story', '00a830a7d1d01c93ce6b1b85945504d57f3fbe69.story', '00e1b5cd3dc6271be16ad7d322acf9d4814de6ff.story', '0a291bc100ada33c54178389b95fc3ab2c2f221c.story', '00f521fe06e188bdb7358930e329109c5f0c670e.story', '0c4183e69aca558b3650ce36b671bc8c8b1737d0.story', '0a1ff250144b93a7a18f498e6fd34eea88c404c1.story', '0ac611996bbb1f3ff59760c37b35644b3d6b38c4.story', '0b7785f4a06798cdab43638feb423aa4c9583ac1.story', '0b32cac0e2a0f1d2e0f1dfc32f0a6ab30f902466.story', '0d8df86ed4089ee2ae2a685795ddcc323bdf4b2b.story', '0ba1dc167831450187cb6bb7dc4da7ba18aea129.story', '0b14186510cd2d5df3da6f96046e0c5004d4ee59.story', '00d076abf438bd64f8b6769dade7108d0f0895bd.story', '0cfcba87ec060badce0d5cd07d6d241dca23d744.story', '0bddeab60310355a7fc926da3125e457e110c77e.story', '0bbd27890a4bfcced4898a87b7f29fd5cc160cd5.story', '0a2cea465442e28d84b06d7c02a0bc3728ca743a.story', '0a2fcd672d10964fb01ae41cefdce82be2a4d657.story', '0babb3ab7621044ce94ab25c9def17b1a9368d8b.story', '0b399b844a8d07a90d1a57b5377f940ae0d74c00.story', '0d7cff98f452fcdb5a990bf46a3acd06af59f618.story', '000cefd88b6f79d28c1fb220d5a3eed19514a462.story', '0ad171ce9779ed1f790890d06abc4bc909c5f06a.story', '0ca7a00326c73a5ac91decc544694602f2896ed7.story', '0c939e5bc4f315cac1e22f92ae549467ea848cd9.story', '0a171ea7ede80737a8b5fe436ed5f26807dd7905.story', '0a59eea31c8b631cda7d1a4d059ac4fd8addbcfd.story', '00d4a3c1fe63fe33d4c31ee12bd90b749ed5ef14.story', '000e0f3e7d5f803ac90c923d215462b5330b24c8.story', '00add84358596942e54e673c1611decaeebba72f.story', '0cf6cbdeca67c729a260b7c1f5710b7a1e0aefa5.story', '00bd0c70c2f923e1f9a58d18a40ff822aba2bd21.story', '0a4cc144ed31ef5ea775cbbb72cd0ad6d449dce1.story', '0c679d74c0c12e849da915926984b08951a1e571.story', '0b4e10b23388ccc7da68adc0670277148b504bf8.story', '0acf82e48b4ffd34781d0654bec63160d32338c5.story', '0b99e76fcb3924b60c3fb529afa03af36f3ddb15.story', '0a0841bdb9283573722fb8b4acdfcd8229c13d3c.story', '0b0c0ffcec76a98ac4da687000a1ff8e78fde641.story', '0cd454979da63cd9cd0f2bac24360ff6628127f4.story', '0beca003dacc92535a5cde98e7fc2d1b75b65070.story', '0becba643af116efcf270865c4e6db0eda423b92.story', '0be2e7818b9e2ba456f6d2e76e59496207e6c848.story', '0a59aaee214abe46369dff3def984ba25a45ffd5.story', '0a5185a14470c6d7828da488e930365e66b93fd4.story', '0b786ab8ee334b1e031e21b297ac43a4d3fec6bd.story', '0a32ccb8cd6ddc40516408dccb2037d4752bbd98.story', '0cef4021c0d5536851b5c4bfb8f00ef5389dfd66.story', '0b70df3eb3a8a52a0c173b1d0ad90f573b58ed83.story', '0b145bbaa7a3eab8384e7c02cd49641c4452efee.story', '0a2f6eb25833e592e33addd95b0b31b807bc66cd.story', '0bb5b766e1bed8740e57dd341987db66e9ba895f.story', '0b8c05be66276cd813702b7d9383df5a3a5d3540.story', '000bee334a505220bfcc4ec154d1f7810f9928ca.story', '0bcc2b0d90d5a115004894bf401e698a348c67c5.story', '0af195ffd069067a9ae0d2625cc512553a8dcf4e.story', '0d23ba124178d174599523f6a08d4c485636e238.story', '0c5e68fb1daadf2dfc3373fe0c96bb432398016b.story', '0c8d04b0f751fa7ef6234accae5b0974a9727b93.story', '0c846e1f13cbbd6f929ee2fbf1b7d2310f282cbc.story', '0b59cd7791831eb217050fb35709bd3c9898098e.story', '0b637e1cb4d2649ddf03d6a72b2e06c339f84a71.story', '0bb5d52c97cafc6a8e9ce9fd6efe4ff7b0b1c534.story', '0aa7d95403e4b48b4fb4e44517a91fb6ab7f0d03.story', '0b7d7876e4bacc3374d13914313bc2838fc9f64d.story', '0a149a5d94c4e1b1638535ad27ab5795a8836a8b.story', '0a649cd9fbc582d65ae94e9095c8f177681d9185.story', '0afc7f8934229dfa8c54a78a43ffa66a994cf970.story', '0a8b3953125342799f5320b450a0fccf43c48147.story', '0c19fe3b39ac056c8932f5158f9136da92d61576.story', '0bbdcb01896ec811456769362314634494e82456.story', '00ed9894e943be8d80c4264d921c2476bfec2f14.story', '0c1248ebdaddd02d9df8d7e1c8aa4e1ada8be1de.story', '0b7fa4f1b2625d0f27f6daf56fa1e3a35ff666fa.story', '0ccc2c1d12304a3c01e0a8ae7a42788d9f9999d5.story', '0a74f0cc42181e3ffd54ac5ee327a55c19bcc5fb.story', '0d1a75cd546508c071af9f1808d770cc3ddf6399.story', '0ad2d2b4ba3690595d644943e2c01b4eadb71ff3.story', '0cfb54fc366d98e236a48cfd9f66ef0a73947004.story', '0b5da3d341bddab3e26bea465b7547c5e36f70e6.story', '0b423d02a601b2c21a59fc26f18898bf1d5a7337.story', '00c13352018653a6d9eb9747c002f8b5d854693a.story', '0cb69e84fa5ec62bc809adf5b86dd2ccce55d51d.story', '0b348222017664b0411695f55abc87274c1d71df.story', '0ac6593bf796cc8a7f1f53bfef1061ca8251f905.story', '0ce5e6153b748a5ec0e1ec5f4718262e5c30f069.story', '0b7d848c8cd3a33102f995ebdbb819d44fd96fb7.story', '0af2f25b1cd91ba945eb9ea0f0457a2156e07731.story', '00eba384e59e0ec7ea489ee17cdd5a70298d7d2b.story', '0b17f2aee5a2665398b89e4989cd27c24b4e3253.story', '00ea746cab26981379bc854c0acbb90a1f74a64a.story', '0a13d89c1122321b6c56b404f53e5deb141339d7.story', '0a51473d612e9953ed66fa2d09165e5b0d88adcd.story', '0b04734c712b4c182449d13c7e606f0970b2a036.story', '0d6ba1d04d1b4144da62b183f5edf5939379b209.story', '0c42e8de65e8990c0c6511671893c385e35c4793.story', '0a1f075861b5bdfd5391f91bd8d6c113f813e57b.story', '0aaa40ded29a27ef271ab36e3862dc8f3c8a980d.story', '00f82e5b68c5165f18858a600a343fef7aa33dd8.story', '0c6798e7dd0d1af039d209855fc2c041ae7d2df5.story', '0d6c48fc2b4300ebe7f53065585c9befb2a4a487.story', '0b9cc7d2ec23c0f1a8b1488bc1bb75ad8b1069f6.story', '0bd6a79f1e1f7779a4aab68a3a5951364a7c8053.story', '0b7da64bb7f20a3a43dc9a5ab977685cafca6b64.story', '0c89e2697a1a3e975a8852e52e0ea88c7181fe46.story', '0b8b1775def1e15d1df1f3ed068fb94955488159.story', '0a5d5dedc7f62f84007bf94059feea7519c22cc9.story', '0baa2a9384efbd5b830762cf12aa61035dea82c3.story', '0d4d29fd386e83e7e841e70c1459252e712ca12b.story', '0ac81d533fcb7aff344610b99f276f9b9cdf85f5.story', '0c154f1a0f4c80a64695c3505fbf37e3a284ac99.story', '0c657a8a1e206c94ac3495896047ff55d4880314.story', '0cdd89ce7dee10d07b7f5b2eb394eb9566b870c6.story', '0d2d69945bee510de433bbe888b1d77c4c11cc7b.story', '0c685b6be4b8883c1dd86d23e59719dc5aeb8592.story', '0bd64e4636863d39471d3dc03dbfcc09201d717f.story', '00e761a397c49787ae5b01d4a5f86a12b3563f2b.story', '0d1c4f5f2fb0a00748d4f94d43ca07b5ac87bd0d.story', '0cb7b7acd2c8a78d5c3ee56039aeb1e9ca2decb4.story', '0a05286a1284ce22a4883255a8d76857ac4393ef.story', '0cd96cc680ac812f9f5050cda28ca03ad5cd496b.story', '0ac5f00dbbfd0f87f8ddd5505f063e54901a61a9.story', '0c70d40e238621459bbe444592316a01eac48203.story', '0a362514953e70ac0d9188937c2e5bacc8823033.story', '0003f6d029bce7b5b4fa6cda724d9035bf7d50fe.story', '0cd118cf9d55beadcce0ace001cb1379d5713d91.story', '0b9bc534baa79296f3856e32737d138425e0c6c4.story', '0aba850f27661fb1330dc2f0ccbdd7836102d319.story', '0a7fda356d5dc75fcdcf45f454b1e2a8bef2ff94.story', '0cceb525598ff33251dbe0fda57f0872de0188f2.story', '0c417fe1749429bb50a4b3d571914e8ce01a30c7.story', '0c87f82b971ee814b1761cd0f42a2d9184d93887.story', '0d2e5117e46f36b148098452ca2d67daa142767d.story', '0c0540c079e1c65c4ae512e20a0cd922cfd5f129.story', '00d0e06c465e913d95b98d5f3c2ea6de367defcd.story', '0a73543e54cb7ac31e4915ec0aaf1ee8fc3463eb.story', '0c593f498becb9144035e0d57c9571dd796c3c57.story', '0a79f2127fa07ab9d103da88ee4bc47455b9e7bb.story', '0c949224849d7504aef53ad23da31de659c1bf64.story', '0be15e08b35ded27d874f64272cbd0844a63f830.story', '00de513ed76620c3160d7afc8d430a046afc8956.story', '0c5cb35ee07b7cf6f0d3eebd22ed7060e4653845.story', '0ae1073f4379dbdf1a02f8a9e42cf26a14cf9010.story', '0d6f3f74e7b5373961c9cc45e3da6b338d571a6a.story', '0a19a7a660b79fa418c1781aa02fee27401e6a33.story', '0ceef0b6574eb4916435d159018ea45ffc807bfa.story', '0aaebbec5fea64cb92a67650b802d64cdc01a579.story', '0b6b26e2234878a3ad7713fb41dbd22aec51c811.story', '0cc8eb150a0209ab98bb4b61fa57082187733a7e.story', '0cd5f971bceed4221599004dd5e4b6f9a3e45c22.story', '0ac5d2681902e9fb5ed33d85ceafafeee8f4924a.story', '0cf0126ce0688d8b6ab5efb4171fa8e9d46a41a5.story', '0bbb14e5a064465cfba984b8d4f755a58a2aed48.story', '0b2f2e2052f75f0c5512029b38967d17b1160af9.story', '0cc0b27d3bc5179d0b9211b133d29c772f72f13c.story', '0b61e741ba39688131f32c2dfcabb7ab59565a01.story', '0b51386155502be80b6e782c7759395f6e791e56.story', '00ce071198313a8b59747b8c3983c335253565d8.story', '0002b6c22d2efa3af4971f9d515178bb89e31934.story', '0bd0a75a38966771dc9af9b73dbea62bc86b890d.story', '0ad869f82541a9c3884c22c562e2875442b5d631.story', '0a169f143023770236a7a7c996e2578b5563e045.story', '0c522798ff9db3a4800790a996733ef51db5dff1.story', '0bd570feb71b379f6a13d9d30d9fe7326d497345.story', '0caeeb975f72d3310cb9452ae7a6798bb58354e9.story', '0b8910153305192e466e67d154f880a13df54071.story', '0d17f83aff7542f95994163b6b99acf8d9b05d7a.story', '0000dfd9f52a470b9f29957686c2704b68cd0635.story', '0b07c040f71ad9f833d45bee927b6ecddf25e6d7.story', '00e8bc66f1999725698756817e26290546af52cc.story', '0ab025a2aacf0ed04bdd7064f1b7f6e4e421a2bd.story', '0ba62bbe855d6673caff8bf0e3c8c789faae5588.story', '0a33f870cfae51a0a3c0100b9a1bfde81b19d681.story', '0a206452b3ab8a287d22554aefb69d3eddc75394.story', '00a3121ae106ce18379649be9d61faaf9b885ea7.story', '0c39e5c10ccf7fabb6ab9b3a0a03f0c85c9f0ebd.story', '0bb902e1b1cf7394980441d27300328ffb3f26e6.story', '0a93037d2ab9022046d5cb8968a4e6ef3b2edd7d.story', '0abc8d19ab6c718b214c9162481353adce54663a.story', '00f302f90cf3fdda95f0e1c661a3ff6c56e3fe34.story', '0d3c5190155c886a719848e075923e2f3ddbe2c1.story', '0d7ab753cbb93abafe7e991dfb03b48acce9021f.story', '0c459d54a46f765a18211d4dae5663622b0edf2e.story', '0bcdbc821f9d88269bf3b5fd424a3d13bf4f55c3.story', '0a141d49171d5472b4dfb325e4dbcc44be8fdeec.story', '00f89dcb70e0e9c471cf184ee74e521a9422cd72.story', '0d6e3eb484efa90f45ad1b453451415788f07f92.story', '0a75ab713af545d60bcf5161639f2dc98cd66837.story', '0b46ab9ffeab6109246da65745cab285e8c3aa6c.story', '00ddec51e47230b02908a61c550d57c20d38c291.story', '0b3e2e7e38f8d5259ae4eb9ec747d8fbe194312f.story', '0a0e9a83900e1d135e597eadb910450488d56cbe.story', '0a8c7756686be8d68f4160ff28d1a94fc074a3d2.story', '0a7dd99939f3a9a814508bbcabedbd2d2f1c0cbb.story', '0abaac8d7bcac4a9241a9826566e9fbc2b3d569f.story', '0a36d1f80e8bb898aa46415b029f62a44eadc9cf.story', '0d5f9667db4824668c28adcabc10fe19388bc89a.story', '0cc14c9400f542a3c5fd6deb54fb5983fba5ccf4.story', '0a299b9871741c929a025a8510007179c38366b8.story', '0d5b6688bc2eaa6534567c8a40697aa7163b7ec8.story', '0c04c53794b7a2621af3ebd8182bb2491a6941e4.story', '0ca7bdbb6fb24af5d7b152559a04b48b090e07ce.story', '0b9bddbdad54ea9f5fd7cf353de9b80350c2aecd.story', '0d5f76230df845669a11f37b908deb00879f30f9.story', '0d9a3e15c220c652155c4abe98a90cc97501d426.story', '0c579358c6f84dfcf13b15147bee75eb85ad5336.story', '0b5d771dafc8a5a62226e2a464e3d0dbd9613b22.story', '0cd7142de2a37da73771ac16f043069848e73e36.story', '0a9579e03fe2d519822f2c8eee66251c372b2a0f.story', '0cebeb5d5450db8774d15833808398da0ece6cbd.story', '000efdbb001fd19666b37456e239c78c52908655.story', '0b919f95d01093b2d14e4d948e2f0db2fa435fd7.story', '0ca356bd18b17cb6164cbf857829aacb70908946.story', '0bd47d2d821ef0ad437f64bff2316905ca5b17c9.story', '0cbaef3df36f5bc05ddc4ec535648fda13aeea5e.story', '0bccc06f24d342002044bb982becb639e490ebfd.story', '0bc12306bdd3f2963b3765a2eab2b78d54a89bc3.story', '00c647fafe5499986d71d8ee7897e3c46ce39af7.story', '0a1dad8b726343ae282711108174dbb9cdbd6fc5.story', '0aeee910457603d9f1fb9481e9504f3c19bc508a.story', '0b27bc040ae2f0bc8f1efea280054073a7429869.story', '0b6577ddf86f920447a6e4451701b3143a3e5ca2.story', '00cca6472f8b6d8c7469051c5159d2d4d6c6ab2c.story', '0a82f7b50ccb0999fbfe33e7bbe4a6ea0d1d4ffb.story', '0add3ba5b5c031c96d7096b0eb50ce9ea94b12e1.story', '0bb31ff83eee5638eb87fd669ba12e3d31e0373f.story', '0a47a8cbdcc87201950fd6845fd2d133c31e6889.story', '0d08f1fb3643c802602bf207b5e1f11693cef4e1.story', '00c5d8495ad4b68efc8806f0b1056f4a0149dc2e.story', '0a4f3174098ee89944ef5a84751d33a68c015aa4.story', '0ab20257b7485ad8f70e4e058bee7c54e5d81bdd.story', '00b1a843e1c0c857abac67f66baf78b65ee3e792.story', '0cfc97ad8a910d53f9c76267d2e6927353557bce.story', '0b044734c205d8de1013811fe2ecf8277776dc69.story', '00f961a1b3ab8ea11068bf36acb587b3c3637beb.story', '0b2229a610f79d70d1b4620656b7bb38bd1046d3.story', '0c33ea2237ff2704bb15da568ab781b0c4f8c890.story', '00e24e52a4c7a0a56f2586ccf018ee3f7188e81e.story', '0cd13a5f91a1b3b2436eba58a0623b708e764159.story', '0d3e04aaab6034493589058d27fdb0cf6bd7a916.story', '0a8d6552646b7b2ef3e533ef84c2a0b14145a3cc.story', '0d11ea7bd66cffc7276755492a011a5ea38b6fa7.story', '0a0beabdef4146beb1171dd9f927ad70c2a08317.story', '0a3d6a520632b7ca2cbb21c6b439acc0a7f61f35.story', '0a6e84d7869cd18faa66fc6c81f87b08f3d36f68.story', '0acbac7e44d7a512382776773a857784d88fc16e.story', '0c04d63eab28e30df556c7a32de270fb781b790d.story', '00cf234fa3eb16e2d052cb50cebeac8514c5a35f.story', '0a2693713a5afaa217571e2583f8a6ffa9ac6410.story', '0ba5ff0b1fc4a6be72df3505dcef0eaaa3547f1f.story', '0d07eb3aefdcda0506e3d7d76fb63336dbc1dcc6.story', '0c202e9593044f17c893a6eb0c1a01cfb97e8dac.story', '0a00f0dc35f66ec29ebecafbbc1ef6a7e0d383db.story', '000064fee589e5607c1534a69f852d37b4936cca.story', '0ca4c80c6dbc58dd904f5201397e7e4df874370f.story', '00b0b29518e5d90851949ab5644d2cd897f101e9.story', '000e04bb1b0e8c07dcb89c5ee3ab88d815a7088e.story', '0bc78d716469b0aa67fbffb5c2e1b3fd218ab535.story', '0aff5d5858cf4eb60be1e0ca286630776a24e121.story', '0a307f195c353081a016be6c6b27305bdc734610.story', '0b7db7596f6e18c8e6f408a8fd9f32049d7a68ef.story', '0cc6185351ac325d20b3f4f1a29b912bd1865066.story', '0a78a8b007c618c025cb7600154e93e070c7ffff.story', '0bdce7da8949fb0d4e9974c0331d3f213f42a18a.story', '0ae7c0b8d96f9b645fc1617183e1f883979fafba.story', '000e7f26e4dda517050bc09ee8d9a08a3b2334b7.story', '0cecf48393c3244656d2fdd1289994e389bc525d.story', '0b72434d8a80763a257038ef0ad4b436a8613a8c.story', '0c13f1efa97c5c0e2bb61ec02db1493edbea09ef.story', '0b8909de623f09a5cbdefe46fca739c70874449c.story', '0aa4d6306eb815de3b0652a44eec0781f4281d14.story', '0c93ab1d7361dc68b729b63068c6acc92b24ab4d.story', '00c2d59d3cadce1dd3dd7e6c26bcf95a3b04123b.story', '0ba7000d3b2cf76f33a25bad192bc48d89ad3fe4.story', '0c3ef481a1dc8480c73dc0da49735a7750e25af2.story', '0b3911bd87ebec81aabd01c9c94a0e89fb6c9724.story', '0ae36f7045624998a0c1795a165903420d0b8195.story', '0b4b2a99d4b1762e6e8aec75b2d985d5922b97c6.story', '0d8cc5fa2fba75813412fd27c84a30fb2e2fbdfd.story', '0cf3569634db053b00a60180917d038bd7a69315.story', '0cf0ce383a3d6441d0b4725622639d84c92b55bc.story', '0cce9ddb1a26b4195133582555a0eebc46411fba.story', '0d3a9ec0c0b72594670804535e91e16068adf319.story', '0a8d11052bb768d684d798e59a780f6ac40b54f7.story', '00ab5e22162419e59d2a014ae1077d795a948b1d.story', '0a55f8a1bfa9d6e5870a8cee62a3e7a6a4c10f23.story', '0a459eb9164b45589795af3ad7c7f6dd22685af0.story', '00a9a5d559bf546da2b47d3bcac08ca655bc683b.story', '0d2a0f804bd941ec97cd2a73175e17d8ada8995e.story', '0a06659c7c5a574708d4a94791004ecc1777e694.story', '0a3ef7bd4e7e996aa5b9e3ba21dccdb74e112a19.story', '0a00a9aebcb754c51534867cf1db2335dcb76884.story', '0a088743f41f63a38f148f553a2bfe19711a0279.story', '0d36d8be7cf93629fbfd92d94b3e19dcb427e17c.story', '0b7e0e1721a2a3addac50a7f26230af4ad98b538.story', '0aab154dbbee69221276760825eaf71eb9af28eb.story', '0a567f00ae7f3344fe76ddc1455ee23246f40f56.story', '0be2e9d4cb14bb8b5f919f2176ac66c1263c6504.story', '0b3e0d480f74b2454467b464c0c4461064e59331.story', '0bcf218397cb0159049d9e7b38fe5938dcffd20f.story', '0b3bd183127ce5fc184657d20a80c8f15299dd3a.story', '0cfdc50c21a64ff323b7a6a17c1299222ba6a49f.story', '0af13fd0d301dc6c003ee344f1c967e1dd2b25b0.story', '0c3c8eab5ca6f9693f51cbde1e215b1902f498ce.story', '0d8d217d7c0d3797ad48243a434842569eea38d4.story', '0be898c81e567c1dc16d98a16dd009e9f63e0276.story', '0ba2bb01f3051d0fcdf79727c0f9408ee005fce3.story', '0a06d12d4e59f73094c0f725e1f752783c446a66.story', '0a30f1dab280278f219f117b2da07a163ebb42ed.story', '0c30a2e939736cb3fac469c30dcdefd3003c6e40.story', '0a570ba8071582d0c28cf375331b54ce006eb6b1.story', '00cbbdfb7f63d65d1319a890f0bd1e5345d236d8.story', '0b6610421bd58dd681819bf653ae886113e03a8b.story', '0c4926bbf208d02923d0d49abd828f57c3ec135f.story', '0d5fbc8840f27de7e06a28b88514b443a3204c6c.story', '000aa22e91eb207cee18b28d4135e1892a69f6c8.story', '0bc2468f25ccec36fb002c69b2b6139cfe4bbe11.story', '0aa234f5d8ad8343ac1a7b2cf68f4f4900a01e1d.story', '00b99b007b4eeed74e05effd10d4b91a5f40e47b.story', '0bc5708c6c0520e08269e0cc579e55fc5ed82bc8.story', '00c16ab574705ead4869a4d950ed427aec181214.story', '0bbfc9c7392ac48f020be30ea9de8234a08f7072.story', '0bcb7c9cb96ca0a3a36daac06a1e1410dac8b269.story', '00a27d372cbd2b0003f1dc1479777d47d67447ce.story', '0d4c15712bf643f634982866c98f670194ef4d8e.story', '0c46f93387c3a3662fac87ea9aeca10042d7935d.story', '00fdd048c919ed832fba66905c51b2c55092726a.story', '0ab4a47f22e233ca92f29dc3f5b4c4676f6e25f5.story', '0aa3f485fc90360a8f7843259faa3023eb7d9944.story', '0aa2cde59dd9ac0575103ce928f42af8ca141f97.story', '0b440fb05acbc6cb702cec2dc55702fd87cd4fc3.story', '0ba0a0aabe85944a6c4db6b4fd94bb0bccc08145.story', '0afe0f4a10970b6e0daa57d24c60071eb16dc346.story', '0c69ba814394897402e85bfc66f1a62e354b78f2.story', '0c25a5f48194feda56318189e4f05781967504b2.story', '00e87c1f7b9513d6ed4565e6b1e83e2716747a4c.story', '00ecd381468fd506a2184e9f4521e4cd8787950f.story', '0aececece6603828eeaf260659b3e819c6d89825.story', '0cf988e33be6cad7920a1c571d67042ed0af940e.story', '0be390f465403addbca520f303b519cc498e9290.story', '000c5ee0134182945f21c67d4e8af59259cf77a2.story', '0bc127260f67a1f5ddc8aa451bf2c5c465b1db28.story', '00f9f54d4af8f32cb287480b947d7207bcb17386.story', '0b7f41bff45ac44a609afde4915ddd440e922b25.story', '0c3f077784cfeeef3dd9fa82375c2767833c5c46.story', '0bdeb925b6853b75011848dc9c4dd775c164a2a5.story', '0cea48b6e799524cd2f514b4e91079bdbed7fadf.story', '0c24c7d6c125950c9d6da01ae1ce71f8b28245b7.story', '0ab09b35bf35d1be357a0365d3592a8fd0c1a3e5.story', '0be80f97c93f3f2355b7278ba7f1a5206f81bf2c.story', '0b0318217384e7587ae46d4c19e05d2dfd27c74b.story', '0d21b0b190a5fb42b57a037e90463084260be892.story', '0c13d97e9eb098792494e0d84666c4975620c472.story', '0b790ee47bf6ada0037a7bff77a8d78210e02e29.story', '0c06ab01ba1da1cffb361c55d8244c2b9e5845b6.story', '0a49f4179aedcb28878f4f76f651792a322cd3d0.story', '0b261927c5ad07c2dfdd4ec4a8b0fbbe2e24cde1.story', '0c76d9b63ccc8749a67eaa0610ea5eac97785c93.story', '0c08d05a00177afcdfb407578169040aa7be8bad.story', '0ac7b7d6d99244391738b882ea0eee467954e4fa.story', '0b4bc537204d6a7995d1f47c040d2e5a56edf795.story', '0a64cb2ce1907a5d9a5c096a3ef155fec3f9ac87.story', '0a45bb27774af6aa49b37b518893e90b1ac3acb8.story', '0b78fbb03a25081f1b250f5aed3ca471aefc0b51.story', '00ba313a439b8346c0897c8fb3043ac4c662e278.story', '0a6f8c160d746adfa833d2a3f1e49614692eac7a.story', '0c66ca128788325ad75e9bc94621b3b259772383.story', '0b1ad227dd7e03a6dec643fdb3c9e272c5f46bf9.story', '0a0a09d3e5a0f04d792a7d950af976ed7f1a2de7.story', '0cb4dc3577d5297269949186ed7e699713ea91bb.story', '0a62fb4c8b5a9f8bc129527cb85cd05a14ca2c8b.story', '0a356cc3e8cf177a2396fff3a565b09307d290a3.story', '0b881bb0ed79e01c7c4c22a98036f497d5654470.story', '0ac8da885d111a70524558202d0971b317c80890.story', '0cf3b4e053f612bc9489751a72aa1fc38ba8d6aa.story', '0c26b614560fbdc4e6f1e47a619e11b8ea8085bf.story', '00ec3ec50c67ce4528da13d853770251639e8731.story', '0a7c42943a923649a23a83b05f57663ab5075a9d.story', '0a556982f08356cdc308322b3f022d4313621804.story', '0bac7ae65888872986596a727ca077ee855e695e.story', '0b225e26d7adf9d27575e1ce78a19fafb9a20e22.story', '0b7a4aae6375e99f8c25a1fa1926eb4f075cc9ed.story', '0a36ecddf5580f50d4bc87ac0aa30bc3aff62498.story', '0a57ba9b78eaeab207041a0a1f96a6707c4e6afe.story', '0ad46d5b78bdca1ce185ef692878b193c10c0e4c.story', '0ac1d9a5d2c43975a17a2270bbc7ee7eb57b9fdc.story', '0ce5c9b4fa606394cf56ffc7dd67c010176e25c8.story', '0a00d5b9c9fce638cd7d7bd010ecc2cf09c01f5f.story', '0ad0cc7a21ab03540a4ccda68729514c92beed14.story', '0c8b748dcfc405a52debbb46e6ff47d8c2792461.story', '0ab9a0db52d703115f37d8a1838215c3737b21b6.story', '0b21c2515814aa80df7fd6ed40e317f359c73ebd.story', '0c892a97caa42e03b712b0fbb09d55823a8ded8c.story', '00e7ee3a6a62db48690b872e01630c302e9c1b83.story', '0bee5f8948dbee73f94b1062c434f32e18d41b8d.story', '0aba76620603844105544a3676f8b2e7b04c3864.story', '0c8f92a9f957ea64c34f54660863f78fe8e3817d.story', '00a36028b3122c73f031f6261713d99f14080219.story', '0bd25a45e83bbb7de92602c48ba0ee3105bc4b38.story', '00b421b452ff163c685f0dd48d455aa1e36cbd14.story', '0cc147f2ce0e957146e3c900a1d9a5a6cbd5b33d.story', '0cbc75c827341522fdeb508a47e16972b10d0ce0.story', '00f72087f0772310ab2926acc4a31102e51050ff.story', '0a0d3d881a76af0c9a4ecdd36fc3c8f3f7f90531.story', '0a8eba12ac5ed1144d1bb6b1189fa27ec94300dd.story', '0c82165c45ad4e6f856f47cdf1cdc9c83a6dbd47.story', '0bb55919fb2b9d43329a98032ae930b2ece4e2f5.story', '0d3bdfeb3e542a30c1fd6c17de12dec15872c099.story', '0cbfc95ce272727219f5cf2aeaf398b33855f7e8.story', '0d9fe9adb5e2a272c38b48fab5d1a7114de183a5.story', '0b99e12181e523d459e51251a8269992e5985257.story', '0c85427048ad7220558b86a3c7420556de9ce8b9.story', '0c579e95a189ff7de8a970262edff8031fdf6b04.story', '0a6e28e9ae1781dc40a4cd4ef9dcf87815287fcc.story', '0af962ba3ef9e319b3df4b7051007efd8477918e.story', '00a2367d4d18cae0e54116056133850ebb7e7ca8.story', '0cb98e5efba7955d775e56acfd61640f1cb20ebb.story', '0cbf12a3d29ca4f31db619ac5ae2485f58790506.story', '00b40d37e6e97472fcb68e0a2e6904f95ab2bd15.story', '0b50fe46ed707d5b594b8d222e0113cf121392e5.story', '0a031645cd7156a78389f4d7f520c8fb121a8a37.story', '0b16794a339ade7627d2f15eaaa61e389b5eeed8.story', '0bab8d44bce1f099a5aeb87611f57fd7d49df7ed.story', '0a8cff3711466ca26951778c982d468c3142ee4a.story', '0a28c8534a9a42025167d95a7b8a10a9715918df.story', '0b9463c6199c4b0916957de738ca216f60b6162f.story', '0bebca6f8bf8ea7f3c34cd46e24b001d1182c039.story', '0b4d01250c66447a6f3b70c01d894916fa44e401.story', '0d2d002e7bc7e11418651ed0921301050dc53a60.story', '0b2033497fffeb4dda0b14f623889aa1cb944557.story', '0a508fb52771a104f289d61161b9bfe78972467e.story', '0b8c4bbe330580e5cc7853d75e64dea1d4df56e8.story', '0a2fe52ceb61cc3bda3c6514599d495ac5f0a2f1.story', '0acf50911732154986d754da646757b7c42508cc.story', '0bbce691c8991696fcea923c7b3a707cfc118969.story', '0b8db0a97b45d02cc6faa07ea7e609e74265390e.story', '0a544284fd04e535279e310eccf5d9bf38e82bac.story', '0b4b47f9d9bdf296106258da3360877225c96447.story', '0b90a22c1b72ac63111eb4c96ecac03483625002.story', '0ceee53e356dc31c3b1939d2c82af5d0710f34e5.story', '0c6b98f65b325ec1b036f89b1dc9c4a0dad12e94.story', '0ab10e4d8d98d8202ae1bcc562933c218b644b77.story', '0ba2a87c370c84ad56451b781a929b35092530dd.story', '00f98010af008e98b6d3a6538eeba9a157364176.story', '0a6fda78e19cccfb7fd75a952e2345e29daf5277.story', '0b95bd0ff7b9d14421fba10a50634c26f3bb0692.story', '0aa6ead85dcafca1ebd20b466c7dc758b13378ac.story', '0c4b4a5cc748287a09d441ba750c74257e81c60e.story', '0c3d7ccdfdc813a5a7706f641e63553911b4f8d0.story', '0c492a9f04eee8924282e4d5fb36e1206f0736a5.story', '0c84044d3c92607720e93e1aaa8712918bea91b6.story', '0ba97e02dcfca23a4683b79b46d98053019aae33.story', '0c92bd25f8678f5978cedb631bf5e3fb5411fee9.story', '0bda91321589e3a4f036ace349e25dc8efaf5bb0.story', '0c012367a5cc4c733d7028b982e47d4090bd326f.story', '0adb402ed7c16ccd780390ae617448a935b9102c.story', '00ada4c6ad4502ed689a8c72260b99bbe7ceae8a.story', '0cedd83bcbdb0fedd6ffe14949c1f9a164cbb5a3.story', '0c59303853971617707bf1ac4457b958a2ed8983.story', '0cb4a420baa013d0c61e2e1d6512b33c35942a2c.story', '0d1c71028f44f93467968e1d4406ebe558d4f2e6.story', '00d7e25ca69634e8319fe815d095c07ad2595436.story', '0cd6230132f32857bb8342e336ff597d421ef471.story', '0a44892bc9aecd0765af0f1d3ac7515a7f61496d.story', '0a2b9aad7f789e91a9941aa09c6eeac6c978e7d4.story', '0b18058bf5790486633a0d86a70990977bf373b6.story', '0b9d15b6b50abdfc138c1a02e4230fe4f1ffed75.story', '0af8e1b650a345e535550bbb54fd891230ee002c.story', '0be183b117a0133b2ac313b68c8bd23d2a4a26d1.story', '0c614f2fa6f35f50ad6fbe131dee13a82b1a2f0f.story', '0d3b049b11b4fed737d8282d508682e61f724c3a.story', '0baae269973455ba421da1414db107fd7a1e2f00.story', '0ab17ae9546426438c6d5c2f86a77f64b5d8d04f.story', '0c3c28998ead6c56fa9c849eedf86d6b0ed155b3.story', '0d36a9929eb0f5170b1e1a74bcd391a1641701d2.story', '0d3aa9242e972d18be960fe0d8570dd3146d49b6.story', '0c7209a423fdf75c57ba7f900c8dcab81143a416.story', '0cc36931e81b9cf7f7809bebd75024c7d85f043d.story', '0ced434825fd614a6e5cba377ccbbf2879f173fe.story', '00cfff258b31d61d460a33a1e9286b45c49fbc82.story', '0a57de7f6b905b979d5bb2193298f53e3f93d551.story', '0b8da9ebdab85be665e65432391d782911b49c06.story', '0b62ed400b8045d62034d0a934815661f3b3eca9.story', '0bcc29e34b18b2805f07ca2c40ee90cc99ce4c90.story', '0a50b00e3334f6be528e031091c4d655b0decec6.story', '0ad523554f45c8150ce4d2cdfdc96566795e64af.story', '00f9562574d519a80cea6eeaaf68178a95ec2228.story', '00bae10bca77647d3c06e575eb9dd17e60787a2e.story', '0a7e0cb7f6e83210f9ded8a17e774e29ceb9ecc5.story', '0bad9feb671d0bd84d8d0a6503beaae689036a8b.story', '0c90b01c29b86f709409d8e3bf79193d443cba13.story', '0b46d7d9dc6f564d9c6fb39eb874998102f885ac.story', '0a0d474576997a78e02b7a8fc57a041033841c2f.story', '0bde5a29b58d98e7794e5553856d73b4c48f30d9.story', '0cec67295f812eb2293d48799621ceeef94ea89b.story', '0b847a4380e6939c0413099eb55875c5712fa83b.story', '0b858c0731950b3b23ae1a9dbc98c34a69af3dc5.story', '00e09c382e7a5eee5124988a8103e05544ab391e.story', '0acc4504701074a8dae697b766a1df12be3257fe.story', '0c10f14ad88070fba5d7d51d595faf06be889dd3.story', '0ce204fe7c84e3c248b1dd5d58745e6e59fd8138.story', '0b7f068a32a85920449581873ff6facfa5a48c4c.story', '0c6570536e8306e7da0432c3d66880104a643b30.story', '00a192777270173cc659e972cb3c30222af6c570.story', '0d3cf0b45f947584f2d3ad0d70cdd706495d4e9d.story', '0a1dd550804b434ab70567f7ce6bd0a683233d43.story', '0b554ddb5c082b08912c692443108c1c3ea978e9.story', '0c9e69271d829e47ee03b8b149e957a7dea7ebd1.story', '0bed17d1f58e5106d725bfcf8afb563364a4df5e.story', '0cbbbfd8e51b9d453e5fbccf016671b9a09ea789.story', '00d8309d802e039c38d723ea81f82b17062b3dc2.story', '00f2cf4fa57c91657572c921e3b32cd119053f9e.story', '0ba6f6367c87a531e296bf14bb43ab0ec5367b17.story', '00fc86a6cb1ca64513ff53f3ce0aad7225e0eeac.story', '0d1fd3f1713e4469ff8180f25ae869dff14bd0bd.story', '0bad3b057c4c92e1f63a2b0e7f2a68a6ed3de7d2.story', '0baaf5aebfc5915ea7bb3119b7dd860fe22792d3.story', '0b69c99f0372a07e273d4693edc25b8d4b266246.story', '0c74a1530b54d95724fbc0b15f80cb5219e7e2c7.story', '0b27a5ca8c19da3d69bcc5f6c6d625dbd1ffb077.story', '0c3410b34875b9376dbe0b5539e445c49c2ff85b.story', '0c846c2982a73e701d949dac3f49453944a6ef55.story', '0bebcc205c9f017c9e50e92dd749a9c4e760efbf.story', '0bc3de34b53af6f5a36ce26f1db157de628ea59c.story', '0b9d5d88f8085fa73f1f5cd54bb4969693e1c64f.story', '0acf9b6a8434c1bb2cc8d58b153fb07d3715bf75.story', '0b158fe9785402fa8616fc1c00bcb4a90f862811.story', '0a45902e75083f88ba647d3c1289c452926bc5f4.story', '00e0166181ad525761d12de5b6632389620bc63c.story', '0a1ec1c156d66b3e97822b28ffef50421c3bc4d6.story', '0bdbef229a89ab82322e9e016514480f6c805341.story', '0bbb5b7b8cd6d41cc621eb9b3716c154d6ce8f76.story', '00bef814f7fcb3021a5d50f88264c30455a0ce51.story', '0c961d36c8b0369044c8b0c7c1c3047b3b32ae60.story', '0b01585b47904f5a456027e1c305f35b99786388.story', '0cf60f1dfa6e3f7a807d247fc98a63309f4df16b.story', '00a192e04840be9e0ea73e9227cf340df5574155.story', '0ad97e5ff4fa446474a57d814ea46f7741211a86.story', '0b311725e590d57c33c97c645ecf5a9d04e900ce.story', '0b2b28f22ba41e1ca842bccb5c6abdbbcdfb3770.story', '00a1c2c7394101bbcefe155bb793af06224f6559.story', '00c7d102fe7c3e77d2c2c1b1d7bfbb0cee9c7954.story', '0ae92c07a8a3bc77bc886a4d01606c4818bf1947.story', '00d7d55b3d05a8a615706ce777f5101266429109.story', '0b67a6c43004d378770063a254ce7f6f2d99b7f8.story', '0b025fc57380060743ffa17399995da1569a614e.story', '00e6787aab9af959eb10c2b83ccc4672784fed38.story', '0d6b81fdba939ae6d57ab1e49458d37d6a1dd3ce.story', '0c87bcbe9b4e3e8e490b1a7c3595767229a14c73.story', '0ce890e4a663d43900cf5b6ad5cda61c8c1c6885.story', '0b6d1db4a3b8ffa542fa1bb7c17f6ef1e77422bb.story', '0cd96548b8dcfab467cc799bdc4b4b60a013fd15.story', '0b28e80e1385a5bd7b93d7157d613825062707f2.story', '0b52f9b9510eaacf1869d330ab69375929d8b866.story', '00a982a2663b11b752dc68a0e4e245762f13c446.story', '0cd2429cc28944b9d800abb9b643baa1a7de4712.story', '0b69beffbeea8cc1ac3864ac3146ca2dbe023604.story', '0a4a9488b5e913b1de866446d53073d113688768.story', '00a1756d82c060d8a7560386040c38c804507166.story', '0a01fd7e28f20ab4d9b17b3ed58647bdd652838d.story', '0c197dd029fba3538bcbc85ce47fe58023eee051.story', '0cebee0612e8cf988984ca3c30d759f2954b1054.story', '0b0e71f10dd8ae89c32635b66868857310292d6d.story', '0bbb4f7d45825b6a8d2d8ab475719f9cb152ec98.story', '0b46e0eb265a7a97380e87f9554f7e372503d452.story', '00c1c0d01f1b7de221fadafafa4a2d5db4d7c2a3.story', '00fada532cd8466f8c7d1cb73d95db7736d59e70.story', '0b5ab3440c9d460ef6a0a6e04b4f44f40f48ef36.story', '0bc94f61013bf1b8059b3d5499ba671c5a387539.story', '0b05f7687591e1399b630712a0fc87d4f15283c5.story', '0cc3b811789879dd7e0094dc2ff457a45d8487cb.story', '0b8a2bf428fb64c98148e146291b2b6736e5c430.story', '00af52f4d147861696cd9970cb9a2e8b394a915c.story', '0c817826e644df9560a7a74937b1bb3b55341373.story', '0a7bcdaca57b803c49abf26ea9ea35910793e484.story', '0d4f6f98115ff72e19de0c44e9f2efc8e2ab5973.story', '0af7b474187b2888c6f24fb713373d5e424c383e.story', '0cfb2952467adcbd333312fa1be753d89c49dec5.story', '0b30da4974c4e162c409ac8f27a94fa5fea7ca57.story', '0c97910ef2bc497e816868b792e68fb90dc516f6.story', '0a88bc68b9c617ea2926f566e68783546c1b5e25.story', '000f9a3513a610ff46580007e9ef7e9dd0bc9fef.story', '0d1be94a7393fba0d0d6dffd89924a6069e0c8da.story', '0cd06f54039ce84942264f961e98762c5ef41f8c.story', '0cee6fa91010921ea70e4bef6345dd56d686a033.story', '0c8ed5528165e5071c72d36614294d37b189a44a.story', '0d4b524ceb2527c5596fd654a51d7f992c69363b.story', '0a004a10ed29d234d6d74dbfc49a1abe1be7c7fc.story', '0c4d3ecd1088b576745e6bfc26eb9a1d3c2aeecd.story', '0be54df646ef2247ae68972cf93db85eecd0773b.story', '00e83e39b4cf759a26e998d5af92e730ecab43f8.story', '0b65ac03ed254aec0234361509746b11ec038aab.story', '0c38ad7d7700a8a478b1133df7f9064650defde7.story', '0cbe89780d11cf8bb3e13b1c097ab3f7b9869a39.story', '0ba2c239966677a38e1015ea05563ad93b336f84.story', '0cdd7cdb5d99c36f25f1f4fa0e962d558f7ff07b.story', '0c38ffdc3ecf0293dc05df41edcd5386fc99066d.story', '0b6d356cd30d842ce28dfde22634035c00d698e3.story', '0c7355ecb428344dc648cc785bd67e3542b46685.story', '0c69db8d005fdd3f633cf0d701f7160641df6a95.story', '0d8e3c243376100d6b00756803f1c571ca2de256.story', '0c305ca61bb949bc6cdc77af04890a1c7fa76dbb.story', '0b76f86e93494c46eb59d3ea7a66b1ec062b794a.story', '0b899ebbb5feb3cd152bb9d8a0f413a9c64bf8ab.story', '0a536420682ce4a3fed33ec6455c839b750961a9.story', '0bb0ca164867a9ef308b17e2e3f435de9bab61d0.story', '0c18b0de0a25a68bed346b923f0d02c4a724c268.story', '0bb1f7f0f98331540f54f28416feff3ca5f259fb.story', '0a5c11ce90e0f56d62ca54dba4154036949f65eb.story', '0c45968317e5cb3e07015d801f9f46308a8ac7d3.story', '0d3c9d1d4375038113c34848294f98dda5b77f65.story', '0a409b52fdcfc4504ec0dc8969dcdc64a8d0787b.story', '0ce5fb86e0df24ea9499f25e203a1be374a40fd0.story', '0c5c315558c3dbfca1d2161f460ee8cf2264a56b.story', '0c615f3d51bb990d42d53ca1cec5b766382c0ffb.story', '0cc459545961a2f4a4da18b48b2de2be2b77ae48.story', '0d4bcc195ceb693f49716d04cce0faaf47848473.story', '0ac751d169a5570f29ffb4a203e5f940924417d6.story', '0a04d8da76d85933c30554eee81ba4fb9c44359a.story', '0c3bc029393daba7a8a12e1288c44fe554fefbc6.story', '0d4f918358cde94d35d1767e400822d3e347995f.story', '0cb4b74072110f6cb32f2fcee9f8d11c1aa21527.story', '0a283d10bb63e083272e4f10982a6da8f8b15a9c.story', '0a1e545a43c7704acb0cced6cb8ad0c28a4073c5.story', '0b1f9ea5ad8e772ec951fd56bda4fb75404df79a.story', '0c27d2e2f7c51dc51c7da308b3fd6b681936f728.story', '000fa431cc8c28e29752db172774b9de1dcd1129.story', '0d8faae3e62e36e6da24894868aaf81e6756db9a.story', '0a0b1eeeeb4f2179293e39d36b6fac0cef271c40.story', '0c746fa38d7ca93a11a4d79085722d2d8af11034.story', '0b0244ae44d61dcf7fab1e7030418ba11c80bbad.story', '0b833175fad6e166c305c94ec675c7e0d4e78131.story', '0a7e7b39c7fc2b0749c5ba8d4f670321095ee752.story', '0c87ba1b5e16ed7997a57a502ef1c9843cdde823.story', '0b5f07c489d40506ff654e5761bd4cfb39765e06.story', '0d3b531baf7c425ec7bdefef37cfef002f46b3a4.story', '0cfdcffb5e4ed2fd8dacd42be6713f80a28b8301.story', '0ae60029858cf3e48b08bd423fa643b3d07c7f1f.story', '0be4f1223ff92eb74d4a826c6d4cf3c18f9fda67.story', '0b991c7a303d4bb786abaa27a6ee6645842716ba.story', '00d0ba4f7790cdfd63fa7ed7e3e33964d50a5d72.story', '0c6559da96abd249d1d49ab19992fc4bfe733b03.story', '0b4acd41d9195b60ef9ced182db1fe76f970a47f.story', '0b57c17776ce5926a961cd296805fb7224bf4dcb.story', '0a280b46be0fde5d87ed47fc7e970e3ed494cad6.story', '0b06ac634425519fb4dad7bb47ee0512d10b6f17.story', '0bdcaeb11ee87c8f268a2bf173bf1969d8294df8.story', '0cc5f2b8e2f9b8ee693c73af6b2197925ccf2f2a.story', '0c6905d925e697b8787e19bd48057672eed70566.story', '0c73d37374763e789351f352ca42cc02e66fa0ff.story', '0c83a79d7d42d99441e4da7d67ac8a2e18d368c0.story', '0cc4f50665ec3f47c40963722c33d55c81a13269.story', '0b7c576dbf305a97d62494e000f84b1dbb44d817.story', '0a8f8665b7473d2282e49f9191ce22714c8b1ea6.story', '0c3ece5bf537145b640efefbbc57b5ec940dee06.story', '0be134f7aaef66d57cf47df1bec8e0f0af05e0b9.story', '0a197dd0b48eb70c64f446c7e4b7be052315e9dd.story', '0b23c83f671065407a5e3e97646981ba86a23a7e.story', '0b2b7cba8e1fe580582c6f6059e369d1b2488485.story', '0b03dc8b3646ce9f6903c77ce36b7520cf879e2b.story', '0cc88b2dfbfb847a3375023b67b0e4bb19b0df2a.story', '0a3dddec7c0492895ee26b68ae57f25bb2386fd8.story', '0afa26964c44a65bbd2a3fce774dbbd91ccc0bc0.story', '0b12ad039512b74ed2f61948a1c5c3e373988cf6.story', '0a639d46d51c2cc511e27835509500767ea8c737.story', '0ca503cbc0e9f23c17ab37c1a0fabacea71a81f9.story', '0cdb4ab26f5f641f34dd3a06ed46acdd6c68dd86.story', '0b213a1999eb835c4f926922bf526a5e61df5ba1.story', '0b18e5ca509afacc919e76907a4af494b4d4c35f.story', '00e720612293861058c63c547c07e0c39e2ab769.story', '0ab34e752e42f986af5cd3b095b19fa411b25d05.story', '0c46544ec4df79b8cc52a5634ec3bc6bd778e27f.story', '0c407e8bebf9ac7d8b6224b52f78cf69a04499a9.story', '0a287b7c9a854a31191164dcc32518522e935a08.story', '0bb42b8713356bb7fa3f6716debe720a4477514f.story', '0b8f75117dec8691f686528603c54041b1ad1d4c.story', '0b4097ff150823d0aefbaa4b3f93377f85dd0d2b.story', '0ccfd04cc59b9195f8fd6a1a51752a076cacf551.story', '0cf50dce42d5583549d47ed6d7583d50b03146a9.story', '0a2aaf8aeedf98a761e4189d9e24e9376f47097a.story', '0adf2413520427a421b42c757211e115b8bdcffd.story', '0c4bc41b2b2b26a00bbd22e1857e0afcd66d837e.story', '0d2f34a1ca267b0741d0747efa6d731862b3a202.story', '0c72e645bb1e64cdffa138d724d08c190aef666f.story', '0bd7912c5dac1f8a282837cae6c6ac99bbb05d79.story', '0aa8b47d29391c7627b5ff170d7e61e6ebaaaef7.story', '0c0565e94244039d675ec1d269904caa603b4c3a.story', '0a7533ba746c4746be00269b98f2d135ff973ef2.story', '0bb9c54124e50dabcdc9c44828470b30024657b0.story', '0be9a0e0a56ee79a7188db50d112f6bdd44a0e0e.story', '0a1941e215de758d14ab1c75074606e3d01f46d2.story', '0c88d787f7794866160a334c9bdd7fcc5cb51a3f.story', '0c70e1151bf4f143bdb0333f3c9d5fa3990d1b93.story', '0a0815b0e81b05851a0bb1febf226d791b948af4.story', '0a053a7bc3015b92efaa288b1dc64dc3e6b7c5b2.story', '0bbeaed03c39031c66ae6b583f7139d0f1dc11c6.story', '0b272d222d879bf8d9293aa44de6a7c0ddb8899f.story', '0cd303df44fab5b83309c27e9936f168b391ce9e.story', '0ca72f0685ea8286a763a8ef29c311d701018faa.story', '0d0bf4ee19dce29cd85aa0d2cf47cb28d70f7031.story', '0d7f5e4fc6ac4db53737db416d7a73ecf1e880e1.story', '0a38f333c2a4adc64c5f8d074508632418074755.story', '0c5765813b05945e3654897428538e03c57dc680.story', '0d0cb7dafc910b6b824828f2a2975407b606e906.story', '0adf56603acf0abc45dd76d9de9070a735119f8b.story', '0a751c159b1bd2243bd2dfd3db24affb6806c1f6.story', '0a90d13ff7619a3979adb7056e54caac1c0c1a71.story', '0adfd7494d32de7afcd5a3a6a5bb00495a1186b2.story', '0b621146e3223707fd429c24b63e50794e0de992.story', '0c7ccd1f67aa2d07e6924cfefed867eaf0f5d14d.story', '0cfed177af8090584a68706c58597e94da032008.story', '0c4f8c025651866cbcf51d8ea20d7830e1417fe5.story', '0bd92e356114f69b9cfd49822b0c68a9ccc6fc5e.story', '0a1aafd53e800d5fa26759ed0e195470ff0c1d28.story', '0cef5e722106db40106eb2a708fc7ed4305f56c6.story', '0a0a1a0e94aac65f2b50815050dfaccf521dda35.story', '0bd6a1fbf564a00c4b24537fb7274cf528f6e74e.story', '0be44dbe21395a47e29aa472713c6ecfc769d9e0.story', '0adb0ae19294990e0e4ce45b73b435165cfafbb6.story', '00d9b61729e98d25a7f66e39153d749498530407.story', '0c184fd3d667529f6698b9445f0041555da73e75.story', '0a89d7c8a2ac6249a2db937d0905375bf819846d.story', '0d27c5872d5464c17e558b1e5a333ded4454d6af.story', '0b2a4b425c429062820e5f34a5e4f9caba906c6a.story', '0b020919a168e23b9894404ebb42926c98a96035.story', '00ed0da30a966cbb8d568a690f40ef731bcfe01c.story', '0a84a4d58ffee406a53ed7796006771bf77af9ee.story', '0bed1cb2a901a0214edf507423414c500076fe32.story', '0b5b2bb92dc524f87c2cdc6005fef71bcc82a650.story', '0c65aedfeee93eebb4c74c1952305eccce35f162.story', '0c749e6db12779497c68ff2829208389f43f5738.story', '0abd6f8252feb6dba80d92e67a9dd4ad22831730.story', '0bebd86e9db6fdc76981b3ac8f24b59db5195206.story', '0ce40b5e34f33e0cb3c6ead6438ca960e7e917df.story', '0bc889fc1f4105d7cbc9a654a5566ad875dd8d18.story', '0a67670b0832ea9193ac7a0707aeae79febd7d3f.story', '0cf0866be12adeabca145ffabbcc7bdb48670c63.story', '0a8040f822fa717fa34ab3a1bd444099a09b82ed.story', '0aff6906b976bdf6472a7d48e7449c4a9b7c28c4.story', '0b7ed33e5cc6f6a1c3ea556520ef0aa5dcc1ffa1.story', '0c79d8ec286ba25e0bbad87c0e4db41f5a8b20df.story', '0a3eedf624de6802b76f30bf5c4f09802f407e56.story', '0b2c25a222f4b9ba90e7c3b7d03f250cb7106d8d.story', '0c5b83461656c091efca3bfc63e153b6bc768739.story', '0b5d902111630d9441899ed204fd16f32888ca27.story', '0aa7b1e6f9b888dd7f473dde9aa7fc2315e801da.story', '0a79e1480e5fdf9906b015095be5924a3b9d4037.story', '0cc272d8f001b29ce68fa6af3827703ae71c199a.story', '0b05d1cb06c45d50097d3a1c28f271e875251772.story', '0ae3fc609ba3684d0b4b3b3073391322c34934ba.story', '0be49f4d14f77985afe1242625c002355f225897.story', '0b42bde51b5e64a0b11802e8e0386ae0f921cd49.story', '0d30b6f00257fadac565f3a7c1359dc90258ac21.story', '0bc8cfa38f69a0d967b668a1ba69bc09aeb25d84.story', '0b1abc0085702eb830588c89babef384c6f1708e.story', '0a3a239afe17279f4a56e29dda9b9a77a450619b.story', '0cc3c891533b0a5b8eef35eebec29a3512801094.story', '0bc7b60789adf59c66c0fb60c95919cbc9d7e404.story', '0ae73d82eedd57bfd533a55280ccc85bd01ae631.story', '0a3c5d29ac01e7d307cc859cc91f76a09e9b2004.story', '0b3947c9fd84ea28128ee52ce053fae21e555ba3.story', '0bac26b7d5633106220c6985b2b2b9e8801d6644.story', '0b95784c9176c56ce724c1b2a8f6254657254027.story', '00c37addc7b779b77c7b8765ab54ea8583bd424e.story', '0d0c9fd859fe3d8361d04d7c46b16de047825c97.story', '0b9d6b13b9859d2cf1c4d5653e0dffa4d2159470.story', '00aa92e837c0745def06f33399ad330c16da8ce1.story', '0a9e447a85ba2a5f7e153c4f02f3a37d29fb29e1.story', '00c4d60444fb1efe613d154641e11242c648a8f0.story', '0a22770485674245c2a9b20469c2e3e7fa940d2c.story', '0a8c4b51e6fd7044d7ad566e2988efc923d63399.story', '0b8332f7c0a3157120e629022912e61c1a7311d2.story', '0abdf7c7a9fb0be2ed73b5d9384a0ebc4a34faf0.story', '0c789bedf69acc42e108949a35d4e5f00f072a3f.story', '0aef50716ce2eff557814a77826e30f2ebfba15a.story', '0bb08f4288a3ee442142c02883061735880db64e.story', '0ccf5f049da94bd06bfe307576c06b60f4b87fb3.story', '0a3fc3389abd36b650f168837ac35a9eb6114cd0.story', '0cdf69eb6b6860142724e940cf9f75d93907227f.story', '0d1dc0b514062cff050814bc7feb5138050fb401.story', '0ad44702bcaf828ed639ed3de2417d5ab91a0344.story', '0cd302fbe51b888f931f2fe748a6c4306af908d5.story', '0b951d5cada233dc5ab98b898855ec323b4530b0.story', '00a7a6adc9efeefd33563a75bb359d1718ea9a2b.story', '0cbd07a2667a04269071881d567e03744f9e8cb4.story', '0a6267e65b1ea5f1fff2b239ad8b985ca287ad8f.story', '0b733eeabd0764403654fa9ec02df20b02bba06f.story', '0b9df3d6d4b6aafd5ac0d0a909cecde18cbdb3ba.story', '0ad512c0b58277eb825387be384a08cd7caf0a63.story', '0a02a102680a24519a5efc501f228d6f35137921.story', '0a8a6e9fabf63b717b5dedca4407df14a160bb5e.story', '0d8ee0367fc3ee4a6771d4b462efb3d4d42cda29.story', '0a3a30f4ba35a93b74b3b9d8650f517d7d459df3.story', '00aad3613db5b5f288639f6abd8e8fa5b382c65b.story', '00afe3b98d818d6e144b13d000861acca91d489f.story', '00ef1177d264ad67840a5afad748f75e4c8d87e8.story', '0c66209f1d380c13a74c0207ec1696dc5b66ff06.story', '0b1448189a1867e9668813ca71460b02bfce5a58.story', '0bde38a280fc39ede6a3c31d676bbd6c7b822c05.story', '00f4fea08f611b4a8040bbd30eac0577922d3e52.story', '00b3c8f1f10d510328a02a4d552e29c21b2e7e6a.story', '0d4a9612df6ef569cd4ded0268d4683164615cb9.story', '0be00452b079cf7f99e496229fe11f0a41a8bec7.story', '0a6e40658a36d36618beb57ef2bcb307d2e6bbaf.story', '0cc6bb3c1a78d8ebe44b2dfbc0c92d08c1808067.story', '0c41528d51d57115d7e3ac448dce6c58bb91fb9f.story', '0c3392387c4cce7cf46f07c90792e8d2564737d8.story', '0cf1d3ed030de3e3921b89ae7411b66b81c1d01d.story', '0b12035e2daa266e40be6d9aa2bccfbfbb8ab4d0.story', '0c494ae098e9c3daff981bcafdd0600781e30805.story', '0ab0a68774adf9c5f1bbfa846630ab7100f79e81.story', '0c0834251e4fe084374e5991d02840a0e89ff68a.story', '0a9c7c13281f7486944dcccf5ed05b169e24dc1a.story', '0cdac8db6ec495bd72abd74db9c9cf9e2a27e087.story', '0b2cd06f1604bcc32a58ab1a0e4b6eb4d5791525.story', '0be55c66bd45a9906aba66996f404151f8b20455.story', '0a6e4d979899e9a7b423b1b45ded275f5560ca0d.story', '0bcfe85224d7876d2af2f26dcad61e7cfc1d0b3e.story', '0b7bef163890fba5aa269e3da1f1a749eaf98ab3.story', '0a3022f132154379cf59571bbb5c74727047963d.story', '00a66901cca07a9f80f1ca60197f92421160827f.story', '0bcf217359178c383ed8bc53789aab92ef564d4b.story', '0ad4adf1e703ffd26135d9a25e1be8e971ce4142.story', '0b1023d247ba85d5ffdf0151667493c9768e828e.story', '0a8ace43fed97507a58b669a23d0e8608074867a.story', '0bda79ed28191e8da6489fcb067b7ae4dcecb074.story', '00bcb154856fb8b316b8913fb4f8384eadf66537.story', '0bce71f6500f196b4ef3186833ef24f26b37ec09.story', '0a60dcf228c7a48ffd2e041b274ad1aa1fafd95f.story', '0a910161bb456c991b2d68bd7d04d877990b9232.story', '0af771ac65f41151ec6ebab40ff1e272f3bb2636.story', '0c4b5ec2b4f72965b7d7d8c3a81b5bc1e8d477fe.story', '0b4526535ce7d237e6cd84bef048c0a5f7688b06.story', '0d4d99deec39a4d725af762bfa77cd3d33ed21ac.story', '0002067d13d3ca304e0bc98d04dde85d4091c55e.story', '0d3cfb950e479cea3d53b232d507d04ec8fd84fc.story', '00d16105946923e02da46c0dc0327cef5c6cd44f.story', '0cf053e7d8cc53a6551c621f1fc66bfeb407a6b5.story', '0c70e593c0a156e22ef998f58873ec697f921a99.story', '0d0a82929c02ed9d747764ba2adca8ea68eecaf2.story', '0ac2fd7d57272fc2c6b9699fc5c2bbb80adfa25d.story', '00a79472591128d1ff334136bb66afd2e2406bca.story', '0cac8031b8b2bef142f9b3359b7d446aae59bcc5.story', '0d9b8a81f3efcc9a813e1c24bf3381dccfb21b33.story', '0c6c9fffc095fb7b6a3c2ee5c13df28c249bdbd7.story', '0adaf1e55a3a7b41d6ff66d82d28cbd7442dd942.story', '0cc066663026bb8f3c1acfe7414a3e68385892b0.story', '0bec223a451ea60874270e1250a2070a9e34effc.story', '0d2e36135fa5cc892bd244c57a205f23c2667934.story', '0ccb1a4237c760684c43ce51cf22bfae580d1533.story', '0ba8414e69aec0e37d5eebe010938206e8ec29e6.story', '0c80bcca95c9785a710ee381bb431757e7c77ca6.story', '0b4731f2287489981f0eeaaff403d7e32b3e0026.story', '0bc268b731b53f5bd1c847bd0a3925d832fb1f39.story', '0d6e58bd2e2a98a6607b737169eb45bfcd250431.story', '00c237ab1eb621285bd69bf36ee4b0f0537d7010.story', '0a58811a696be41ee98506e1ec249069bbba6646.story', '0d6bbbaea5691e7e6113abaf8fc04a62def74206.story', '0ae74facead127de1a81940964aec252d4ceb306.story', '0c8108a2899329bdba7d3f3d826f85f59e953030.story', '0a72e29a267fd5185ec1e7d025abe96057443441.story', '0c67fbe1c0ac719f340c8b62fda7e842cd5fa6df.story', '0b6b35285742a41a6305628b0914569745b1c25a.story', '0a0ae32d5581f71acb87e191a98ac27b497b232e.story', '0badcc5b37f238796ae4617311dabf9a14e13d1b.story', '0a5c6d6672d67e5a50d97475267cf16a6319c901.story', '0ac12cf74416d31e3ad305045719d2aec056fe9a.story', '0b0ae2640a23b46ee524cf292142db14d7b3bae9.story', '0cf2f0feb0f3ae51ca2029041fb65976e552f527.story', '0c8c6fd75bfd6e9811742fc0945b8a91d4021caf.story', '00a12d1d738038f19e74d724516760c9406e6727.story', '0a509dfacc492e060084ec884e4593efea754051.story', '0ba497ce598fa66b4a3bde0e5d973e0d1337eb66.story', '0be282d7f883a3f2536646237aceb6e2df875a7a.story', '0a74192cf0ea41514adfdab2a484985fa9107ec1.story', '00b4dbc2bdbeae53a83fe407ba05394f406c5f42.story', '00a14cd9a1689105467c1575956fb6a8da96c29e.story', '00ef376764e9659601e89a152c6404916681360b.story', '0aa9bc2d779a8c03b0ead651459d8a7331946ea6.story', '0c621b6eb2b1b66ad90c3b347069d060367ff40e.story', '0a0230112704c0c8783ab9c691d058404af0009a.story', '0cf8d7e9794386b26e8ef672ff2b7572e3895577.story', '0a637956869b37ea40d3579e589e366776e81835.story', '0caffaa145fec637af3c2379eb23c17a8d4b5566.story', '0ac4c747110c014b2ea57d3baaf57043a7c4d3d7.story', '0d22e2c3f9ef191efdf3ccd25963d98b214c6af5.story', '0ad3d3475c4897fe4812d6b24728ed43e0afc1f7.story', '0ab5e525fcd057d68198ad9368410cb08df61961.story', '0abb7f776c15827c04c90d985012dd80b78d3ae1.story', '0a379fd1e01550b0829de4f8a81b77069f6bcb06.story', '0a67ae5f6eecdba091be12d256befdbc443b5998.story', '0b18b5d8a604e7670d7869d2a3db3486e8148dd1.story', '0ca47e3803863ffda755dc9f568ae01f07a046e0.story', '0d2d81050b14dbc73fdf9fa45c9938a449d7bdf6.story', '0b58d24eca2c2cf42a57498643d2f1dcbd51c6dd.story', '0b294f780b0313b2ca901e1c5f6331204363ed55.story', '0c9607ca5689bb7de5e805208956a7445b9b77a4.story', '0d5b387740cb95ae33e6f868db1871e5c126b437.story', '00fe39601818be6b50ac0918b24f95d0bab0c885.story', '0a79c3e5da59292077e93c697fee81a1c69dac6e.story', '0bc353b51b3e3c711ba55cd30e7b17b12ff70bbe.story', '0bdde09df7417f2ff97d12410fb64dc48c3df696.story', '0bd030b99d872e3e874aa64580d2a9b652de7743.story', '0af62818daa2a10d33662182c153a67661990003.story', '0c7f9a2735fded86de70144cd2d4031d26de4882.story', '0bb695984a2b552d55793af4f06ccd62062c3af3.story', '0cc7ab39e861f02f5fbfb9a7fb62456a936abecd.story', '0c2594c8753674bb62c581fbbb96bdae7e1b32d5.story', '0ce677b428497461138a30df8da936bab5cdf898.story', '0c881dcb02eaf70d154b33c10efbbc7016e3268c.story', '0c6dad13d9d56d6c8ce46efe533b4262dd188679.story', '0cd2b35d61f9d0f3c08e809bc65e92a0a9235fe3.story', '0cfb784a5fa18604812849ed0be7530345efab49.story', '0cb85d8ccc05306985ff4579f806df7bf9b2ff4f.story', '0cd6bc6284cab521b55dc7c24e5e9bcfedfc2536.story', '0d7ede9f38ce4165a271befcec189fd0e810ec23.story', '0d7a7248fd854be1f8763354d7de050cc454c873.story', '0a449578edf06698caff5af79b9bf26d97237713.story', '0cada0ff5cd865ef1453121a843094bacf5f3b37.story', '0b4d4ca6d6f09a1c6fb841ca2ec55ad4b51f9f6d.story', '0c639cbe6495a9ae9137f196fe6363d2af6167b2.story', '0aff789ba23ec81a5763f7107b800845e8efb587.story', '0a2e7ecb6926f26ca3b200d4206f6315271992cf.story', '0a9c242d4f02704c99bb9980ce9c688a14d410d7.story', '0aaaff711d8eedd4470495b1a926d8eaa5ff894f.story', '0c2945821b5179c97f1e61007db727edf50246fc.story', '0ba38b574e744798e881327881279fde356e9184.story', '00fabee9282c83b702f9a3e9c6d9807f5ac08086.story', '0c8850fba59af3da6e30d33c2814c66742e74e3f.story', '0b7a00240540207e03bd1ca42db0d0a8e91a62e2.story', '0b2834c46e78c4bc8dbc879b3589666c7637e041.story', '0b263955fbeb9602986b16076646cd2619cf2647.story', '0a635bc9d421326510c8fb8a0d57a268aa3560dc.story', '0ca32c4df22dd0208f6fd631257561ba23515fb9.story', '0b107b887b570b9d278da67a7ea6fa27ea385f6d.story', '0b3c9c89a3816da922bc86af41cbef5729406a2d.story', '00a2b6bfa5d59cdc0a4eff8e87131e68777cf899.story', '0b8e5bd0bd05a0490483d0e9715d6147619bfc37.story', '0d5cfe1b6a85fbc0aa1db742748e2805af66157b.story', '00b3c9d0239e65c9981436b35063b30b3f814c31.story', '0aa832dcbf12ad0d033906fcbd708f67946978f0.story', '0ca3ef5c0db6ad05385f90ed589c6d4fe2a8acc5.story', '0cc4b11c0fcb7fd7b7f7645a19015265c52a62f1.story', '0a519171a81c1cc6e8d64693f950a4cf2b0dfeab.story', '0c4ee8f964ea65691e941bbe954202f96b7f3852.story', '0c09843731e34d1307cc4c29f13f558858ea4a76.story', '0a002fb04fde8ca6c30d905468009fdddbbfc5d5.story', '0cba3a46271d7ddee260a8ebb71205843a298d4b.story', '0b388344573f02197b73f75fb331c19fa8f752dd.story', '0bcaae271b136e257fbd92200cb3f735cda313b4.story', '0b6b11836bd52ad94691c636a8f4599750faf6bf.story', '0b054f45e51610d74ca1a233ae19f2ecc54d5076.story', '0b35b53424caa1c6748c6aba8bbe49cb83b6096d.story', '0ad71d3e44649437ac9b84f8d85c3e1748b8f9a7.story', '0d20f6a2c085d12838946a7e526478590f9cbb49.story', '0a9980c817660a9b9052c7d15548e09afb4d8366.story', '0cf2edb49f82ce747b9f3e16e8c08228350a71c4.story', '0b5312992e5450e885a9c0e4179427d42489b437.story', '0b098b084d53b3973dee244f196b115672a6ae84.story', '0bbcf4ef80ca041a7ecaee2f9ea36ddc628b858d.story', '0b9baca2491589983a2b1209cb14e6fa15f5ea5e.story', '0bb93145e5d99d0debd0e34c8406b57c47c8b11a.story', '0b845e1046079fd59a27fcf4c7236ed3c63a0f0e.story', '0cb279bfce579ab82ec7d2565ffbcd78a9ea50fe.story', '0cb6850a992135ee690b5450d0b5142955884c04.story', '0a72f072f108cc7747b58e5a9f32dfd57ab4350e.story', '0a259e8fd5dd9febb90f394bd5398016fcb301f2.story', '0a4e728b4c0ab29ee9b0c7d464720bc029366d99.story', '0b78a39b4a03c509e5a120f70773d8d06e46019d.story', '0b5f35c8e5571efc1ac76e77f9ed737a041a8f0a.story', '0cbf6ddbbec93f34391425129a60d6502fffe84d.story', '00c1dd3a880be7832e05df07ce24bcf3af1ef7b7.story', '0b6edc7e4eb4a13745968742036c1b71a7a51baa.story', '0a62fc88f4138e1a1af0f72331472f35eaece60f.story', '00ca0b74b66d51cacc3b45678ba3fc3f367c8f1c.story', '0c38ea0112123ff2251396def11424b0a2114fd3.story', '0b42896e8292c18cacff845dd018e049cff0e296.story', '0cf9c60223a93fd4c0fdcadc313c2cc0c8732884.story', '0aac769fec78b669b8d3e3effe10eea92ec3ea35.story', '0c4b24a8c43e6bee650b049a394b677e0c6fdaa6.story', '0d3ef6f385eabf9ca7929a46886681b4c29ff26b.story', '00e5380178da96a5fbd488390651d1a56edf4742.story', '0a0731a436e3865533b70eadec6fb351e88765be.story', '0b5596b89d54fa9ad48456fe6b69774e519e4a93.story', '0a50a94c83028372e18a08a6df423b5bcceb46d0.story', '0ba3ea5a17e859f108dd8fba1e73b7f755fb14f7.story', '0cd401e3f7684ed60344d2b8136d042adcc14c30.story', '0bde923f477c769acef72124af81326e905b052f.story', '00b86aac86b894803ce63d033e6fe6c1c3fda63c.story', '0d25ca514c2340ea5de8c0738bbc7d73af87c040.story', '0a4faf352c42c38bf669178e394b7497f58690f5.story', '0babc9974b9c00e5dd91d3127a1185fd2714c5ff.story', '0b561e959d15d14f667296be1b47af92c1fd8872.story', '0cd41b3636e3d817c9e6a032c44d5abe59d57f72.story', '0ca697a16d387a9f56d7fc7db29f6f60c7ba8c4c.story', '0c7e1c997e3afafbf6e6b22d54b384b771da7e54.story', '0c04d40f6f241cb04075ce53d4b5dd2bd6bbe003.story', '0aba579d7f821047e571b8bba9ac487ff69e924c.story', '0c19b251f33de0e664f5ddf47fa89f052b14490e.story', '0c804e8dedf8ce23f4d6efe38a665116933e0931.story', '0a73ac9367cd3193991696fde75b23dca2fec537.story', '0a2f733c19c145e4742ed68ce5407c94cdf741e8.story', '0a294564d3bba0b3878073d35d21b16871cd7d18.story', '0c6b0ba4a31c399807d8f5c7793ac1cdd0367fb7.story', '0a583d4d33c1dafca98d5a5a010f540d134fa09b.story', '0cf5628eca89221443e50f646793ee1859248a46.story', '0cdbfef7758a055a662f21ad5dbeae0718cf9c89.story', '0b2b66e44b07213b593c8b191325cd2b8421e849.story', '0b55dda923bbe6158cad8b1a0fecdd8855753d1f.story', '0a0a733db965c3fdf9bc2895104a1ef884a3d593.story', '0cb6cf513d019acba5d45a44abb829ca22a11e74.story', '00c9e21857e89e9dfa981ff495723a48adbe33a5.story', '0cd32e1037ab41f897ec87512abcb2af973475d7.story', '0bc6b81cf26b583597013edcc0e3885060af15c4.story', '0aaff378ad7639fe27bdea93a9b4789494baac25.story', '0acd010966165bb4a2b9f3d5a57ef5ecd07a9ad7.story', '0ca9829040ed3d37f3df6341e28becc8df839409.story', '0a1dae803dd022afc4200652bcf3feb559477a94.story', '0bd0557150a793dbf6a06d17adcd644c8050b4d4.story', '0a3d0bc049e3002c4d2091f177f9c59bc6df75a4.story', '0c89ea543d57b081edf129721b499d73626b8393.story', '0bc4fcdf736a5f0c5eba96498955898226717c1c.story', '0c9bda9600f6aa2455c08e129d796bd80b9fda44.story', '00d0fc44c838d6e4d000d70c4098352cd8599662.story', '0b555ebbb019f010887b5370ed1dc2febf19a380.story', '00fa0a559a97ab68706a2fbad1083ce26f1ed4e1.story', '0ca7560e82ae46854803be81d69ca6de040a7b56.story', '0c25cb17ee86279bd6c2ff70c3f666faee5e1137.story', '00c91dfe5999b94e840b6b89d1dc0d72a965097a.story', '0ac47a6fde6ae4739533acd55a127519c364583b.story', '0d8fca95bf603c478e6d2757d9c1cc7c02efc995.story', '0b3832260783a7aa3a7c0333ffce5755590b11b2.story', '0b7025eb9e9798ccf340289a909c57d73148b117.story', '0c43fed4b2bbd54c2fcfc979ea134be0421079b7.story', '00da602bb351e74f5b1b483905795377fd68a841.story', '0a9d5be3989e37e359982a335d872639963b7bf9.story', '0c4689a63e6bdf7254e6d0531a2f4c2e279f046b.story', '0b35ef9505b102c1a0c27a9b6e4d01af946aa20a.story', '000b8624a0e3cb0e413b94d6a0290883dda9d9d1.story', '0ab98acdfd11ded20833f3e7c8e2da53f0e5c060.story', '0d4f4a5a607c4099a1571367b7c7f721fa069ada.story', '0aabd6b8b14dc715b12906a3ef973b4d416ab9e3.story', '00c6205f216b6ab0e4acabc3f8dc57be8c0e71d6.story', '0d8a4f449a1db14e601fc35d232e778abdcc45c0.story', '0cd7509a1e234315ca422d1f661b13802469590f.story', '00b4539d2e924af004cf6eb1c455040f23c41916.story', '0d12b544010bf6946db51d36f55ad34fe1a2401e.story', '0d1d8114ee7184b1efc3953c0f9d29b3cbb19f51.story', '0b54b9da3322edf6ed43b0655d55e1dc09f59e3e.story', '0a10ce8292fb090d9abe872467b8e058d4e4b972.story', '0c392a79130c833537795b7cab725f8ffcbb13fc.story', '0a5a433325a3c774ba7d80a112abc575f46fb945.story', '0d3abb2b46044c828ca3eee88770161565d0d82c.story', '0cff3e4602d934a4adb7f1eee889dd24a5116580.story', '0ad8e5db7e94b7ed2b2dcb82345a665f7d876978.story', '0b089d29376f1cb9f6f04d9039ea689f8321da64.story', '0ae624207fb1988a24f57c45865a3d4910004416.story', '00c19e6d15c62cd391426d180e168ed0b001f805.story', '0ad6e065a4e0238602032483aef33fa899a9f8e9.story', '0af8afa133f797737fb422d6029e194e9ac49221.story', '0aed9dfbba4c52aa374b61929962797bc9bcc86c.story', '0a98f5b33a1b65728ec304f6f67d31ce04d51453.story', '0a14ca801e7d2c31863197a6dc322ba576485d08.story', '0b69333e120b81f48df3e541a22d0c31b24a48bf.story', '0ae59d5ff19be849032ee10189e3bc88b0d32852.story', '0a6ec6ea4708ab79efc5b8531a5c5ab7378c64c0.story', '0ca5b0a1dc147c15e6664bca8a4eaea585228219.story', '0bacaf2bbd463b6ebbcaf1457a15a084522f113e.story', '0c4dc6b00819ac53c81f8a7097a2ca6ae356123c.story', '0b28cbc97491c10ea8d1e36170193a30acdddd7c.story', '0d9cf78701bb5fb3817ca71a71cd393e1cac4bad.story', '0a77262cec1fd3786bbe6287d500bd84193fbc03.story', '0a6946e27c83588aec30c9f24b24d7cc7fac4410.story', '0cc1e172c64ddebab60c2a05408cde51c65be98d.story', '0a9e8f1a602f7b1fdebdd854b580c200284202ca.story', '0a0b2b48245b8e585fed35eb89f69a8b1f0ee25a.story', '0b1791d8ce30f61175de1fe8a53160e32d571192.story', '0a9b7a7f8ba366adcec4a87971f4f258780008c2.story', '0a03b075aaeb0933eb53fe802929402df8ba078f.story', '0b966bb231f4530096a5203a65b20473e83d740e.story', '0d0d227861c81da5e8a9fac8c92aa51eb3c90da5.story', '00ca335514ba1a213ac57abcdb3e52580e734173.story', '0a78c79aeca625a967a5c4ad913e32eb50c82e40.story', '0bd310809bed682319ea2aa947fe7e06712a5053.story', '0beb3ab18308a804aa79ed2a0a309ade24711bcc.story', '00c8e5ddfb090cf06830bb1a7fda320add185429.story', '00fe88feb9e832856869d17bb1348282647076d4.story', '0cce9dd80952ff900e8704e6115f9c1bacae894a.story', '0c7acf71bd2f0eaab617e965141cf6931548dff2.story', '00b2cbccaf11d6086baa0cfb131ae5446b3e4158.story', '0cb93cc6e431256af0775913b6dbf86e3687f9b5.story', '0a3fb109457eb5b3bf02311e86c9189df76dc219.story', '00030c0cba08a5b361fd3ecb4dbf232da8269c55.story', '0a5f01d6bc39cda5759df09b2ca70de566e10881.story', '0b123c7e5ac2f104dac1843181b3823b7cac23fd.story', '0af21b0d0688de50eb562e56a275eb7425128c55.story', '0cc0bc371fe7cd8913d07c4e85593e1afc6d78c5.story', '0a8639b13e7aa8eb5881800c96743cd9cb18f8cf.story', '0bcf2b7ea3e63d314c42df165cfbfd93d74f619c.story', '0ac914a2bd1dd2799cb618c3649d4e7d38161044.story', '0bd65b62f3fdf3d49d13cbba9dbf2247811936ea.story', '0a404a616ce6544e3355b969df86ddcdd4960963.story', '0a1e8e88a110adb940cbeacbb1fabf81a14a6b53.story', '0c554cea4438e8fc4b76d37f46b41704f4c59276.story', '0b519c47d98d140a97147810b8e40cd9298b46ad.story', '0aea64b8db07454316e71042ba5e5e7f739e8218.story', '0c6caf1ccc7277cc19df93d659ef8a7a601db897.story', '0b2b62771b1723aa34d2c60b272832a86d616d10.story', '0a79b43e318689ff7baf9b57b8b5290be4cb8b8d.story', '0cce01b4a9ee9eb36099704294555868524b1978.story', '0c796605502361a6d854f00fba3d87c55c600024.story', '0cb8978a2efc012dd94f3410c49c6d031aa80583.story', '0cccc7daf466c2be6333bf46acb750f088999203.story', '0d4ba4d9a20be49e822895313358b56a6a73eef8.story', '0b2dd9bdb384689fb5e0a299c3cc96713c551fec.story', '0b32bafaadac0a91819a15c14d243d842185ba47.story', '0ccf2b12023c6ca68477dd5bb2fdc8a1308cc1d9.story', '0d3ac95017df3cefcc1ba6041847e84b2020db13.story', '0b93cad09dc262a5d08d5d5dde8e58eed9e8db02.story', '0c78b694d2739db66ae788c4601cf1731e178a31.story', '00ef7eecfc95d26a37e6e91befebd7eda79fb767.story', '0a55dc62e92ab43e7ba33178024a2e96bffc446f.story', '0b60b3cfb34e173ac28a0c979b384f033a7b8af8.story', '0a60385a12daa0859000aabcf555f2461a337a92.story', '0cc3a057571d085eef12c5ddf563b8f3bb0ec8f3.story', '0cbb2d55f8646e3692b5a26fc56497b47b0a8402.story', '0cf80b24601d570c9bd6df8799b9535bb3a71991.story', '0ccf0bcd3c2712afbe7db9c6fc0803be32fbe3eb.story', '0a55353d9066686a32d48605fa850a686783b8bd.story', '0bb28aa11da12986962d03a622e736868cb0ba7b.story', '0ae5cd87df58831db3b4443b429c8e46151d80ff.story', '0d0d4945770fce04d3cbe05995ea5d00d76625b7.story', '0af24d7e93abbe7a59e6690c420067b8eae221a2.story', '0a9c9a7d6b39650b70720ec5ff052fd19829e296.story', '0b0819c971e1c5ee39c7721cdd784192480036db.story', '0d7ecbbe62e7048529b44035c949050c3b818138.story', '0becf132287670654e3897b086979e91a6a404cc.story', '0c7fb04d09a81fbb624162d7e955fdd3975fda8f.story', '0a0f1b9b09117c5bb07ce27624a85d647291715c.story', '0cefc2d1652902649f5cc5ef14b186b95475c9b0.story', '0ab81ac3e49578e025059e802d1550481abd3c1e.story', '0cea814c9cb1e5c27025a10dc18d7bed5eb2cb66.story', '0b4b1a70fac702833dbb84e7c1ba4c3102eb6a1e.story', '0a12ba18072007d47e4413ced16b0140ffc3e303.story', '00ff593ae5d193d27f0481b3d4866aa02d91c9db.story', '0d08ab75e9ee7f3f3524e579557c9a45730bdc4b.story', '00b7cee88bb17913d5a37b4fec5cd92d97a62c7e.story', '0a94f2d77123b4d36a1d2ca3c4feb1acd9e7974b.story', '0d0b06e429e75ddb686994d90b04fd6404165d45.story', '0a7854eb05f11508f494297955b5a608eabfb830.story', '0c6b2ae068b86af1ffcf420ff54933a71cfb2001.story', '0bb43b97ce797d6045ab71ea21ace7c436dff9a5.story', '0c6b2bb0ad7ebecd4fdac5de02162eb2edafb739.story', '0ac776a4dc09ca97c136f4314fed4defb48a361a.story', '0a09b7008372d01e2fed5586961457a14a8f5a82.story', '0c59c099a349c0a6928119af225e24a18aac9dab.story', '0b643370d7cf8e890847a0c7f009f483fcab2e97.story', '0cc9a80a94a7dd68e43aceb2bfcfed37dc42ff08.story', '0be0db9bd4da36957f16a7027da1f02328b93413.story', '0c3fd5c5554231a603eb51bf8b2f79ec0d9de2f7.story', '0cb7d3be90021e41a86f821eac2532b1be640247.story', '0b646e65dc01c8374097954068e814be3b45620a.story', '0d5c8ce52f803a591605d65782019eb992d60db9.story', '0b39a50de397919f76597a1cd26a8aa9518ed836.story', '0b8449bf3f8c5a5234cda56bf4a0df7a902bf846.story', '00a1f3afd12e5a44025c1473f90de3d19ad2cfeb.story', '0cc453411f6d21f86500f3687dee77f284a48130.story', '0b6c4f6dab39938b94a747d69112085d7e4ea42c.story', '0b4c5aaf0b429e7885cf5b42dca5da5481b7a38c.story', '0b65829fe56d1daa3750281b0e8a924d0c7ea5df.story', '0bd45ab82f52e14fd36ab544d07cbf7cdc9aa6ae.story', '0ccf13f8d2161f7552d1dcd8a6d4817d0901ba03.story', '00dc88c7ea2710a0b2e295d5cfd9c5d9ccb02ca6.story', '00c9158316014db23ed51af4ca33a4a2366ecc83.story', '0cc591fe932f4f18acdba8e2e1181823e80e495d.story', '0b2c2dcea0668829c22fd0359193594dd6d0b959.story', '0bbe234cb8d792643d99410ecfb5da292b4a8761.story', '0c959565805057c0fdabb236cf6b808c76aa9469.story', '0be2b3153be872b96e08e0760582e9d5f11c00ca.story', '0a6e0773547ca9dcbdff286ba59ef8242c431251.story', '0c62bcc4181c9e4b4916a8fc49236fa0d92aea91.story', '0c0462f49c1a81abb23d22d0fc29ce9a10f228bd.story', '0ae1b6d758a302039788699882654afab8b3e4c7.story', '00b543f2b7fdb982b7954e4d65a16c293903eba9.story', '0afa66c22609b0044453539b50ac0fae4f827b90.story', '0a51fb192de4a1956c9ba2464507509084ce2b3f.story', '0cf548be765615f4067fc91b09b50a364993e576.story', '0c645c8fb3d24799ca878b5552061c01920d1c57.story', '00febfbfb4019de0ca6058761f51a988c8745eb6.story', '0ce51c900f870d64c05e25f58d36e99ca9aac60a.story', '00a358bf5c0807b251cdcd320d1360523a6c48f4.story', '0ca46d679567b63ee9554ec48fe37a6598bebdf5.story', '00dab1ce7e53da7e67f9b7ad0b6908b7e12e9fd7.story', '0adc388561ecbcf55036d556c1ce94af9064e0a8.story', '0b4d82b558432ccc529eb3e1b3940cc4a44bec14.story', '00ccb56a51997fbda07bfe4066bfd80374634745.story', '0d0acab823c5fde32c721ea50e8bb3f7e4a8fc49.story', '00a9a4a12e076fe8e014e897fc04215803e89a8d.story', '0d9b1281442491c2817dede926a1e6f9a1738361.story', '0d5b4dd87ff79d9adb2c749ef523ed8cf69b1ae5.story', '0b98f96a3488e45a7b4be14804cb5ed77be91e64.story', '0c7f43f06194f9913f7dd7ef5afaeea2adff4546.story', '0c22b4b4b25d287f60722b75c1f0beb77b1375e8.story', '0a988621292b1f0759af104b9c15a6ca2a180a90.story', '0aa908024c9e8c4bb571745e54207e4661224bb4.story', '0a177854acd7ceeadd05bb8dc7099277ce5fa339.story', '0be9a0b02cfe1135bdfe61d8c51e351ec37684af.story', '0ab0a5c46929e787e15b8d32cae483d100666a0b.story', '0ca89a8b33daa6f8a74a766dead58ba51cc717c2.story', '0ae257f63b0b5ff5dc29eda2b7d6b7d69077ea51.story', '0c739e1da8e627be46b1e062a02baee93a6a93a1.story', '0ca73b6100d823dd3499815e184ae370bfe90770.story', '0a9953b9c1d30a512950f23192482fe54093382c.story', '0a65a69962edb272cb95fa660583724321cc9fec.story', '0aec4d6506aabdbf730b45d0ec040df4092795ea.story', '0be11f4886ce78408b92c58f862020d50a26388b.story', '0cdcda18bf8d76d6cbb5b530cb9e94fbca0f49d9.story', '0c30237647e491e4f330dcd1ce59a0b9119add0c.story', '0b68b8b07951e4a9eab7d2846a281683ce0c1102.story', '0cbe03f6b40092a15a8fd686be4114a1b2bda941.story', '0ab89f720a63b6626734d7b1da3061cff3f636ff.story', '0caf99aace0bab522c8be04b55a714bb010537f6.story', '0baf6111889f2ecb47c324499f306536b7a0a663.story', '0c60bd892869e3cf6fb830c41a6b7792cee44b13.story', '0b36c0fc2dec3e74e2c4516a6e8d99c737092523.story', '0d2e55ee86c4d892b4a251a8e74861cc7ab7c5a6.story', '00de62862519a365cd0180efb923bb463f6cbc43.story', '0b720670bb26406b6bd8a29e3268f5fdbb71704b.story', '0b526c721ad84b6a7e40c9d584b9d5d246d2fb6c.story', '0a22d80492831130237b0efefc003f5087e579eb.story', '0be827b7037e9685d1a525e0005e8e143d16f34a.story', '0b2bba4c3f2951044e3e0ea29182dd734235ff42.story', '0b1595025ba9601984a63c1dca5d39e152f78257.story', '0a5319bc0d1c35987bc245d2756807d69aff5ec4.story', '0bee0c606b6c3a0fe2a99a3d6e35a28a1cb4018f.story', '0c35d1979458da2fbd82a16f36164af291ecd9bf.story', '0c0320588f1338079a91b7402ea95680f49dfadf.story', '0a033d25b4d169722031217fd5cdf9a11fb0748f.story', '0ab9deb6ace058779994b78c828e3f1d37a79c1c.story', '0cd9048c654458e89b9f2a219da1b4d12bc6550f.story', '0a04bd216bf2e02aead007ee98f4bfc4b801b474.story', '0bd71ff449cbcf9f346dd620193523533fcc169a.story', '0b31efa9584c4aec01042dd8d243b80f8792173f.story', '0a0e5533a30ac79ed4df2a9aeab4152caf7c74d5.story', '0ad3270e916374522127a197e93c4e8eb92c22d1.story', '0c789b6ef029a636577a8463bdef99fe0f96ca4a.story', '00f9999f262f391b8d3a1657a98dfb2efbdce6db.story', '0b272126a93406d19f8f1cb9209bbc836eb0b73d.story', '0be9aa0356e6d378b4676e0413a99e7a85bff986.story', '0bb3397d2398ac4a1958fa33952e0d25404288aa.story', '0ba39e251406c82f9880d423bd0111dce2784fa6.story', '0bc927373ece4381a6edc01059854d89da1d4451.story', '0d6a699468ca5853c5b22d916f3320c42882043b.story', '0a51731a47c1950b73cb6a17c62b73ecd591907f.story', '0ae0534090144348379904223de3c5655763ed8e.story', '0b894b3d6c3dd40e6db6ea7d28d5dd6cdabcd62a.story', '00aa0a73fb6858d4ab2f0b767be6f6291a17f6c2.story', '00bfcb9d07faa098e1f725594e884d0e221dc489.story', '0c18f9b1786e497ffa0913eb4aa4307cc66afdab.story', '00aec07687778045e7dba512f5718ac9e2a5d090.story', '0b40f2ee2670be8e3bcf956fff65c6bae3a08925.story', '0bdfe3047218da901cea3e1248db8ac1786dc66c.story', '0bdae0419ee3cf1b922f1ef15d9ac5826d1b13ef.story', '0ade88615c0449373339677bedf9d18f8b8e4795.story', '0be01637d054ed025414f8891ad9ea9f82ab999c.story', '0b534c694d55adf0e7c9eb76630840d6d6689eaa.story', '0a41d1b343ffb751a529a2166e2e3ff25b1f3195.story', '0a27c458251e4016dfd3cf85484bdb51110c0845.story', '0b594f53569619e1610d95faaf82fa138ce4def1.story', '0c9c50351fa9a1cec58d74d3e7836cfa0f9ade81.story', '0c5a984735a3493341a8c70e56a09257b0e5a412.story', '0a60d5c98e767514e6431e2b61a900ccba178741.story', '0a39e669613725d87f876c1a01459e89c7ead4d5.story', '0bd71c1b513ef5c2c5fa4c41f1887257d31fb7eb.story', '0a49c86f0b573dff567645dec6de6d2057f3624d.story', '0b1190df5903553bfcc9829ecac924dcb01a19da.story', '0b638332341fc3b202f32420f3be1ddd6e70ff77.story', '0a03082fec867c144b89f1e09a11e6d17572c9f9.story', '0c414a8ddf2e9ec52e470e9404d66737bf96dbd3.story', '00bf9d2b6fb07b9126a1dd2e46db0a32a79d760e.story', '0b78d3a5b4d4ce6f5d225d4974acac65a42d4d84.story', '0d4f46d67c61f5ca49b93d717753b7be2b0b0602.story', '0c5da5d9b3cd6196ac2d4ee743c13c2e22cdb7b1.story', '0ccde611e58d187b3c7b91d33d039325b4a52349.story', '0ca6ef96186d9c0935bf0a5ee18fac2be5936723.story', '0ccddf6976169da5e3d044adad3d4edfdf515416.story', '0cb91395f9c18c0a75f230282e929e72ffffa50e.story', '0d5b1aa513442e218ec23c51d2d09cbb77cd721a.story', '0a9d4ce62647b5dd757fd9a32bd33b62accc6f74.story', '0ba6381e1e209da290cfc6cf90405f4da18d81ba.story', '0a4efa2aa111ca3ff77512be9193ec68f87954ed.story', '0aaa47db2450168c7d85ab7cee83713a21567960.story', '0b2447991fa0ac6e2b978c2efa1bdc0e1d795ec5.story', '00d16a741e6f437294a7606943ce949b128c66c9.story', '0ab76a12a36910378d57afaedc5b64d0a17d1a74.story', '0cc1fc2903e87277895d9caf275b13a24b440b7b.story', '00b3d599e274f3947c18d139b6dad0b1da5e1ae9.story', '0a4bdbf0af2ecbe05c37b2a10e6c2879dd46c457.story', '00b2d86d2b3c8cdfa8eed3c6c80f4969fab05b9d.story', '0bac9212e760c726e29f51a6922a46dfeb197d01.story', '00046ba5302d2eb9432fdda424305453b05a9932.story', '0d16baec079f9e010f8e766936bf5ac260e140f3.story', '00ebf3d45c5a2d187af3cb5caa3a9caf75a4ac16.story', '0d06c395511e6d50a7b13b3090dc5ca500487acf.story', '0be8acc79e7240763a2ac08463e7e549f2df1519.story', '0cd50f8b773c3d3c174cf87e749cfc59e92bff6e.story', '0a69def7836e2e1d350afe02b52c687a6e8e9643.story', '0c5566c968ab45361197c3ad883190b02ceef2ce.story', '0b1d742f48f736a29761a0a951ec97e667375e32.story', '0ac9c3b27ed56aea1c1ed5197c01ee13c6c52f6d.story', '0a8c9e5869098556d6a61699af591cf6b084a276.story', '0b2b198fde00948721f27891a1d1ab1f4e4463d5.story', '0d3b3afef106f68fa446cdcf4919629d23ff0ed7.story', '0ac04ab74160970ee52715bffa9ac694b9d899f6.story', '0ce7856c1bf40bcc55e1f5f9757c805eb4e592e4.story', '0cd54471b15c248aa28aa2e250f709d6fe02fea0.story', '0d8ca8c7eaf2c1445966e5aad4729215f78c1e62.story', '0a01ff1f2415bda44a207350e72f8a1898afc67c.story', '00ba64f7200ad694c9f7564f8371e58634cdcf0f.story', '0b707c099aa3c7cc43d7d3df0582e5409378e93e.story', '0c161eef7ef3b56cdf28d5d4c6f7f4c6ee410817.story', '0bc93a107f72787cb79034ea4f1b10864cc2d035.story', '0be2a2cbaac2dde0291041c2cf5d16f0848c6c72.story', '0c97632f605d6555f288cf32e13ec9e233608626.story', '0c3257ed1a8cd6d465442fcf227a93a61eea6c20.story', '0d6c8d4650027bf3b158cb5ed5ea1f47947794f6.story', '0cb70163369cbf3ca38d1f01a9b0f4ebb1c5a989.story', '00a87950555c3b2802fafc38e72934791e7e9e82.story', '0a3cb1f65a3b2a86346efbb40112b8d2c0b4ca41.story', '0c6db37a9687559c3088337397eface851b6d8eb.story', '0bb8e14953a910105df8144c8c90c24a2b9a5e1e.story', '0a7ae7ee7a5ad42e306b9301ed17b9cb1f44bc97.story', '0a7c2c9ef71e334bd910f894e12b0fe50ad20db3.story', '00c60adf2d933c1e63e996928dcb4500c27f37d1.story', '0c8ca9cfa6aaafd6b7cee4ec39bb7f3382058e05.story', '0a79025005d566ab53a687367c0c09c296b15b09.story', '0b95f8f069de736da1c8f8aafff93da4c9563555.story', '0c9189548f3677616bfb0b4933c43b5c8e813a4d.story', '00c8fab5c73f78540da3f70c66c480bd1f796b1b.story', '0c85908ff381fb264b8c5a4a641135cfa9121d3f.story', '0b979389f51057c37a56b7de6dcc12d89cc90c03.story', '0b65d68039bb75982f2f1298ff538c6936cb3cf6.story', '0a7803361bac620ce6539cd776bc2c71152f03f4.story', '0ce057b26bf0240857942199cfddd99bff8f39a2.story', '0a75c4f2a8a1468afbc2f2b1591d134c3cea30ec.story', '0cb74b7b0ab5193c9440cd5111bd431b6d5fa249.story', '0be67db44f030fa823cc15f0c387ea8cda91bb7b.story', '0c60a8f59501e38834c3604cf62fc46293dbf00e.story', '0acbf128f2739226992abf928dcbcf1f9a4bce67.story', '0b62ca891f3065249ac0d742de7afe9dd129d330.story', '0a12d51fc9f3d73fae85a5d67efd9d5311ce73cb.story', '0a029fe0bfb440cb4ff9beb35f5fb36d7df0a42c.story', '0c83afd3a94387d7250cf6a5bfbcbe9e7ddb047b.story', '0c519168d7dd080ed804248a96125e6bced3c675.story', '0d6fa83a979303a2a7526c21f0c651465b6c767a.story', '0ba0aa05c33fe8c36cd5d1aaec78c5157f623c9c.story', '0cf7da4afb0f9c57e2630c026fafb8a3d57e9d97.story', '0c442cdbbde235144ce2a06e53155ecee8568922.story', '0cf1b2c2836f27288a732bc52244d20a39e9840d.story', '00af159c7cf1043697844f5c946e6a3b5e399acc.story', '0ce39d9fe6761c0c40ace64910ec41089e704418.story', '0a91bb58e51342a1da1f801c59082bd9d596ac46.story', '0b203c07aa63b853e4b5660737a4875527539758.story', '0a6570a083a81169af5e3dd66fc41c53947f1fe3.story', '0c13ac1231eaa66213212bac9fbb4012be4086e6.story', '0a4219130b5d323e06e89fad390ad52cc1559434.story', '0b3a76b7852db4315f565cc5e3eff78c6c1be460.story', '0c83ccaddeab3f6338f3ca7f6b6013cd3baa5c93.story', '00bab59ff44f83281a07ff92439089c58c2f54bb.story', '0b9771e64009e731557361f6eff627bbf549be37.story', '0ba1302f51407fab25e84976026b6a7590bcd66e.story', '0afefac91d118b4a5e2dfca2d1a3515abfc0b315.story', '0a8bf9a2557d71e238686bb22bc4433e00c71f1e.story', '0aa787bdbcf6b0d21f92f7a4ec8ff2f0d02aa48c.story', '0c76b0f60c96eabbf213879c59d029cee0469dfd.story', '0c15bc4be058ffe22c098158fe56d49618154f88.story', '00feb7b68172ff6b1780f7aac1cfdfa1d3556bf3.story', '0ab4a2a6506965a566430ce771c3e7c51238edd4.story', '0a4e91187bf6e400437642aba244d0d755a449a6.story', '0a55b4d2e6c028902ace774a35e13d1af8911796.story', '00cb963b6bfd1a0f10de8885ebd9a7690b3084fe.story', '0afbe00591b216125c9bbe820f955e911064a9c4.story', '0bb36f36d93083258950fb3cf85eba57ea869f89.story', '0ae05d9fee1c311cae96af83bac612fb16f4ab63.story', '0c98c4e83ac8fe963d7000d28e3b4f083a506685.story', '0a67db974dc3cfcdf1be81ccb437f523207f057c.story', '0b7d00ae1403bd1fcef80ebab5249533884e0f5c.story', '0b0b0bde349c7dd8b456268a68b4a91e0a4a80a0.story', '00b651a35804ab86f8fe15ebeebb90077e07f1f0.story', '00a5880126ff62f3ac8763f255ef8aa5f0ecb012.story', '00027ef55ae7acede6ff4afa8a1a01f9ebc75e8e.story', '0cf1dfc935f53f352aadc5fef196e4375dcddfa1.story', '0c28fbc3af2ee29adf8be9b8ec25a2d4bb258878.story', '0cf5eb19bcc46f847c5f53222feb672f64872cdd.story', '0c8e9b25dc8d48fe9db9bef12c15ac2fcc7b1f58.story', '00f07a5cb372b9212b90e3d2ca7bda22a6b5bd5e.story', '0a11a05aeace9762e6ed5111bce521a8786be3e6.story', '0b39853937e80b8357c387f5ca0c0a9fd04bec54.story', '0cdc216ca2c3139727fac840249b426cfde68538.story', '0d3e40799a04c598d6bbd735acce072c3aecafa3.story', '0c49652952df8892d9fc734b45c385ef9b2c6c69.story', '0b74995cf9004caba53b5b35074b29361ff2464a.story', '0c3487c8092c3aa942291d38d359f6d0e7c018a4.story', '0b23468043a3bc602735706a5fd193f68585610f.story', '0b414733bd56b9c4143de64303aa7c96d6e1b688.story', '0a08b1d1c2890e2a8d996034eb41d1523695dc4c.story', '000219931d2c3aae55dc2acdc5f690d0c112ab17.story', '00f2c471f853b9f793ae69d9e84a3b587c7de947.story', '0c86a6219963689875964f5a220b9ac87d2306d5.story', '0cfa2a63000656eb8e7b0c68860585b3158043b9.story', '00f3a0d78fb0ec0152f8467dc7f12310f482c1b0.story', '0a0ad513d8b3f9ae5afd2d1caeb9d85c6236fa66.story', '0b728a0e6d99c50b106e19f92db3f86c1c59f663.story', '0cefeabb026b0d67fc2e895afcccfd7061e39aae.story', '00e04c5119d71d00650ee693af473480e70981a0.story', '0ba483c2896ee5be83bd1fedad99d6c3a7087e64.story', '0a7e199b3573513af8bae8440a16dc5a0d46670e.story', '0c5f067e9195e62fbaa3b5becee0ea7058ede081.story', '0a6382f62d0b1869f0f8bd9a2a7695144e1a514d.story', '0a9008b2c48bb22860b4d45faccddb146566ae54.story', '0ac20ce368165c807a4e8ad4e1fc9899523ae4a7.story', '0c07c240e1ff9341aec10d3a3e85a5d6ff5cb5ff.story', '0c967c4176f9fea308a6b04e69a438259de3d0e3.story', '0cd7ec4013b0a6dbbc9f15ce8a7ff757db5b8ad9.story', '0afb432978cfd25ba81848334b7f966c28f97954.story', '0af8e517058f2b8d240a8aee9abf7e78ad9ea64b.story', '00dccef28bc8bc0fc0d59f24630cdb3eb90c4450.story', '0c4d9a543c7392511dba906b385d543d8b82fd7d.story', '0c7751eb61886e7cb065a278db8b402ef675aa0d.story', '0a9c6b76dc43125b64044e3e291a9b34724ca5eb.story', '0a884a545c057e6ea6c030477a93aa855f063cfd.story', '0b97ddcaa579a2dd89f1d918008ba1794b521815.story', '0b0fa21c406af477129769b9fd1aaa7ded7988cf.story', '0be4a3725408ee06ab104b17d25a80a02e9cd687.story', '0aad5b7a7caa905e27e469bd7a76031bec59417b.story', '0d7a747fcb443369d4c1b5dcfcceea74370efc02.story', '0c55f8c78abaf2f1130108745aa978ffed1fee39.story', '0c53b458b456915dd5c03f7cca69a7c8d8e2d359.story', '0acdf969c5581e0301da8c229daac64d157ce906.story', '0b3f1eab915a335d7cb73097e7369e829bc30517.story', '0b1cbe50b371a56c886a30017ff333d75823b116.story', '0aa082fa964ce0e3c610f98795bedd68d7b4a0bb.story', '0a7bea99ad5498daefffaabcc0ce633b3d67c270.story', '0a596084c20b85f19aabf848501d18712e8ab3bf.story', '0c870783da2fab8ab41f2840e7db16c695f157c6.story', '0b810ea09810f2033c17b1a391bda716b800e246.story', '0d8fd9600b50add5a90147f8d481da2220a1cc65.story', '00b3e200adce7dc2f20876480e7a46916255402b.story', '0d19fda24087285ac4d7f829fe9b4db37a971499.story', '00b2578df5e6f6fa16f82c6db634468aafee3c4d.story', '0b1eb8467a9605009b8ea3cfd77516689a174c4a.story', '0c6cdf43b894d331dae4990fbf9f7da467f4d647.story', '00a9d4e21e07ed18f452248f6014f2411a3600e7.story', '0cbc04558b0fc65c6b49676472cbcb0803d87ddd.story', '0cb4e8a2fd6cff502901fba499d620696d8ba0e9.story', '0d3bfa575ad841fb88e69046a023ae9616750d9d.story', '0a29f232fe4ceabb97691d31fa00be40b2b45a56.story', '0c8df2f2b07506129fa471744c4d6d77fdafbf28.story', '0abcb4b2315e6208fd62a0ee9c473ce1d8ec6ffb.story', '0b3658a7c642715632fedcf011d7606db7caf88e.story', '0a2e6f6b85b15d5695d5b526215c2dc29bd57725.story', '0a7af6ac4e5935414878c6d6410608f4dc8d259d.story', '0b013d46438aeeaabf6136a14a4c63501ec723ee.story', '0b778f52598c430cdaab3d3e249c87b699a5d521.story', '0ce27da29deb18d594844a461d7d851dc87e9da6.story', '0bc0f8ec255787e32b95e6c539d8425bfa4b8113.story', '0d0c5acd33afa045ff6e94a1ddb6eb4aba10a2a2.story', '0a5cd3ab3225fac181316539df071323be6536ae.story', '0c2959d536a1df93e7d2e099bad67eb993da6241.story', '0a073f996d8ead155d4bda59ba1fa0183133b314.story', '0b5e5e7caecd19005b23a78e26d9ab7f52bec67b.story', '0acecef21c6fe1e06b9583077b0de5b1b0b1b971.story', '0a3b61efd397899f992227781b5789af855fcdf7.story', '0b2dfa320952b6ac1c8bcad003dd71ba7914afed.story', '0c7994e2b6bc072f3e244acead4b9f87bb8e4283.story', '0bb23625f75d517e65dd884452dc9d09d868f144.story', '0c204824a8bc82252bf047f1a0e50cee01acdf57.story', '00f4d210856501b5604d9f2c68c27747fa60e844.story', '00e54ad562128bc00f98c1acb8a2218d142eb22f.story', '0adb12c60cded9d2624adb8989a6b0baf7e710a0.story', '0aa1cf070f28b16fee3ab6209ba696d26b9cdb2c.story', '0b6b92d99ff4fe8a094a73346610cb44c15b6112.story', '0b156c3c4174a4bdd7e4422e39399c439eabd990.story', '0a18205ef7e5ef50158cb9c4f78a39b7f114477c.story', '00a3d8763be4e836a9db092f7f7a9470bd5bf5d5.story', '0b54f4eedf997e3de6cda8b3326c06b941969cb3.story', '0c5e6c2906a9608ee3c974837d8d2f3de0b6a7db.story', '0c45e0d7ace86412209aaa3f54c73526232dbecb.story', '00eb8ba695cba4099488bae9330a109730ad4d39.story', '0b6bf9efecd2d5d32b27f05cf8aeaaa2f4c178d8.story', '0d28afaa6b39f39b691ddb82dea1278bf8e4e795.story', '0c47c4e9bc83fc52b3c04340e275943be3adda60.story', '0cdffa108a36073814cf513ff0ffa63700ee263e.story', '0ae6d09850714fa0e61d7b39a1e97a4dcbc95331.story', '0ade5f430a93cc106a55aed34d845473255437ef.story', '0b9d1cd711647793a9fa007f2892cd3ac59e1227.story', '0a57a37326df92bfbc7d3547cf7c8fffefdbe5a9.story', '0d3b04c47a95cdadf63a47b858bf1d8f64a627a4.story', '0ca5fb2ba827e27dd21296d3d813b1bf03b6d211.story', '0b9f36bf557ad855d008219c95c9203b8d993bb8.story', '0a9a39a324141b240a6f70be3f1dd0eccc2008b4.story', '0ae13c51587d0c13f4b380a54e5f3810c3fd86b7.story', '0af57232edd25915e55ae73139eafcd6489a4b6d.story', '0a905bdc16e91b7b0bbc9173bdbdcdda55693502.story', '00b17d28d3a12d78b3f37789d4657cbae761bdcb.story', '0d0f8154ee32acaaec8eca04fd517fa6a11405ac.story', '00a6af75d49980bc41d21121f77238a57ee317e8.story', '0d8cbc8385e3b7e9aa1befac93c9e12edae40cc2.story', '0c8de9c34ea138ce70f1b61d7ac44c4b83051e69.story', '0cbd03b8f66dd301fed015aa5956e9594677da6c.story', '0cd84db8ebc91821d07d910e830d8710021a2d6a.story', '0b597610973dee5aa84e3a544d7b51580dc87d5f.story', '0d2b09474498af5b506e64838dd482155e6defee.story', '0cbfd3c442c2d939d2d7b97606e2c018c81930d5.story', '0d16a070bfb02d755139c59d69a7471f1fd5a4ef.story', '0c3224ea771df0a94bc10caca9c770a4dbf6f5c7.story', '0c565fa9a5ee65dc36706d7ca97700355519e1ed.story', '0a22b4966be97356e43d951d56f86ecf22bd48ad.story', '0b3f31fc2f860ac6defdf08d77046ac633b52eab.story', '0a373fb4f7cf621b4a1055e754eb3d3fa3058df5.story', '0c6b8baab8bb1df0cf798f99d1feedbcdb2b398d.story', '0d3e0410fa51c6d37c36aee60fe7063c1f35988e.story', '0be904318a6f12b232a5f0e83b3f2aacf6b34ad1.story', '0a5ce0c9c979290eaa6ce6d23de3a13804578747.story', '0ab38ab21e0ab96e7ccc05492e86e8a9287fd787.story', '0ab80c42f05b39b744691fff6b7170abec788c7d.story', '0c8f4fdf9838fa71174f31a226e3e7b32e47eb7c.story', '0bc031164ba33582266a901c1287fd4dbb55b142.story', '0aeaf9784e374f8cf2981a0f5de0393ed5f7f1cb.story', '0b18ec4a99d09e0d2a21525b47a52d875255ecba.story', '0b97433ed705c9ffcfdb52d391ad323a9e38867a.story', '0cc9f6b2852669d35c56d4f30f41e5e6ea17151d.story', '0b894280e071ee3b1f00d87d1846f34ce16a916a.story', '0a69c24d40292e0b1a9168418b8d421b8b6408a4.story', '0b9f5124e4301ea048b68fae20a5c7d843627676.story', '0c727a91a5b698ffd8fe71062447715599da44d8.story', '00f958671a13148d6fb3638af6b3c57a91dbc4ad.story', '0b75a459ecd56aa89e030d3cfd6bc737cf6e4dcc.story', '0c4065bcb9e927c2bba3cf000317a0bd34b83a54.story', '0a662383493193011269ead3bd8296d2fdefa1a3.story', '0bd8bebccce3ee113be8983a62ef3241602c6963.story', '0a98ea6b89099c804f5668a16e02377b96087ef7.story', '0d29d09e72a085c802fae63d05bc32c8d6577082.story', '0d9ae35b6c6f12976fdc9e00e33d31678c5b2766.story', '0b0ad6a5c83c091db89de59a4940782db321a8f9.story', '0a420dd92cb9ad27d303fd72f26709a7181c1e92.story', '0cfc3d307224e650f6f35180c6d6d837bb022241.story', '00bc50b6689d9601059c11be32f4e39d5db6084b.story', '0bd912e2367ff2702b97ee7d17203dbac712f755.story', '0ab35c8de3ae1c8482c1b78d0e187ccdb251b0e0.story', '0b0ea23e418f497d26c71b77a8da687b8fdbf3a8.story', '0ae332ddfa14de2107cb2d21aa8c6432b10244f2.story', '0b81596b4ac98a43ad2ec1c40e3aa336396c0667.story', '0a2d27d7f9044777bb72a7c3b7c256b273508262.story', '0abea360d85d535f7ac9e2280e5c6d615cdb33e2.story', '0b87c5c26bd18004c0de8c37a39d26530249d863.story', '0c8fd063e353adf34b2b0cecbb574a4479cfb09f.story', '0c5089a5aa66a1233a10a5e7a68b0d1f5da8715e.story', '0d14bb4a1765bf9c0bd7f0e738dfca48fbf371c8.story', '0a73840598db2eceebe3fbfe46bb1cf51eb32dee.story', '0b40db883836c8608b92fe5a11ee4f0cf75b0531.story', '0b0d9b50e96df13cfdde5a9ec4198611a97d3a1f.story', '0bae00fdee2f834b117f47d69608a10c12269d74.story', '0ab6fd9a03fe360ad58fdd2356cc7fbb5a26229d.story', '0a007b0eb8dd2e4d03c35829e2660a23d0b1d7d6.story', '0a031d23cc9696d34b418d6b8d46fb2be777db23.story', '0a0bd6bed053b3bcc3414c3ef29e4aadaaf3d5b0.story', '0a66f5a01bbe4a8526b8d3498ad318a9e218417a.story', '00b6f45f84def55ffcec9922a0779bb487d92c5c.story', '0aad2a92ce4934ff82b389ed8d75e6b002c69b2d.story', '0ae0b765809fdd3d7c8c9026f11a3e7de2661ce9.story', '0b17149d50c710dc5614aa4cda95fd307d6f8d68.story', '0b2c921e0aea97b28c674384d3ba62880057a02b.story', '0ce8bd47a94e9680bc4163e21c8b617c1c9605dc.story', '0aff2a7009da25f4bd68e7ad9ffb8dea8548d6c2.story', '00b39422a4ae713a7f2bfd2074ce0da3a9383009.story', '0a65e0b7ece0412758404dd39403b3c1b785b9c2.story', '0aa607dc030e3218dd3b22af1c59a167b6f0f4ba.story', '0a8b54bdaf7822a0ed3f462db4c8941ad53663ab.story', '0a4c4dfe940529d4d1ef4ece48a904db74183a75.story', '0d35a6da56cecdf6e45019f85db774f0ae203ca6.story', '0a9f3c7892538e4d796c032ae3ab497d612bd833.story', '0a2967edb1549818146d246f41ec8cecd83e4437.story', '0c9a1c4983c3d860ab108593e82af7e8357994c4.story', '0abba74f266f984640ff692ccdee26c54f06c12c.story', '0aa8917118ac78e22ccb19536ca1314b9c0dbb92.story', '0ca6e57617b871681ca9a4125c79af4626f226a2.story', '0c33d8f7a6b01e8520a85b71e3ea0bd652afde3a.story', '0a15b75a299af859b98ba7c4fd126b92e7e8cedc.story', '0b7c1670a9f6cacbcb32617fa45aba6b8b128884.story', '0afc30542981a78b4f3564e87ad709394981e26c.story', '0cda0946bccbb5e3242847819d9d63380715627f.story', '0a9747edebbd7ceb8cffae498cee2ca7d48db571.story', '0b200d3488dc6900633649ab48aa7a904263c9de.story', '0bcf74bc42598def47a8bd92f7e92e494264ae3e.story', '00e4f9fd5a0241454e5ca3089ef05e30bdf8b78e.story', '0cde7c6762c8f09af1fa445580258e73b958f4b7.story', '0a830f2cd960bac1a937c37c1882e52ea69d2d45.story', '0a8441267ab2eca9fcf2142d5115f506477d96ab.story', '0a9863613d3a90c2ed2faaffa5a594d69b84d7b9.story', '0aa370b8005eb9285b936df3eedf5ede04d121f4.story', '0b5071e7248beb2ec833e02ade06c786436ca999.story', '00f7563649f45bcc5a1475d79042838d01945957.story', '0bd50909dbbf870379917dda083ffe45b4d24860.story', '0b65ca5401f6151688e9c9c1c0224a9de685d879.story', '0c4f12be3a1218d888e76917e46a1b86b051c4dd.story', '00ef6dd0a9da8b2a70cf71aa464c03772905696e.story', '0c57d1da9fc42ef7cbe70246d0f350d61f8b49bd.story', '0b81ddcf3317897b6749c9533d32d3ebe1236437.story', '0aab331406c0501bfef533426986e8c24b769bd3.story', '00f72bffb3bc4d927cfff380e0ce2f94b6d3cb2b.story', '0bd186e7fcff1f5e1ecc1f8e8b490e53eead4a20.story', '0ce9924f2b5692174e2ea136275228f9e4e4d8db.story', '00ddd37849f6fb6e3e15e04089daa81b1c137f0f.story', '0a27003458d20a02f5d662ca450733b96a807496.story', '0b83fed30c3191017b376511b6f7e83747f8761f.story', '0b6565189016a95ccaea474250f393bb81579483.story', '0d9fb23ac63966170a19e48b21d7ba564a3251f7.story', '0b76041d1e5d5d4f97601c829f7050c6c8f9e199.story', '0a8b4cef4e4497df103c2495ddd5dddd50c9c049.story', '0bc139c0768c01ac8cba749d4f8c386a177dcebb.story', '0c8abbbb71a7f25c019db3a8fed2fe3d23985409.story', '0ba0ef1d2760dd5b55516a137949f42a2b785322.story', '0ad3aba4afc974f44a2a53657b48d3e81cdc6a7c.story', '00af229b6c8ffc80cdad39d64155e02c01d828be.story', '0afc1b1a373d0d03e1f5d5dbc6aa1023153cf776.story', '0002b1d590aa4d2f6f000a03947317b6dc4e5c18.story', '0ac9cd3bb40fb27bf259e1d618d2573e813cf34b.story', '0d8d4930950e04035082e78aa822386ae654b5e3.story', '00b3bc10648f57350b20200edf29b3dc0cc4cd07.story', '00caaa4df1700453e471d47ca0bbc182578d7cb6.story', '00c92320c5a4dd7c1c11354f4bde38f38d71885c.story', '0d8ce0761cf43ac3d9437f1138f7cf277c4173c6.story', '0b26466380898156b3e1a252e42c4c73c95f84c8.story', '0bc32ef6d9f2309183b4a05186808bd8a48af676.story', '00b14fba37e83ac60ad5c288632482e93a970fe5.story', '0cd9eac820f2267622743768dd95da24cd0d6252.story', '0aef3edf23aea22ef4e245e918d80e1fd040e3b8.story', '0d08b4ef4519ae2c00a9fbe880209ac3a37aaca7.story', '0caa9f6f68870681e7556910051f35f8cf67ad35.story', '0b24375a9c634b8d8732759dbe09d278abd3699b.story', '0a2c8579e860f2392a930676a78f5e640721b5cd.story', '00de8cf5552a19a9efac0f9c9356352395ef74b8.story', '0b42036a39aa6f5c06bc8e2c17de8c41b2e1b98a.story', '00bfbe11c808aa74dd2507e74e64a1feb7f26c11.story', '0b17da68772d8451d0309941b946023aac94e14e.story', '0ceef843d3095b28f72e78f26c834998b0a32299.story', '0a89644d453ff24ad9dbe65e3ff4863fd2982dbb.story', '0a587bb17df9e889c5331146e9163a9d8969b44b.story', '0b78d37251630abdebbbd75061cb40808a3f47f0.story', '0d6d400c25c12066edfac6e7c3d4efd95938105e.story', '0a69bc0d0922a7ffda99dda39e485081925be804.story', '0c5c3a8930de9f8a01fa69bab941c126f68adb29.story', '0a223136ed07e632f4e5acb22c802e8dbe092542.story', '00e24b460d09ea457a8984a034806835773df910.story', '0a3c3606e5f7edef386741be90319e7c54ddf3f8.story', '0b86e15cadec4e8f533e8f480e9ecb636626c928.story', '00c400ae121839f68a311ee40a0f6f053a26a03c.story', '0a04172fc899057f9a88419dd3cc18aabe813472.story', '00ca1e2de01174083bc5c0043b21f1c44ac76640.story', '00ba62ceccf153c739d612366ee416fae2a604d2.story', '0cca197e4c407bc8fad58c31787e71cadbbcc2bc.story', '0b88fbb017c474392f6b6e868ed18f7dadc466c6.story', '0b6aa5493e121e853dff4046b1bdb8814ad17973.story', '0a7cb877adb1dda86c2a481fed924583bfb206d8.story', '0d5ac5032ecc8a55dd0587db0a8dbfeb221e065e.story', '0cdc3123d2cda8ed8ba33866a7108c1c9f60ded7.story', '0a93b8368ed651982cec649aba0a19892054ca8f.story', '0c49c18b405c0ee4c5b560c235aa8a86717dcb11.story', '0d3b07be0e9c954e701f343bc5e5fdc82c1eee99.story', '0c621457bcc5bd036bcaa47b62cc32d93eee65f2.story', '0b6b00dc14d7e83bc3e3ab0ff3abe4d31f41674c.story', '00ce320509cc5f1ccb5128dbab0f9b0c463bc42b.story', '0d5e6546b9f827fd23d17232e18a0a483dd07dce.story', '0c56da1375e9d1d265792fca7f665a4e70b0157f.story', '0d7d38d688edc2270068737cbaf1170be7fa301d.story', '0ac75e79fd3215656a763b232a6f3269a5562c04.story', '0a467ac090a8128ae5bcb7afda582b6e6be529aa.story', '0aa9846e776c3174e24722511bbdd903e19fda6e.story', '0b97ceb64d6086d02dbbfec193299b36231222f1.story', '0c8f53797f61b9f2426b9411529ff9520c2e75e4.story', '0aec358fde1b75785c789176b5d9cb3c747838f2.story', '0ac310d4e481183aaa5b4d7b1ece22539f1a9e7a.story', '0b7c2fc8104fdd2153a5bf0b06b31ca1f42e3e54.story', '0c18952b921f24942aff45821ed53b058cc5d9d2.story', '0af5d4b5dfd606dcdc9cd81a733bcb8d7f57a5aa.story', '0c9584fe00fc760f6dba00761bc1fea7b655c16d.story', '0a7156a88dc64510279d90b4a9ea817ee4bbe55a.story', '0c69dcbc46bc3911c184ecfec3bb474f9e7603fc.story', '0c072a3f3f294747e636371f13e8e5ff3e5242d1.story', '0c209c25735b7a4d29920f5b7ee0af226d4c1d67.story', '00a2989d39cdd8a96fe39efb03abcfe2cf5c9582.story', '0b5103825f8308408a551dcaa73143c4fdb84778.story', '0a7d0d0f5190f2f21269417c3d290e56fcf3d596.story', '0c45cf869179eeecdf94bfd12230bbbc4a67637e.story', '0a3d62b8786c89b5e8e01ec5f3712c554714c458.story', '0a06af74baaf28927adb29436c21c5a47f9c2d6f.story', '0a2d1e85e73ebe31a5cd44c9f05b15f7666d068f.story', '0b28ca1ce162d6ad824f0bcb6ff14c36c2923ffe.story', '0cc3da2f9a42701cb3458f245d8ab79da726b5ce.story', '0bb0111a81b3dfdadc1a0c8ffb0f31fa6024e7e3.story', '0b953cec036f32f09d3e6daf1e165318d794745f.story', '0ade1e694826b40d1a368734d600f4b5c8420df0.story', '0cfb4859620e48fe6bfbd9759e6e8cbf750ef5ef.story', '00e2ed4e429f3212cfb853a0366b2ebdb32438ed.story', '0d1cfe1d8c1ed58676b421afef823141fefce485.story', '00d9a0b96c5bdd15c1a30cdd80e1a0fd02bae6bf.story', '00b9ea48b8bd047e40774658fc3c8c007113b2d9.story', '0c0412bc8198892faeec1df94d9fdf60e1bf8bc0.story', '0baa4c5bc104677a52f83c96bb007c660481cca0.story', '0cc67f0e70a78bf8ae2f680ae9f6b32721f55dfa.story', '00fecf33a853dc8e6fdb49e29d8da21f7627c5a2.story', '0ab61cd934207c916d4ce66016bd3e3241cdf4e6.story', '0d2dee6815d1a4e5dc193f355d18a51019483f79.story', '00e20392d889b6ef41d850c011aee1fdba4efc22.story', '0a24348c6e9721e2ba170ef8f6150ba74993187c.story', '0d2a8a4f4071d34d711b3a1927da7dd99a74ee7d.story', '0c8107f4d465db3365d792b0722975fe459d3059.story', '0c95c87af350bb6d5c62937fcec965392ca23b5d.story', '0bcdaeac7a113dd91c0fb5a6913d112ccb283fbc.story', '0aa1a19460c42a40bd3f6d251f088bd697c46ada.story', '0c8b3c9b1f4381c16c17122c5bcb505f4ab60b14.story', '0cd9fdb474db0ff63e1bb1d69176d2dd19b1acb2.story', '0b34c6c2c03a12073c3c783cbf1aa57625aa2ad5.story', '0bdd102223f174cc51a883b1d11d8b8d9c6fb891.story', '0b5e599b8dbcf92f8ee7d532fe01d379610be8cf.story', '0b8da26dd596858c405f311c91b6468ccc0dc69e.story', '0c52682b74ca7233e3f7eb35cb895b65f0303f2b.story', '0b574a2b93427d94d636290101908a06dcbe9f77.story', '0b19f6780c99d1f19a269bdd384b8d215c3a31e9.story', '0ca25dae48c3f0f5266fb1937163377472eeac7e.story', '0d21dd4036ac3bb1846f5f910429ba6d7f9d7595.story', '0b64ef150fe980699cf976b6b6dc9d2b46e60548.story', '00cecabb7a20970c2823137cc764c726ceb39c84.story', '0ad347031bfb634d46bb733114023ec812c1ae85.story', '0b8b4292921700307eb2d1ab267ef3304948ff07.story', '0b9b4e779ab8c2978c06975a684d3b482eb11d0f.story', '00bc225b0d2dda94d54df0121f9b5aff4c8f2f43.story', '0a1ad1d0d3a7310d21de77694dcd25d8c71bae5d.story', '0b58a9df31c931d83937dc29870d43277eaacc76.story', '0bdbeb9993e3cfaf901b78375ecc543b2c29cbcf.story', '0ac85d9dc8b2f7d63e7d3e4ac14fb1c2ca2ecee2.story', '0cd1256eeba18e9aa329c318f7ff7c35ff1fe9e5.story', '00a1905d3217e22639992765311788f771377012.story', '0a9ccade48cc53bbc704b62e3f8519f627770a79.story', '0c81d26eaf63a76e1713a32b6d178bf3d7ee2090.story', '0bad05893563ef1a5d8191646a778814d1d49ddb.story', '0c46d1a1c6814be42efed402eeca25ea36cbeb93.story', '00bf666622cb66b158c83a4957ec0f444438f919.story', '0c92657e71e2bcc2c39c87b012d2469e6a66f12d.story', '0acdee8234a995a65e4c250534843f9e8ccde20d.story', '0b51184b4be8e3f1f795016a2e0c2cfe8de4cfc6.story', '0c856db8ca40c7b264f92554c71ac5ce7e81a8dd.story', '0b450c0f61f927a394d2935575c2b5782e7232ab.story', '0c6082b7c2b830b61df11c10ed29a44a250b6741.story', '0a0079f3dd785e4396d9ac849be953cc2d66aa6b.story', '0c0753e597289b907d4d9fb600b637f8fe528476.story', '0cd19fb17ab38b10acfd80cc985e538cdc720188.story', '00c16ec7c90305382be5ea8da49c0b08490d85cb.story', '0bd090085eb44c37a350b9dd6ab561eb61447ffa.story', '0c6d6e70d03839dd08b52e2074339f33ca6feafb.story', '0abe0cc7e4893f5d409c33595de868659fc361c6.story', '0d1e76590fabf80cd87b74ec970a32b016af2613.story', '0c0477df34877643ee714f0db4e3ea2aca419960.story', '0d4c41fb418b4b1e684c64fc8f1af48addda919c.story', '0c41193ee2d29504beaf60c0755e144b0f9816f0.story', '0cc1a7b3359571c3908b3283369a50d01af0109c.story', '0b05ee734717cf59efd27b206f01fedbcd8c0e1c.story', '0cb2100a0f08624e7dc4296976cc77a5f707de3a.story', '0b704eefe61e82ec4db50015f5a56b7c0dd099a1.story', '0c109021cf3d0130fe24991f14a2c87aee9a0acd.story', '0b0c485547c9226b660ddad005a801ec7f279a8c.story', '0c66f8ad864c9e715b20e13bf4a40396727a2c6a.story', '0c239913d655fea1b0499970d10a7656e1abe1e6.story', '0d1dc11ee4fdadd80eb4ab90b3eaa2ceafe789d6.story', '0cfc81c57d22335d0c973ab6f4a48731f4f1c47a.story', '0af0986dddaadfa4a69fa4b7480153d35d544b07.story', '0c9204e50b6e67d5e4315f798703701c0a081744.story', '0a9d3fa52accb1efb48be7ddd1507a5856095916.story', '0aa27802348f37e7f25666e34bcea175c346c65c.story', '00e564f54f3c681f393f3d3421638df8d211dbec.story', '000beb8706bc2ad4c0c3040faf0ce54caa315454.story', '0c9753310583738ab569eb377564c74df7470f62.story', '0cb584aeb4a8ae9c5112827a42b0957ac39130aa.story', '0bc5fdac967db034ccc56c82da385986cfbc9aa7.story', '0a2bc856a2dcb3340122251234397916ca27fcc1.story', '0ab48185c9818c62d7eea44336894abe23a140eb.story', '0cf6ea8222f027d75b28cfc5dd910a082f3de725.story', '0cae47714a123f3f2cffc8c609af71720d4589ca.story', '0b4920d4939fafe60057951d524ddc4665af40cd.story', '0be261944ada9959f6c3b4e80e0ad7712d12a91c.story', '0b37c66d121e4c666e51d4c9b8a1a8c18c6d515b.story', '0cffbd0d08bf3ef6ac240e7c0ece772e27de650c.story', '0a7073d38699b4e0228661585843d59a2f96f9d9.story', '0a3317d3d967ce914e12f85583f4649d35e30d9f.story', '0a53f1d122533046e0589841b2d95276d65c635b.story', '0b5b31ac8828d46bd12be3c83757f70b58bc8069.story', '0cda7c2be8e1da20971f1facbc16e66fd66737da.story', '00e3e74f3bf9723cced38c366c3a3837103b26cb.story', '0c11b8555e0f2b1eedd5f52250fc7fed4ad9c426.story', '0a81e76af0b6d24ab410995795cdfa11d73ecec9.story', '0ce5069444f6a442b379c199a134d4b56d4f555f.story', '0aebff186c2160ef2408159505efdceb43fd314b.story', '0b4c4a6d5001a3aa56d67fb47f4980fabb778cc7.story', '0bb813a9d6725b38d0f0df553bbadb2e69deb2da.story', '0a048d29f8ad95f4c364fcc2f934efad99e2733c.story', '0a91ac3ed62cd6957334bbdd81ed6375dd7fb883.story', '0b1f073fdbba28ab633472067f3b800b3d396b6a.story', '0c317879aeaab50c02d050cdacc7e00b8658310c.story', '0b81b1ed06f52cd2a47b5d464e7811ed55184daf.story', '0ba6d75d6e28569dd1038e26aec770df67138930.story', '00ca6a025c269ef98269842f358bc59e8ad177a8.story', '0abc9bdb57805a92705c39c74540d42110ca3cc2.story', '0a2c40db4c813cbc4fc5589837b43072803f1f07.story', '00d976a94e1ba5a9cf196eca6fe747a23de483bd.story', '000128cbd36642ced67ac90bd7d4d1dd5e8cf554.story', '0b2eee66262bf250ec606a81c965a13226587129.story', '0a253a7b506835e5d42d7e5460016323501d0238.story', '00a708f4a06f4fe44da71125d3510491785a0053.story', '0d0d260742a08aea7bfe7004a6cd8fb75dd2221f.story', '0ca4c2028e470496e3f626cfa42308774599e24a.story', '0c6691bac4b762144fb9a0fdba7b4875a2162c27.story', '0c9430d4dbcc77b8e77e86c8ad78b31a238ff00b.story', '0c540fece22c8eedd588c7a79f57149a4a8ae6f2.story', '0ac7da4522d55f1e0de39b01934f983047f97417.story', '0c340114decc88c0b9df720ca463a7ab907b84e5.story', '0ba0100f2240012c4403e4b7988b5e58ee5dbec0.story', '0b6c678d4292dcb456740c602eb4c23fcb848d73.story', '0ab06f39c29b44d4a9aca9d8a554c374881394c4.story', '0cf3f2ab7dd871f26172e2deb08237fb37210d71.story', '0b40280171107694fc1b7ca0bd4065b127d29330.story', '0c5ef2ccc071399757c31e83fc0a2db469738e90.story', '0ab81e93a809b6990ca035864486d1a27a5ec03a.story', '0bb41494fb9f02ac438eb545f2c443315d8aa084.story', '0a3f3bb416ff65b66cf2c827d2c5b7f92ca1baa4.story', '0b2266628571a0b455420f550405812d95e9cee2.story', '0a7cacabe19b3a3a14f69ac62c3c8daa438d0784.story', '00f251670d67b81f3a9c4af6bd74e4a11ad5b4e8.story', '0b23195a289d693504109fbf69eef68435a32e4b.story', '000b3d4986384244547589379d96abf92a89fc43.story', '0d4fa2f9a57242bee3082a544a485200f4dc36ee.story', '0a926ef7e3ab73eb94f13b19c62913dea0122eb3.story', '0cf22ecc05ebcb5ae6ffddffb8a79f61b770587e.story', '00ecb0898a813fad8c4b3707e0c5e7907f6262d5.story', '0a71c5a217103844288b29cfbd3ef32575bfddce.story', '0d4e1c1060a9c9ea049abdb73c7a9fa691614eee.story', '00b794d95ddf42a019d1bd16752528b6803e6b76.story', '0c81f1d890d4e6b425eda9d88099710689091d54.story', '00aa8676ea7b005102b21793b22107776f05143f.story', '00a9c292a0799b6271efbc5dfdf9b2e23367b620.story', '0bc71540cf3ecdf260446f5e9298dc69bb8fcb9b.story', '0c6cccd2ae085bcd88724281944e90bda789b037.story', '000fdddcbfce58b56605f99e81c22c9b86ea4773.story', '00b69f38583bc088f4b69e300176f193c5daaa34.story', '0ac18ef045e183e20acfe1ffdf99b5ff6942f5ff.story', '0a5ce46e50469e9f5490eca604d5575585810471.story', '0a0334a9185ab39ab0844c0f8f475ef48e545b5e.story', '0d3a5ae02d763cecce5258fcb3488ab9ab833604.story', '0a9a516e8b8927d14d11243999ad581a6db9c713.story', '0b27081f979a27b85a64818287ef42db64ae226e.story', '0ae5dac73254e623808a6e86405f5c0a7954934a.story', '0bcba1ac540c3f84edfc75ae56da2ae6c49c73aa.story', '00b744eedd03cace34f86bbb9c94218c85f2fc5e.story', '0c82f8c31999d1ea6fbbd81b4662fa50599801df.story', '0bd53cd078f23c0c35903d9cd69e54824185de4f.story', '0a36ea5016778250fedd562de6ff98d824f09e37.story', '00e3328d5feb1f6aa19bcf8a4a8967b65fcfc04d.story', '00eb2595c30fe1da576bfd82f4e464292aa94e8a.story', '00042f853485865198728f8d1e1c61c2d5a248e1.story', '0c98743a3ed99bdf64a45801562d67653cd7f583.story', '0a5db9fb23046adf1637f2b517cded6fe0cc97a3.story', '0b6c41dd35bc1b1feed19f407e9c2d29e89a4fd1.story', '0baba9905cd0b01a49429f6d77b1dd97e948a844.story', '0be5c7a424c5a8d51c59d0475ef78eaf39b345d9.story', '0caaedf27dbaf70a6ddb23ed6d71ad37d8414af1.story', '0d2dbe858247ed16da240137468ebf42269d6a66.story', '0ab4cfe2a60ec60bb9e4430bae2d3d80f7573c3b.story', '0a43f18dc1345fb4eda81f436df990bc9d7e6739.story', '0c624b0fbe5b111a0c06dec15245a2107e31622f.story', '0b413ad8b9f79e2425907448ffe30e839d283215.story', '0a9956ee3729731b60c8a1cdce4b8ecf52030fa1.story', '0a4bfde3b4e8d552314677f4df976b7ff6aeeb01.story', '0aa8503dbf7261fa1f54fe0430d9d3496793f3df.story', '0aa62c258c24ccec5d59272d0c7c04df9630d588.story', '0cc1a797c2b35800e198b3a1f6ef893a0f198daa.story', '0c06eb50f6559bbda1323a57adb8c8c83d31f901.story', '0a26d1b8d88c98b1a3931b2096ebbc832f391147.story', '0bd41e863a32a80b6781d4bc2cb3dbdeed4f413d.story', '0c23d67f8f59634ecee41acbdf2dfa87a2bc0922.story', '0b07b31665c57cf19fb94e4097f9fef8b3777535.story', '0a204f3efe1e1b6f2a14ea35d838f9b8b807f730.story', '0bdd45c2372edc2d4d7c1bedec7ef36ea01c8579.story', '0cd7e26fb7fcd716ed5e6961bbfc7653f06ece23.story', '0ca01ee28082966a9ffafe8da770c44c23c86b0d.story', '00e2fd471c9d36a93a754b3e6203d129eab6a084.story', '0c9cc9f548da70a84b84b5a828ee06be343c8ca8.story', '0d003ade4a1b33582b4a02cb7743ecb85c9f638a.story', '0ab4db8a7aa3fd438c9e5725af61881f5a9a9cb4.story', '0b0e18dfa17fcb8f012ec3949284cf29267d491f.story', '0b7594dbfea7037fd4ebbb9a357c7f81971a0981.story', '0bd4a9cbd3cd2addce4448780e6f4efc64cff5c9.story', '0d17de9a1485e4adc098ba6f8b17c2af195bbe5d.story', '0c4e6706a1e9f77a816d31050c136e4947569d35.story', '0ce82c3ebcd85e96761db04c229414004e4de00d.story', '0a76d06d02757d30171a77acd6152935aeda8728.story', '000c8035a65520d60c68b9874811d6c8a26b5065.story', '00c3f383b4ebd2f68bb5a9d47d5059d1a6dbb5ae.story', '0ceeb4a49e7ef7afa6fd827275ca075a13b1f9d5.story', '0c047be11907c835261d44060ce1511d2b4491ac.story', '0bbd08f206072b12b8f1108a46649db268e83dd1.story', '0cb6785d050535e99fab1b8c892eb96d79b015d2.story', '0adce4fa04d36ff6716e580eb63f42279ea2f9d3.story', '0c198663d2685c0604758de6509d6026d3984a8a.story', '0a6c348d6aac594da98a775be1e3d7e1a656148f.story', '0c4805f961e6587be980b7d4771a1281f3ab27ef.story', '0b6cfdedb2037db9dc4f6ccd34756864d068d06d.story', '0d23f271afe8517c9d24300bfbd5102e74b94d90.story', '0b4356fdf0fd1e69f5f33da626754d463d1d935e.story', '00dfe15d76ecc1703d2aed26ce1cff9c3e20484c.story', '0d24f6ba83a5e8cbd4a4d849dd1d163a4857d90f.story', '0ab0620ce07487f2d12570a8a09dbc16b171886d.story', '0b78f160ca6994863f45cb70d039c90591570fcf.story', '0d09e57eb38b3f1b994fbe6263b7e1ee56779bb4.story', '0a2e43cf01383785650ebf957b515a5e3f56e00f.story', '0a8f051343c787b04367b063bbd3c2833059b0f3.story', '0d03d60dcd8592a99d7cb221b1beb331978bc62b.story', '0c459cfabcf8a01b16431037a2e39037beb713f2.story', '0a35578148c32058ae64949cf4a76d579fa7ced6.story', '0cec2c950cb98c3758c4311b7798ebe71dcd2750.story', '0b80c1b05f6fcbaa5ea522341461783036670303.story', '0ae1a1c47aebc39a206234c152300ca0821541b3.story', '0ae25447d6c78358062d8932b55bde884e6bfd84.story', '00e6962e7f9cc298bb682a80cb37c8276aed6251.story', '0ce621a06ee2c222bf5ea870ec24cee6a37334e7.story', '0c77d8ea23e074acd894056106e1982d39ea33b1.story', '0ac4e816e9287cf5130a9e1c236325d049abaad9.story', '00bfe848179c28ddf2c8b9c43c700f2c05cc94cc.story', '0ba9a1ade599c9d168bc8a71b905804c015735a5.story', '0aa38c465bb03fef4080321dba2fd5fb5aae7637.story', '0b9f1c11743b4c12119697eb3bdc5eefcba8ab84.story', '00b78fa7b1fbe8d81e771106dd8e8ba49a78c9f4.story', '0ca2abd8b49ddfbe488394e3ef460363262cde28.story', '0a713ac22c31c96259abb3aedfaac8d2f63d4839.story', '000ce9139d5bf974c2a621226b6ed77900bfa498.story', '0aa3183bea0068e479a106eaf792860d7830d2f6.story', '0bdbc83f4bbf5c7c6c27fa487201f9d9cc5b6da0.story', '0a483ddaafc5e882b38f985c36d599d2b998966c.story', '0d15a2ac4d0c3da6b878c4fc2d699bbc8d97acdf.story', '00bd25ea05cef4bd50125b52101a22ac6082f2e1.story', '0b71b500b77b04865a7b0b92f06edaf963470a87.story', '0a4aa918d9b8b758e3959b296f9ac2a14b1f15c3.story', '0b0e4349b7947078087407f6a0fd2b465de31cc6.story', '0d5f5e441f6ccd64f3cc62e3094b8685fd55422b.story', '0bdac5626e99283d9f4eda0537b3c030fc0d0d78.story', '0ae28635e8a0ff055cc84fb4d6eccbe7c021016f.story', '0b44710ad28fe29130a50616a7b06cb28ae63235.story', '0c37ee6b4ed78aa36da3b34674a58470dcf622ca.story', '0ce509547f1935a56bd3d47da524899dc9455a6f.story', '0d1d6135cc1fd46cd10a515263d1e8704096184c.story']\n",
            "--------------------------------\n",
            "0\n",
            "1\n",
            "2\n",
            "3\n",
            "4\n",
            "5\n",
            "6\n",
            "7\n",
            "8\n",
            "9\n",
            "10\n",
            "11\n",
            "12\n",
            "13\n",
            "14\n",
            "15\n",
            "16\n",
            "17\n",
            "18\n",
            "19\n"
          ],
          "name": "stdout"
        }
      ]
    },
    {
      "cell_type": "code",
      "metadata": {
        "colab": {
          "base_uri": "https://localhost:8080/",
          "height": 1000
        },
        "id": "QT4nKzqNTFNf",
        "outputId": "2ce22ced-3b0d-4ee0-dd24-38c00637b065"
      },
      "source": [
        "data"
      ],
      "execution_count": null,
      "outputs": [
        {
          "output_type": "execute_result",
          "data": {
            "text/html": [
              "<div>\n",
              "<style scoped>\n",
              "    .dataframe tbody tr th:only-of-type {\n",
              "        vertical-align: middle;\n",
              "    }\n",
              "\n",
              "    .dataframe tbody tr th {\n",
              "        vertical-align: top;\n",
              "    }\n",
              "\n",
              "    .dataframe thead th {\n",
              "        text-align: right;\n",
              "    }\n",
              "</style>\n",
              "<table border=\"1\" class=\"dataframe\">\n",
              "  <thead>\n",
              "    <tr style=\"text-align: right;\">\n",
              "      <th></th>\n",
              "      <th>Text</th>\n",
              "      <th>Summary</th>\n",
              "    </tr>\n",
              "  </thead>\n",
              "  <tbody>\n",
              "    <tr>\n",
              "      <th>0</th>\n",
              "      <td>Traditional GIFs are so last year . 2015 is the year of the Yoyo .  A Turkish developer has built a tool that lets users fast-forward and rewind GIFs , and embed the resulting ` Yoyos ' onto websi...</td>\n",
              "      <td>[@highlight, , Yoyo was created by a team of developers from Istanbul, , @highlight, , The tool lets users fast-forward and rewind GIFs taken from the web, , @highlight, , It works with GIF URLs f...</td>\n",
              "    </tr>\n",
              "    <tr>\n",
              "      <th>1</th>\n",
              "      <td>By John Stevens For Daily Mail  David Cameron has accused the First Minister of ` desperate ' tactics over his claim that separation will protect the NHS from privatisation .  The Prime Minister s...</td>\n",
              "      <td>[@highlight, , The Prime Minister said health is already devolved to Holyrood, , @highlight, , Mr Salmond said NHS cuts in England would be replicated in Scotland, , @highlight, , Scottish Governm...</td>\n",
              "    </tr>\n",
              "    <tr>\n",
              "      <th>2</th>\n",
              "      <td>Manchester United began to sow the seeds of change as their 100-strong entourage flew to the USA on Friday .  As Louis van Gaal took his new players , Wayne Rooney included , off to Los Angeles , ...</td>\n",
              "      <td>[@highlight, , Entourage of 104 head out to the States for pre season games, , @highlight, , Van Gaal is pulling up the Carrington pitch and getting wind breakers built, , @highlight, , Bebe and A...</td>\n",
              "    </tr>\n",
              "    <tr>\n",
              "      <th>3</th>\n",
              "      <td>Gordon Greer was surprised to hear Robert Lewandowski complaining about his robust challenge in Scotland 's 2-2 draw against Poland last month .  The 33-year-old Brighton defender made his competi...</td>\n",
              "      <td>[@highlight, , Gordon Greer was surprised to hear Robert Lewandowski complaining about his robust challenge in last month 's Euro 2016 qualifier with Poland, , @highlight, , The match ended 2-2 an...</td>\n",
              "    </tr>\n",
              "    <tr>\n",
              "      <th>4</th>\n",
              "      <td>It was one of the biggest trends of 2013 - the selfie .  But just a few days into the new year and a new craze has already taken over - the animal selfie .  Twitter has been inundated with posts o...</td>\n",
              "      <td>[@highlight, , Hundreds of #animalselfies have been posted on the social networking site, , @highlight, , Selfies include pictures of monkeys , horses and even bearded dragons, , @highlight, , Com...</td>\n",
              "    </tr>\n",
              "    <tr>\n",
              "      <th>5</th>\n",
              "      <td>The man killed today in a fire that broke out in a New York City high-rise has been identified as 27-year-old Daniel McClung .  McClung was found in the stairwell of 500 West 43rd Street and taken...</td>\n",
              "      <td>[@highlight, , Authorities identified 27-year-old Daniel McClung as the victim of the fire that broke out this morning in a New York City apartment high-rise, , @highlight, , Blaze broke out on th...</td>\n",
              "    </tr>\n",
              "    <tr>\n",
              "      <th>6</th>\n",
              "      <td>She is one of the hottest stars in Bollywood , currently seen shaking her sari next to a muscle-bound hunchback in the most expensive and ambitious film ever to come out of India .  She receives t...</td>\n",
              "      <td>[@highlight, , She had never acted before her screen debut in 2010 film , Madrasapattinam, , @highlight, , Now Amy Jackson has a chauffeur , make-up team and a personal assistant, , @highlight, , ...</td>\n",
              "    </tr>\n",
              "    <tr>\n",
              "      <th>7</th>\n",
              "      <td>By Belinda Robinson  The mum of a 15-month-old toddler who got a coin lodged in his throat has described how lucky she feels that her son survived the drama .  Lesley Pattinson , 39 , from Fylingd...</td>\n",
              "      <td>[@highlight, , Mum Lesley Pattinson had to save her son after he swallowed a coin at home, , @highlight, , But the family lives in a remote area where the local hospital is miles away, , @highligh...</td>\n",
              "    </tr>\n",
              "    <tr>\n",
              "      <th>8</th>\n",
              "      <td>Samantha Cameron is famous for her love of Scandinavian minimalist style and it seems she 's also a fan of IKEA furniture and Danish butter . The Prime Minister 's wife was hosting a breakfast for...</td>\n",
              "      <td>[@highlight, , Photos taken during a charity breakfast at No. 10 reveal new additions to Samantha Cameron 's famous kitchen, , @highlight, , Among them are a # 1,615 Flos Arco floor lamp , a # 250...</td>\n",
              "    </tr>\n",
              "    <tr>\n",
              "      <th>9</th>\n",
              "      <td>Latest arrest : This is George Zimmerman 's mugshot from the Seminole Sheriff 's Office in Florida after his arrest on Friday night for assault and domestic violence with a weapon  Following his r...</td>\n",
              "      <td>[@highlight, , Third time Trayvon Martin 's killer has been arrested for domestic violence, , @highlight, , Arrested at 10pm on Friday evening in Florida and is being held on $ 5,000 bail, , @high...</td>\n",
              "    </tr>\n",
              "    <tr>\n",
              "      <th>10</th>\n",
              "      <td>By Eddie Wrenn  PUBLISHED :  05:46 EST , 17 September 2012   |  UPDATED :  06:16 EST , 17 September 2012  It is one of the strangest photographs returned from Mars yet - giving a snapshot of what ...</td>\n",
              "      <td>[@highlight, , ` Blueberries ' are mineral-rich bumps on side of crater - indicating water on Mars 's surface in the past, , @highlight, , NASA : ` They seem to be crunchy on the outside , and sof...</td>\n",
              "    </tr>\n",
              "    <tr>\n",
              "      <th>11</th>\n",
              "      <td>By Jill Reilly  PUBLISHED :  10:19 EST , 10 August 2012   |  UPDATED :  13:14 EST , 10 August 2012  The so-called ` Naked Rambler ' Stephen Gough refused to put on clothes during a court appearanc...</td>\n",
              "      <td>[@highlight, , Stephen Gough , 53 , is charged with breach of the peace after he walked naked near a children play area and refusing to put clothes on, , @highlight, , The former Royal Marine from...</td>\n",
              "    </tr>\n",
              "    <tr>\n",
              "      <th>12</th>\n",
              "      <td>By Alex Greig  PUBLISHED :  11:27 EST , 23 August 2013   |  UPDATED :  12:58 EST , 23 August 2013  A man opened fire in his home in the early hours of Thursday morning , killing his daughter and h...</td>\n",
              "      <td>[@highlight, , James Edwards , 52 , opened fire in his home Thursday , shooting his entire family, , @highlight, , Daughter Laurin , 19 , was killed and her mother and brother are in a critical co...</td>\n",
              "    </tr>\n",
              "    <tr>\n",
              "      <th>13</th>\n",
              "      <td>By Suzannah Hills  PUBLISHED :  06:21 EST , 30 July 2012   |  UPDATED :  11:04 EST , 30 July 2012  Michael Foreman , 48 , died from ` multiple traumatic injuries ' after plunging 100ft to his deat...</td>\n",
              "      <td>[@highlight, , Michael Foreman , 48 , fell from a private members ' balcony on the fifth floor of the gallery, , @highlight, , Inquest hears he was reported missing just the day before his death, ...</td>\n",
              "    </tr>\n",
              "    <tr>\n",
              "      <th>14</th>\n",
              "      <td>President Bush has been criticized for making poor speeches , but according to a new survey , Obama 's address to the American people is only slightly more sophisticated .  Vocativ calculated data...</td>\n",
              "      <td>[@highlight, , A study calculated 600 presidential speeches from George Washington on using a reading comprehension algorithm called the Flesh-Kincaid readability test, , @highlight, , The algorit...</td>\n",
              "    </tr>\n",
              "    <tr>\n",
              "      <th>15</th>\n",
              "      <td>By Bianca London  PUBLISHED :   06:03 EST , 21 February 2014    | UPDATED :   07:29 EST , 21 February 2014  It was the biggest night in the British music calendar attracting the most glamorous of ...</td>\n",
              "      <td>[@highlight, , The Brits provide a spa to pamper celebrities and entourages backstage, , @highlight, , Facialists , nail artists and fake tanners available on demand, , @highlight, , Homeopathic r...</td>\n",
              "    </tr>\n",
              "    <tr>\n",
              "      <th>16</th>\n",
              "      <td>By Richard Spillett  An electronic cigarette that exploded while charging in a car has prompted fresh safety fears over the product .  Carer Kim Taylor , 54 , left the device on charge for just te...</td>\n",
              "      <td>[@highlight, , Kim Taylor , 54 , left the device plugged in on back seat of Ford Mondeo, , @highlight, , But she returned minutes later to see smoke billowing from the vehicle, , @highlight, , She...</td>\n",
              "    </tr>\n",
              "    <tr>\n",
              "      <th>17</th>\n",
              "      <td>Arsenal defender Calum Chambers has enjoyed a promising start to his career in North London , with his versatility proving a key asset in the Gunners backline and is adamant he will play a central...</td>\n",
              "      <td>[@highlight, , The 20-year-old signed for # 16million from Southampton in July 2014, , @highlight, , Calum Chambers has made 36 appearances for Arsenal so far this season, , @highlight, , Chambers...</td>\n",
              "    </tr>\n",
              "    <tr>\n",
              "      <th>18</th>\n",
              "      <td>By Daily Mail Reporter  PUBLISHED :  11:46 EST , 5 June 2012   |  UPDATED :  12:47 EST , 5 June 2012  A mother-of-two who was murdered at her workplace was buried today as police continued to say ...</td>\n",
              "      <td>[@highlight, , Michelle, Mockbee , 42 , found by colleague at Kentucky plant on May 29, , @highlight, , Leaves two daughters aged 10 and 7, , @highlight, , Police have released no cause of death o...</td>\n",
              "    </tr>\n",
              "    <tr>\n",
              "      <th>19</th>\n",
              "      <td>By Pa Reporter  Ahead of this weekend 's Premier League action , Sportsmail will be providing you with all you need to know about every fixture , with team news , provisional squads , betting odds...</td>\n",
              "      <td>[@highlight, , Stoke to assess fitness of Mame Biram Diouf, , @highlight, , Oussama Assaidi could make second Potters debut, , @highlight, , Stephen Ireland set to miss out along with Geoff Camero...</td>\n",
              "    </tr>\n",
              "  </tbody>\n",
              "</table>\n",
              "</div>"
            ],
            "text/plain": [
              "                                                                                                                                                                                                       Text                                                                                                                                                                                                  Summary\n",
              "0   Traditional GIFs are so last year . 2015 is the year of the Yoyo .  A Turkish developer has built a tool that lets users fast-forward and rewind GIFs , and embed the resulting ` Yoyos ' onto websi...  [@highlight, , Yoyo was created by a team of developers from Istanbul, , @highlight, , The tool lets users fast-forward and rewind GIFs taken from the web, , @highlight, , It works with GIF URLs f...\n",
              "1   By John Stevens For Daily Mail  David Cameron has accused the First Minister of ` desperate ' tactics over his claim that separation will protect the NHS from privatisation .  The Prime Minister s...  [@highlight, , The Prime Minister said health is already devolved to Holyrood, , @highlight, , Mr Salmond said NHS cuts in England would be replicated in Scotland, , @highlight, , Scottish Governm...\n",
              "2   Manchester United began to sow the seeds of change as their 100-strong entourage flew to the USA on Friday .  As Louis van Gaal took his new players , Wayne Rooney included , off to Los Angeles , ...  [@highlight, , Entourage of 104 head out to the States for pre season games, , @highlight, , Van Gaal is pulling up the Carrington pitch and getting wind breakers built, , @highlight, , Bebe and A...\n",
              "3   Gordon Greer was surprised to hear Robert Lewandowski complaining about his robust challenge in Scotland 's 2-2 draw against Poland last month .  The 33-year-old Brighton defender made his competi...  [@highlight, , Gordon Greer was surprised to hear Robert Lewandowski complaining about his robust challenge in last month 's Euro 2016 qualifier with Poland, , @highlight, , The match ended 2-2 an...\n",
              "4   It was one of the biggest trends of 2013 - the selfie .  But just a few days into the new year and a new craze has already taken over - the animal selfie .  Twitter has been inundated with posts o...  [@highlight, , Hundreds of #animalselfies have been posted on the social networking site, , @highlight, , Selfies include pictures of monkeys , horses and even bearded dragons, , @highlight, , Com...\n",
              "5   The man killed today in a fire that broke out in a New York City high-rise has been identified as 27-year-old Daniel McClung .  McClung was found in the stairwell of 500 West 43rd Street and taken...  [@highlight, , Authorities identified 27-year-old Daniel McClung as the victim of the fire that broke out this morning in a New York City apartment high-rise, , @highlight, , Blaze broke out on th...\n",
              "6   She is one of the hottest stars in Bollywood , currently seen shaking her sari next to a muscle-bound hunchback in the most expensive and ambitious film ever to come out of India .  She receives t...  [@highlight, , She had never acted before her screen debut in 2010 film , Madrasapattinam, , @highlight, , Now Amy Jackson has a chauffeur , make-up team and a personal assistant, , @highlight, , ...\n",
              "7   By Belinda Robinson  The mum of a 15-month-old toddler who got a coin lodged in his throat has described how lucky she feels that her son survived the drama .  Lesley Pattinson , 39 , from Fylingd...  [@highlight, , Mum Lesley Pattinson had to save her son after he swallowed a coin at home, , @highlight, , But the family lives in a remote area where the local hospital is miles away, , @highligh...\n",
              "8   Samantha Cameron is famous for her love of Scandinavian minimalist style and it seems she 's also a fan of IKEA furniture and Danish butter . The Prime Minister 's wife was hosting a breakfast for...  [@highlight, , Photos taken during a charity breakfast at No. 10 reveal new additions to Samantha Cameron 's famous kitchen, , @highlight, , Among them are a # 1,615 Flos Arco floor lamp , a # 250...\n",
              "9   Latest arrest : This is George Zimmerman 's mugshot from the Seminole Sheriff 's Office in Florida after his arrest on Friday night for assault and domestic violence with a weapon  Following his r...  [@highlight, , Third time Trayvon Martin 's killer has been arrested for domestic violence, , @highlight, , Arrested at 10pm on Friday evening in Florida and is being held on $ 5,000 bail, , @high...\n",
              "10  By Eddie Wrenn  PUBLISHED :  05:46 EST , 17 September 2012   |  UPDATED :  06:16 EST , 17 September 2012  It is one of the strangest photographs returned from Mars yet - giving a snapshot of what ...  [@highlight, , ` Blueberries ' are mineral-rich bumps on side of crater - indicating water on Mars 's surface in the past, , @highlight, , NASA : ` They seem to be crunchy on the outside , and sof...\n",
              "11  By Jill Reilly  PUBLISHED :  10:19 EST , 10 August 2012   |  UPDATED :  13:14 EST , 10 August 2012  The so-called ` Naked Rambler ' Stephen Gough refused to put on clothes during a court appearanc...  [@highlight, , Stephen Gough , 53 , is charged with breach of the peace after he walked naked near a children play area and refusing to put clothes on, , @highlight, , The former Royal Marine from...\n",
              "12  By Alex Greig  PUBLISHED :  11:27 EST , 23 August 2013   |  UPDATED :  12:58 EST , 23 August 2013  A man opened fire in his home in the early hours of Thursday morning , killing his daughter and h...  [@highlight, , James Edwards , 52 , opened fire in his home Thursday , shooting his entire family, , @highlight, , Daughter Laurin , 19 , was killed and her mother and brother are in a critical co...\n",
              "13  By Suzannah Hills  PUBLISHED :  06:21 EST , 30 July 2012   |  UPDATED :  11:04 EST , 30 July 2012  Michael Foreman , 48 , died from ` multiple traumatic injuries ' after plunging 100ft to his deat...  [@highlight, , Michael Foreman , 48 , fell from a private members ' balcony on the fifth floor of the gallery, , @highlight, , Inquest hears he was reported missing just the day before his death, ...\n",
              "14  President Bush has been criticized for making poor speeches , but according to a new survey , Obama 's address to the American people is only slightly more sophisticated .  Vocativ calculated data...  [@highlight, , A study calculated 600 presidential speeches from George Washington on using a reading comprehension algorithm called the Flesh-Kincaid readability test, , @highlight, , The algorit...\n",
              "15  By Bianca London  PUBLISHED :   06:03 EST , 21 February 2014    | UPDATED :   07:29 EST , 21 February 2014  It was the biggest night in the British music calendar attracting the most glamorous of ...  [@highlight, , The Brits provide a spa to pamper celebrities and entourages backstage, , @highlight, , Facialists , nail artists and fake tanners available on demand, , @highlight, , Homeopathic r...\n",
              "16  By Richard Spillett  An electronic cigarette that exploded while charging in a car has prompted fresh safety fears over the product .  Carer Kim Taylor , 54 , left the device on charge for just te...  [@highlight, , Kim Taylor , 54 , left the device plugged in on back seat of Ford Mondeo, , @highlight, , But she returned minutes later to see smoke billowing from the vehicle, , @highlight, , She...\n",
              "17  Arsenal defender Calum Chambers has enjoyed a promising start to his career in North London , with his versatility proving a key asset in the Gunners backline and is adamant he will play a central...  [@highlight, , The 20-year-old signed for # 16million from Southampton in July 2014, , @highlight, , Calum Chambers has made 36 appearances for Arsenal so far this season, , @highlight, , Chambers...\n",
              "18  By Daily Mail Reporter  PUBLISHED :  11:46 EST , 5 June 2012   |  UPDATED :  12:47 EST , 5 June 2012  A mother-of-two who was murdered at her workplace was buried today as police continued to say ...  [@highlight, , Michelle, Mockbee , 42 , found by colleague at Kentucky plant on May 29, , @highlight, , Leaves two daughters aged 10 and 7, , @highlight, , Police have released no cause of death o...\n",
              "19  By Pa Reporter  Ahead of this weekend 's Premier League action , Sportsmail will be providing you with all you need to know about every fixture , with team news , provisional squads , betting odds...  [@highlight, , Stoke to assess fitness of Mame Biram Diouf, , @highlight, , Oussama Assaidi could make second Potters debut, , @highlight, , Stephen Ireland set to miss out along with Geoff Camero..."
            ]
          },
          "metadata": {
            "tags": []
          },
          "execution_count": 9
        }
      ]
    },
    {
      "cell_type": "code",
      "metadata": {
        "id": "dk9DaiThTQTB"
      },
      "source": [
        "data.drop_duplicates(subset=['Text'],inplace=True)  #dropping duplicates\n",
        "data.dropna(axis=0,inplace=True)"
      ],
      "execution_count": null,
      "outputs": []
    },
    {
      "cell_type": "code",
      "metadata": {
        "id": "hODLl_Gedoic"
      },
      "source": [
        "contraction_mapping = {\"ain't\": \"is not\", \"aren't\": \"are not\",\"can't\": \"cannot\", \"'cause\": \"because\", \"could've\": \"could have\", \"couldn't\": \"could not\",\n",
        "\n",
        "                           \"didn't\": \"did not\", \"doesn't\": \"does not\", \"don't\": \"do not\", \"hadn't\": \"had not\", \"hasn't\": \"has not\", \"haven't\": \"have not\",\n",
        "\n",
        "                           \"he'd\": \"he would\",\"he'll\": \"he will\", \"he's\": \"he is\", \"how'd\": \"how did\", \"how'd'y\": \"how do you\", \"how'll\": \"how will\", \"how's\": \"how is\",\n",
        "\n",
        "                           \"I'd\": \"I would\", \"I'd've\": \"I would have\", \"I'll\": \"I will\", \"I'll've\": \"I will have\",\"I'm\": \"I am\", \"I've\": \"I have\", \"i'd\": \"i would\",\n",
        "\n",
        "                           \"i'd've\": \"i would have\", \"i'll\": \"i will\",  \"i'll've\": \"i will have\",\"i'm\": \"i am\", \"i've\": \"i have\", \"isn't\": \"is not\", \"it'd\": \"it would\",\n",
        "\n",
        "                           \"it'd've\": \"it would have\", \"it'll\": \"it will\", \"it'll've\": \"it will have\",\"it's\": \"it is\", \"let's\": \"let us\", \"ma'am\": \"madam\",\n",
        "\n",
        "                           \"mayn't\": \"may not\", \"might've\": \"might have\",\"mightn't\": \"might not\",\"mightn't've\": \"might not have\", \"must've\": \"must have\",\n",
        "\n",
        "                           \"mustn't\": \"must not\", \"mustn't've\": \"must not have\", \"needn't\": \"need not\", \"needn't've\": \"need not have\",\"o'clock\": \"of the clock\",\n",
        "\n",
        "                           \"oughtn't\": \"ought not\", \"oughtn't've\": \"ought not have\", \"shan't\": \"shall not\", \"sha'n't\": \"shall not\", \"shan't've\": \"shall not have\",\n",
        "\n",
        "                           \"she'd\": \"she would\", \"she'd've\": \"she would have\", \"she'll\": \"she will\", \"she'll've\": \"she will have\", \"she's\": \"she is\",\n",
        "\n",
        "                           \"should've\": \"should have\", \"shouldn't\": \"should not\", \"shouldn't've\": \"should not have\", \"so've\": \"so have\",\"so's\": \"so as\",\n",
        "\n",
        "                           \"this's\": \"this is\",\"that'd\": \"that would\", \"that'd've\": \"that would have\", \"that's\": \"that is\", \"there'd\": \"there would\",\n",
        "\n",
        "                           \"there'd've\": \"there would have\", \"there's\": \"there is\", \"here's\": \"here is\",\"they'd\": \"they would\", \"they'd've\": \"they would have\",\n",
        "\n",
        "                           \"they'll\": \"they will\", \"they'll've\": \"they will have\", \"they're\": \"they are\", \"they've\": \"they have\", \"to've\": \"to have\",\n",
        "\n",
        "                           \"wasn't\": \"was not\", \"we'd\": \"we would\", \"we'd've\": \"we would have\", \"we'll\": \"we will\", \"we'll've\": \"we will have\", \"we're\": \"we are\",\n",
        "\n",
        "                           \"we've\": \"we have\", \"weren't\": \"were not\", \"what'll\": \"what will\", \"what'll've\": \"what will have\", \"what're\": \"what are\",\n",
        "\n",
        "                           \"what's\": \"what is\", \"what've\": \"what have\", \"when's\": \"when is\", \"when've\": \"when have\", \"where'd\": \"where did\", \"where's\": \"where is\",\n",
        "\n",
        "                           \"where've\": \"where have\", \"who'll\": \"who will\", \"who'll've\": \"who will have\", \"who's\": \"who is\", \"who've\": \"who have\",\n",
        "\n",
        "                           \"why's\": \"why is\", \"why've\": \"why have\", \"will've\": \"will have\", \"won't\": \"will not\", \"won't've\": \"will not have\",\n",
        "\n",
        "                           \"would've\": \"would have\", \"wouldn't\": \"would not\", \"wouldn't've\": \"would not have\", \"y'all\": \"you all\",\n",
        "\n",
        "                           \"y'all'd\": \"you all would\",\"y'all'd've\": \"you all would have\",\"y'all're\": \"you all are\",\"y'all've\": \"you all have\",\n",
        "\n",
        "                           \"you'd\": \"you would\", \"you'd've\": \"you would have\", \"you'll\": \"you will\", \"you'll've\": \"you will have\",\n",
        "\n",
        "                           \"you're\": \"you are\", \"you've\": \"you have\"}"
      ],
      "execution_count": null,
      "outputs": []
    },
    {
      "cell_type": "code",
      "metadata": {
        "colab": {
          "base_uri": "https://localhost:8080/"
        },
        "id": "eBOp7yuUd199",
        "outputId": "76e6badb-f521-4686-896c-6e935c058987"
      },
      "source": [
        "data['Text'][:10]"
      ],
      "execution_count": null,
      "outputs": [
        {
          "output_type": "execute_result",
          "data": {
            "text/plain": [
              "0    Traditional GIFs are so last year . 2015 is the year of the Yoyo .  A Turkish developer has built a tool that lets users fast-forward and rewind GIFs , and embed the resulting ` Yoyos ' onto websi...\n",
              "1    By John Stevens For Daily Mail  David Cameron has accused the First Minister of ` desperate ' tactics over his claim that separation will protect the NHS from privatisation .  The Prime Minister s...\n",
              "2    Manchester United began to sow the seeds of change as their 100-strong entourage flew to the USA on Friday .  As Louis van Gaal took his new players , Wayne Rooney included , off to Los Angeles , ...\n",
              "3    Gordon Greer was surprised to hear Robert Lewandowski complaining about his robust challenge in Scotland 's 2-2 draw against Poland last month .  The 33-year-old Brighton defender made his competi...\n",
              "4    It was one of the biggest trends of 2013 - the selfie .  But just a few days into the new year and a new craze has already taken over - the animal selfie .  Twitter has been inundated with posts o...\n",
              "5    The man killed today in a fire that broke out in a New York City high-rise has been identified as 27-year-old Daniel McClung .  McClung was found in the stairwell of 500 West 43rd Street and taken...\n",
              "6    She is one of the hottest stars in Bollywood , currently seen shaking her sari next to a muscle-bound hunchback in the most expensive and ambitious film ever to come out of India .  She receives t...\n",
              "7    By Belinda Robinson  The mum of a 15-month-old toddler who got a coin lodged in his throat has described how lucky she feels that her son survived the drama .  Lesley Pattinson , 39 , from Fylingd...\n",
              "8    Samantha Cameron is famous for her love of Scandinavian minimalist style and it seems she 's also a fan of IKEA furniture and Danish butter . The Prime Minister 's wife was hosting a breakfast for...\n",
              "9    Latest arrest : This is George Zimmerman 's mugshot from the Seminole Sheriff 's Office in Florida after his arrest on Friday night for assault and domestic violence with a weapon  Following his r...\n",
              "Name: Text, dtype: object"
            ]
          },
          "metadata": {
            "tags": []
          },
          "execution_count": 12
        }
      ]
    },
    {
      "cell_type": "code",
      "metadata": {
        "colab": {
          "base_uri": "https://localhost:8080/"
        },
        "id": "c6XODVHteMT2",
        "outputId": "9a597341-ae41-4d0c-d178-d557d0b25160"
      },
      "source": [
        "nltk.download('stopwords')\n",
        "stop_words = set(stopwords.words('english')) \n",
        "def text_cleaner(text):\n",
        "    newString = text.lower()\n",
        "    newString = BeautifulSoup(newString, \"lxml\").text\n",
        "    newString = re.sub(r'\\([^)]*\\)', '', newString)\n",
        "    newString = re.sub('\"','', newString)\n",
        "    newString = ' '.join([contraction_mapping[t] if t in contraction_mapping else t for t in newString.split(\" \")])    \n",
        "    newString = re.sub(r\"'s\\b\",\"\",newString)\n",
        "    newString = re.sub(\"[^a-zA-Z]\", \" \", newString) \n",
        "    tokens = [w for w in newString.split() if not w in stop_words]\n",
        "    long_words=[]\n",
        "    for i in tokens:\n",
        "        if len(i)>=3:                  #removing short word\n",
        "            long_words.append(i)   \n",
        "    return (\" \".join(long_words)).strip()\n",
        "\n",
        "cleaned_text = []\n",
        "for t in data['Text']:\n",
        "    cleaned_text.append(text_cleaner(t))"
      ],
      "execution_count": null,
      "outputs": [
        {
          "output_type": "stream",
          "text": [
            "[nltk_data] Downloading package stopwords to /root/nltk_data...\n",
            "[nltk_data]   Unzipping corpora/stopwords.zip.\n"
          ],
          "name": "stdout"
        }
      ]
    },
    {
      "cell_type": "code",
      "metadata": {
        "colab": {
          "base_uri": "https://localhost:8080/"
        },
        "id": "HPp_qMM6eKvo",
        "outputId": "4c0a9a53-2571-40f0-e7dd-8b6bb1003e07"
      },
      "source": [
        "data['Summary'][:10]"
      ],
      "execution_count": null,
      "outputs": [
        {
          "output_type": "execute_result",
          "data": {
            "text/plain": [
              "0    [@highlight, , Yoyo was created by a team of developers from Istanbul, , @highlight, , The tool lets users fast-forward and rewind GIFs taken from the web, , @highlight, , It works with GIF URLs f...\n",
              "1    [@highlight, , The Prime Minister said health is already devolved to Holyrood, , @highlight, , Mr Salmond said NHS cuts in England would be replicated in Scotland, , @highlight, , Scottish Governm...\n",
              "2    [@highlight, , Entourage of 104 head out to the States for pre season games, , @highlight, , Van Gaal is pulling up the Carrington pitch and getting wind breakers built, , @highlight, , Bebe and A...\n",
              "3    [@highlight, , Gordon Greer was surprised to hear Robert Lewandowski complaining about his robust challenge in last month 's Euro 2016 qualifier with Poland, , @highlight, , The match ended 2-2 an...\n",
              "4    [@highlight, , Hundreds of #animalselfies have been posted on the social networking site, , @highlight, , Selfies include pictures of monkeys , horses and even bearded dragons, , @highlight, , Com...\n",
              "5    [@highlight, , Authorities identified 27-year-old Daniel McClung as the victim of the fire that broke out this morning in a New York City apartment high-rise, , @highlight, , Blaze broke out on th...\n",
              "6    [@highlight, , She had never acted before her screen debut in 2010 film , Madrasapattinam, , @highlight, , Now Amy Jackson has a chauffeur , make-up team and a personal assistant, , @highlight, , ...\n",
              "7    [@highlight, , Mum Lesley Pattinson had to save her son after he swallowed a coin at home, , @highlight, , But the family lives in a remote area where the local hospital is miles away, , @highligh...\n",
              "8    [@highlight, , Photos taken during a charity breakfast at No. 10 reveal new additions to Samantha Cameron 's famous kitchen, , @highlight, , Among them are a # 1,615 Flos Arco floor lamp , a # 250...\n",
              "9    [@highlight, , Third time Trayvon Martin 's killer has been arrested for domestic violence, , @highlight, , Arrested at 10pm on Friday evening in Florida and is being held on $ 5,000 bail, , @high...\n",
              "Name: Summary, dtype: object"
            ]
          },
          "metadata": {
            "tags": []
          },
          "execution_count": 14
        }
      ]
    },
    {
      "cell_type": "code",
      "metadata": {
        "id": "0x6Z69QPeIYJ"
      },
      "source": [
        "\n",
        "def summary_cleaner(text):\n",
        "    newString = re.sub('\"','', str(text))\n",
        "    newString = ' '.join([contraction_mapping[t] if t in contraction_mapping else t for t in newString.split(\" \")])    \n",
        "    newString = re.sub(r\"'s\\b\",\"\",newString)\n",
        "    newString = re.sub(\"[^a-zA-Z]\", \" \", newString)\n",
        "    newString = newString.lower()\n",
        "    tokens=newString.split()\n",
        "    newString=''\n",
        "    for i in tokens:\n",
        "        if len(i)>1:                                 \n",
        "            newString=newString+i+' '  \n",
        "    return newString\n",
        "\n",
        "#Call the above function\n",
        "cleaned_summary = []\n",
        "for t in data['Summary']:\n",
        "    cleaned_summary.append(summary_cleaner(t))\n",
        "\n",
        "data['cleaned_text']=cleaned_text\n",
        "data['cleaned_summary']=cleaned_summary\n",
        "data['cleaned_summary'].replace('', np.nan, inplace=True)\n",
        "data.dropna(axis=0,inplace=True)"
      ],
      "execution_count": null,
      "outputs": []
    },
    {
      "cell_type": "code",
      "metadata": {
        "id": "UX2nWiMZeCYL"
      },
      "source": [
        "data['cleaned_summary'] = data['cleaned_summary'].apply(lambda x : '_START_ '+ x + ' _END_')"
      ],
      "execution_count": null,
      "outputs": []
    },
    {
      "cell_type": "code",
      "metadata": {
        "colab": {
          "base_uri": "https://localhost:8080/"
        },
        "id": "n-E43BryG0ys",
        "outputId": "02542600-542b-4e6b-a48e-2dd0c85be19c"
      },
      "source": [
        "for i in range(5):\n",
        "    print(\"Review:\",data['cleaned_text'][i])\n",
        "    print(\"Summary:\",data['cleaned_summary'][i])\n",
        "    print(\"\\n\")"
      ],
      "execution_count": null,
      "outputs": [
        {
          "output_type": "stream",
          "text": [
            "Review: traditional gifs last year year yoyo turkish developer built tool lets users fast forward rewind gifs embed resulting yoyos onto websites blogs yoyos also tweeted shared facebook tool works gif url including tumblr posts vines yoyo created team developers istanbul web based tool lets users fast forward rewind gifs taken web works gif urls tumblr vine twitter imgur control yoyo hover mouse cursor image move left right tool created team developers istanbul yoyo basically tool gives control gifs explained site instead letting play interfere course gifs users see collection yoyos site news feed follow users creating account users see collection yoyos site news feed follow users creating account registered users create post yoyos site lrb pictured rrb users click heart icons yoyos repost profiles using arrow icons clicking menu button top right hand corner additionally reveals yoyos embed code lrb pictured rrb registered users create post yoyos site add yoyo click blue yoyo button top right hand corner site users see collection yoyos site news feed follow users creating account registered users create post yoyos site clicking menu button top right hand corner yoyo reveals particular gifs embed code users also click heart icons yoyos repost profiles comments likes users also shown paste url gif press enter yoyo created atutomatically control yoyo hover mouse cursor image move left right clicking menu button top right hand corner yoyo reveals particular gifs embed code users also click heart icons yoyos repost profiles using arrow icons comments likes users also shown individual posts know internet biggest mission cat gifs added site internet task successfully lsb rsb cat gifs everywhere time internet control enjoy new world like boss like like gamer welcome comments likes users also shown individual yoyos posts also tweeted shared facebook\n",
            "Summary: _START_ highlight yoyo was created by team of developers from istanbul highlight the tool lets users fast forward and rewind gifs taken from the web highlight it works with gif urls from tumblr vine twitter and imgur highlight yoyos can be tweeted shared to facebook and embedded into websites  _END_\n",
            "\n",
            "\n",
            "Review: john stevens daily mail david cameron accused first minister desperate tactics claim separation protect nhs privatisation prime minister stressed health devolved holyrood controversial changes westminster imposed scots alex salmond went green bowling arbroath scotland commonwealth medallists today argued nhs budget cuts south border would replicated scotland despite fact holyrood received extra billion westminster five years first minister alex salmond visits abbey bowling club arbroath played game bowls commonwealth bowling gold medalist darren burnett sport minister shona robison salmond celebrated first attempt bowling later emerged practising beforehand persisted argument despite claims hypocrisy emerged scottish government spending private contractors rose almost quarter last year million cameron said health devolved issue person could wanted introduce private provision nhs scotland alex salmond think desperate man recognising argument going away making pretty desperate argument actually protection nhs spending government given would cut nhs spending make difficult decisions elsewhere actually made sure barnett formula money available scotland well think argument stack salmond even claimed would legally protect scotland nhs privatisation constitution attempt woo left wing voters pro independence yes scotland campaign say message winning voters doorsteps campaigning glasgow yesterday chief executive blair jenkins said real threats risks stay people scotland really waking extent nhs england privatised coming lot people know stay austerity agenda pressure public services budget cuts continue doubt touching real emotional nerve people particularly women see really strong argument front voting independence prime minister attacked salmond claim nhs would safer privatisation independence first minister alex salmond scottish cabinet hold last cabinet meeting referendum scottish independence next month scottish spending private sector healthcare rose per cent first five years snp came power recent audit scotland figures available private spending reached million per cent higher previous year alone unaudited figures show slight dip million still far higher previous years salmond argued privatisation south border lead cut fact budget england nhs expected increase billion billion\n",
            "Summary: _START_ highlight the prime minister said health is already devolved to holyrood highlight mr salmond said nhs cuts in england would be replicated in scotland highlight scottish government spending on private contractors has risen by  _END_\n",
            "\n",
            "\n",
            "Review: manchester united began sow seeds change strong entourage flew usa friday louis van gaal took new players wayne rooney included los angeles diggers moved club carrington training base herald start new era demanding dutchman signalled ahead first team training pitches ripped replaced new surface desso grassmaster surface place old trafford used wembley hybrid grass synthetic fibres scroll video smiles new manchester united manager shares joke frontman wayne rooney airport pre season tour van gaal arrived manchester airport friday afternoon new red devils squad new boys new signings ander herrera luke shaw play united america team effort juan mata takes selfie david gea ander herrera rafael high flying manchester united posted picture chartered plane players took time another photo opportunity board infrequent flier ander herrera signs autographs ahead first trip outside europe changes expected plans trees double fences act wind breaks around complex idea also help privacy mooted months van gaal quick assert work carried signs nonsense approach evident yesterday misfits anderson bebe among left behind bebe hopes join benfica anderson loan fiorentina last season picked calf injury training leave buyer found van gaal cut youngsters tom lawrence davide petrucci tom thorpe andreas pereira nick powell usa travelling party used friendlies home year old also ordered friday flight manchester moved back later take let squad gather carrington met allow light testing remaining england world cup contingent rooney danny welbeck phil jones chris smalling lunch coach airport well van gaal players almost extra staff flight land opportunity commercial revenue means business united income vital particularly team miss competing europe corporate demands shocked former manager david moyes last summer need due attention van gaal acknowledged message supporters yesterday proud said hope fulfil expectations heard season tickets already sold pleased hope support team always winning losing winning together losing together red devils play four matches beginning david beckham former club chevrolet cup galaxy los angeles july international champions cup roma denver july inter milan washington july real madrid ann arbor august besties ashley young takes new boy ander herrera wing manchester airport injured anderson pictured arriving training bebe missing trip calf injury sidelined michael carrick ruled long time suffering ankle injury training gea lindegaard amos johnstone rafael evans smalling jones shaw blackett keane james herrera cleverley fletcher young zaha kagawa mata valencia nani lingard welbeck rooney keane\n",
            "Summary: _START_ highlight entourage of head out to the states for pre season games highlight van gaal is pulling up the carrington pitch and getting wind breakers built highlight bebe and anderson face the exit and van gaal has cut youngsters from travelling squad  _END_\n",
            "\n",
            "\n",
            "Review: gordon greer surprised hear robert lewandowski complaining robust challenge scotland draw poland last month year old brighton defender made competitive debut european championship qualifier warsaw minutes left bayern munich star agony tackle described afterwards lewandowski brutal pole also claimed hammer could inflicted similar damage shin guard gordon greer challenges robert lewandowski last month euro qualifier poland however speaking ahead group game republic ireland celtic park friday night greer said must annoyed speak really expect anything come bit surprised game bit made think anything wrong tackle neither referee obviously bit upset challenge one things really know make really bother honest things happen football thought game played good spirit greer made debut year ago usa hampden park partnered russell martin absence injured grant hanley fit brighton defender greer speaks media ahead international break greer hoping keep place side visit irish said privileged part squad honoured every time come away try best luckily managed play games best training well manager everybody feels everybody chance get opportunity take happy performed poland competition places scotland take england friendly celtic park november\n",
            "Summary: _START_ highlight gordon greer was surprised to hear robert lewandowski complaining about his robust challenge in last month euro qualifier with poland highlight the match ended and was played in good spirits insists greer highlight scotland face ireland on friday night followed by friendly with england  _END_\n",
            "\n",
            "\n",
            "Review: one biggest trends selfie days new year new craze already taken animal selfie twitter inundated posts animals pulling best poses camera next hashtag animalselfies cats dogs getting action monkeys horses even bearded dragons getting involved smile two dogs happily smile camera animal selfie posted twitter ready close lemur grabs hold camera taking selfie hanging park dog decided capture walk camera big poser laura lawson tweeted amusing picture brother brandon bearded dragon posing result series adorable often humourous snaps animals attempt perfect close ups laura lawson tweeted amusing picture brother brandon bearded dragon posing camera wrote brothers bearded dragons always posing say cheese tom campbell posted picture girlfriend dog instagram running theme pet dog also opted stick tongue selfie posing paw parazzi white cat manages steely look camera monkey business crested black macaque look impressed stares camera lens comes oxford dictionaries named selfie word year beating tough competition twerk binge watch showrooming another big craze involved farmers taking felfies alongside herds pet owners seem pushed picture together animals take centre stage animal selfies taking centre stage alice doberman poses picture owner pushed shot picture perfect crested black macaque demonstrates pull perfect animal selfie paws thought tabby looks ready cat nap dog life mastiff poses red dog collar side selfie dog masters art side selfie one side face captured camera\n",
            "Summary: _START_ highlight hundreds of animalselfies have been posted on the social networking site highlight selfies include pictures of monkeys horses and even bearded dragons highlight comes after selfie was named the word of the year by oxford dictionaries  _END_\n",
            "\n",
            "\n"
          ],
          "name": "stdout"
        }
      ]
    },
    {
      "cell_type": "code",
      "metadata": {
        "colab": {
          "base_uri": "https://localhost:8080/",
          "height": 281
        },
        "id": "dRF3WQwCHAJY",
        "outputId": "dbd90f1b-32d1-4743-949c-e5d9544514d5"
      },
      "source": [
        "import matplotlib.pyplot as plt\n",
        "text_word_count = []\n",
        "summary_word_count = []\n",
        "\n",
        "# populate the lists with sentence lengths\n",
        "for i in data['cleaned_text']:\n",
        "      text_word_count.append(len(i.split()))\n",
        "\n",
        "for i in data['cleaned_summary']:\n",
        "      summary_word_count.append(len(i.split()))\n",
        "\n",
        "length_df = pd.DataFrame({'text':text_word_count, 'summary':summary_word_count})\n",
        "length_df.hist(bins = 30)\n",
        "plt.show()\n"
      ],
      "execution_count": null,
      "outputs": [
        {
          "output_type": "display_data",
          "data": {
            "image/png": "[encoded data removed]",
            "text/plain": [
              "<Figure size 432x288 with 2 Axes>"
            ]
          },
          "metadata": {
            "tags": [],
            "needs_background": "light"
          }
        }
      ]
    },
    {
      "cell_type": "code",
      "metadata": {
        "id": "vXrm5YnKHFQO"
      },
      "source": [
        "\n",
        "max_len_text=80 \n",
        "max_len_summary=10\n",
        "from sklearn.model_selection import train_test_split\n",
        "x_tr,x_val,y_tr,y_val=train_test_split(data['cleaned_text'],data['cleaned_summary'],test_size=0.1,random_state=0,shuffle=True)"
      ],
      "execution_count": null,
      "outputs": []
    },
    {
      "cell_type": "code",
      "metadata": {
        "id": "pxt7qrelHJxh"
      },
      "source": [
        "#prepare a tokenizer for reviews on training data\n",
        "x_tokenizer = Tokenizer()\n",
        "x_tokenizer.fit_on_texts(list(x_tr))\n",
        "\n",
        "#convert text sequences into integer sequences\n",
        "x_tr    =   x_tokenizer.texts_to_sequences(x_tr) \n",
        "x_val   =   x_tokenizer.texts_to_sequences(x_val)\n",
        "\n",
        "#padding zero upto maximum length\n",
        "x_tr    =   pad_sequences(x_tr,  maxlen=max_len_text, padding='post') \n",
        "x_val   =   pad_sequences(x_val, maxlen=max_len_text, padding='post')\n",
        "\n",
        "x_voc_size   =  len(x_tokenizer.word_index) +1"
      ],
      "execution_count": null,
      "outputs": []
    },
    {
      "cell_type": "code",
      "metadata": {
        "id": "rf0Q8CFOIsVP"
      },
      "source": [
        "#preparing a tokenizer for summary on training data \n",
        "y_tokenizer = Tokenizer()\n",
        "y_tokenizer.fit_on_texts(list(y_tr))\n",
        "\n",
        "#convert summary sequences into integer sequences\n",
        "y_tr    =   y_tokenizer.texts_to_sequences(y_tr) \n",
        "y_val   =   y_tokenizer.texts_to_sequences(y_val) \n",
        "\n",
        "#padding zero upto maximum length\n",
        "y_tr    =   pad_sequences(y_tr, maxlen=max_len_summary, padding='post')\n",
        "y_val   =   pad_sequences(y_val, maxlen=max_len_summary, padding='post')\n",
        "\n",
        "y_voc_size  =   len(y_tokenizer.word_index) +1"
      ],
      "execution_count": null,
      "outputs": []
    },
    {
      "cell_type": "code",
      "metadata": {
        "colab": {
          "base_uri": "https://localhost:8080/"
        },
        "id": "Ex99qf_7Iyzr",
        "outputId": "89bb93a3-857b-4164-91b9-89052f464bf6"
      },
      "source": [
        "!wget 'http://nlp.stanford.edu/data/glove.6B.zip'\n",
        "!unzip '/content/glove.6B.zip'"
      ],
      "execution_count": null,
      "outputs": [
        {
          "output_type": "stream",
          "text": [
            "--2020-12-07 11:27:06--  http://nlp.stanford.edu/data/glove.6B.zip\n",
            "Resolving nlp.stanford.edu (nlp.stanford.edu)... 171.64.67.140\n",
            "Connecting to nlp.stanford.edu (nlp.stanford.edu)|171.64.67.140|:80... connected.\n",
            "HTTP request sent, awaiting response... 302 Found\n",
            "Location: https://nlp.stanford.edu/data/glove.6B.zip [following]\n",
            "--2020-12-07 11:27:06--  https://nlp.stanford.edu/data/glove.6B.zip\n",
            "Connecting to nlp.stanford.edu (nlp.stanford.edu)|171.64.67.140|:443... connected.\n",
            "HTTP request sent, awaiting response... 301 Moved Permanently\n",
            "Location: http://downloads.cs.stanford.edu/nlp/data/glove.6B.zip [following]\n",
            "--2020-12-07 11:27:06--  http://downloads.cs.stanford.edu/nlp/data/glove.6B.zip\n",
            "Resolving downloads.cs.stanford.edu (downloads.cs.stanford.edu)... 171.64.64.22\n",
            "Connecting to downloads.cs.stanford.edu (downloads.cs.stanford.edu)|171.64.64.22|:80... connected.\n",
            "HTTP request sent, awaiting response... 200 OK\n",
            "Length: 862182613 (822M) [application/zip]\n",
            "Saving to: ‘glove.6B.zip’\n",
            "\n",
            "glove.6B.zip        100%[===================>] 822.24M  2.23MB/s    in 6m 27s  \n",
            "\n",
            "2020-12-07 11:33:34 (2.12 MB/s) - ‘glove.6B.zip’ saved [862182613/862182613]\n",
            "\n",
            "Archive:  /content/glove.6B.zip\n",
            "  inflating: glove.6B.50d.txt        \n",
            "  inflating: glove.6B.100d.txt       \n",
            "  inflating: glove.6B.200d.txt       \n",
            "  inflating: glove.6B.300d.txt       \n"
          ],
          "name": "stdout"
        }
      ]
    },
    {
      "cell_type": "code",
      "metadata": {
        "id": "NWZ6lqIDI8V2"
      },
      "source": [
        "# GLOVE_DIR = path for glove.6B.100d.txt\n",
        "def glove_100d_dictionary(GLOVE_DIR):\n",
        "  embeddings_index = {}\n",
        "  f = open(os.path.join(GLOVE_DIR, 'glove.6B.100d.txt'))\n",
        "  for line in f:\n",
        "      values = line.split()\n",
        "      word = values[0]\n",
        "      coefs = np.asarray(values[1:], dtype='float32')\n",
        "      embeddings_index[word] = coefs\n",
        "  f.close()\n",
        "  return embeddings_index"
      ],
      "execution_count": null,
      "outputs": []
    },
    {
      "cell_type": "code",
      "metadata": {
        "colab": {
          "base_uri": "https://localhost:8080/"
        },
        "id": "rzF7qP8uJB2q",
        "outputId": "b7a30bc1-7518-4500-d391-68f9471209d8"
      },
      "source": [
        "embeddings_index = {}\n",
        "f = open(os.path.join('/content', 'glove.6B.100d.txt'))\n",
        "for line in f:\n",
        "    values = line.split()\n",
        "    word = values[0]\n",
        "    coefs = np.asarray(values[1:], dtype='float32')\n",
        "    embeddings_index[word] = coefs\n",
        "f.close()\n",
        "\n",
        "print('Found %s word vectors.' % len(embeddings_index))"
      ],
      "execution_count": null,
      "outputs": [
        {
          "output_type": "stream",
          "text": [
            "Found 400000 word vectors.\n"
          ],
          "name": "stdout"
        }
      ]
    },
    {
      "cell_type": "code",
      "metadata": {
        "id": "jRy09eDTJF_2"
      },
      "source": [
        "\n",
        "word_index = x_tokenizer.word_index\n",
        "embedding_matrix = np.zeros((len(word_index) + 1, 100))\n",
        "for word, i in word_index.items():\n",
        "    embedding_vector = embeddings_index.get(word)\n",
        "    if embedding_vector is not None:\n",
        "        # words not found in embedding index will be all-zeros.\n",
        "        embedding_matrix[i] = embedding_vector\n",
        "        "
      ],
      "execution_count": null,
      "outputs": []
    },
    {
      "cell_type": "code",
      "metadata": {
        "id": "nwAd2uAPJLt0"
      },
      "source": [],
      "execution_count": null,
      "outputs": []
    },
    {
      "cell_type": "markdown",
      "metadata": {
        "id": "LDoT3x4Z779X"
      },
      "source": [
        "# **AttentioLayer**"
      ]
    },
    {
      "cell_type": "code",
      "metadata": {
        "id": "6Bttt60-S5H7"
      },
      "source": [],
      "execution_count": null,
      "outputs": []
    },
    {
      "cell_type": "code",
      "metadata": {
        "id": "h-51OGU9EQ9M"
      },
      "source": [],
      "execution_count": null,
      "outputs": []
    },
    {
      "cell_type": "code",
      "metadata": {
        "id": "IaWP_okWBwVu"
      },
      "source": [],
      "execution_count": null,
      "outputs": []
    },
    {
      "cell_type": "code",
      "metadata": {
        "id": "yVIwPxaGJp0f"
      },
      "source": [
        "from tensorflow.python.keras.layers import Layer\n",
        "from tensorflow.python.keras import backend as K\n",
        "\n",
        "\n",
        "class AttentionLayer(Layer):\n",
        "    \"\"\"\n",
        "    This class implements Bahdanau attention (https://arxiv.org/pdf/1409.0473.pdf).\n",
        "    There are three sets of weights introduced W_a, U_a, and V_a\n",
        "     \"\"\"\n",
        "\n",
        "    def __init__(self, **kwargs):\n",
        "        super(AttentionLayer, self).__init__(**kwargs)\n",
        "\n",
        "    def build(self, input_shape):\n",
        "        assert isinstance(input_shape, list)\n",
        "        # Create a trainable weight variable for this layer.\n",
        "\n",
        "        self.W_a = self.add_weight(name='W_a',\n",
        "                                   shape=tf.TensorShape((input_shape[0][2], input_shape[0][2])),\n",
        "                                   initializer='uniform',\n",
        "                                   trainable=True)\n",
        "        self.U_a = self.add_weight(name='U_a',\n",
        "                                   shape=tf.TensorShape((input_shape[1][2], input_shape[0][2])),\n",
        "                                   initializer='uniform',\n",
        "                                   trainable=True)\n",
        "        self.V_a = self.add_weight(name='V_a',\n",
        "                                   shape=tf.TensorShape((input_shape[0][2], 1)),\n",
        "                                   initializer='uniform',\n",
        "                                   trainable=True)\n",
        "\n",
        "        super(AttentionLayer, self).build(input_shape)  # Be sure to call this at the end\n",
        "\n",
        "    def call(self, inputs, verbose=False):\n",
        "        \"\"\"\n",
        "        inputs: [encoder_output_sequence, decoder_output_sequence]\n",
        "        \"\"\"\n",
        "        assert type(inputs) == list\n",
        "        encoder_out_seq, decoder_out_seq = inputs\n",
        "        if verbose:\n",
        "            print('encoder_out_seq>', encoder_out_seq.shape)\n",
        "            print('decoder_out_seq>', decoder_out_seq.shape)\n",
        "\n",
        "        def energy_step(inputs, states):\n",
        "            \"\"\" Step function for computing energy for a single decoder state\n",
        "            inputs: (batchsize * 1 * de_in_dim)\n",
        "            states: (batchsize * 1 * de_latent_dim)\n",
        "            \"\"\"\n",
        "\n",
        "            assert_msg = \"States must be an iterable. Got {} of type {}\".format(states, type(states))\n",
        "            assert isinstance(states, list) or isinstance(states, tuple), assert_msg\n",
        "\n",
        "            \"\"\" Some parameters required for shaping tensors\"\"\"\n",
        "            en_seq_len, en_hidden = encoder_out_seq.shape[1], encoder_out_seq.shape[2]\n",
        "            de_hidden = inputs.shape[-1]\n",
        "\n",
        "            \"\"\" Computing S.Wa where S=[s0, s1, ..., si]\"\"\"\n",
        "            # <= batch size * en_seq_len * latent_dim\n",
        "            W_a_dot_s = K.dot(encoder_out_seq, self.W_a)\n",
        "\n",
        "            \"\"\" Computing hj.Ua \"\"\"\n",
        "            U_a_dot_h = K.expand_dims(K.dot(inputs, self.U_a), 1)  # <= batch_size, 1, latent_dim\n",
        "            if verbose:\n",
        "                print('Ua.h>', U_a_dot_h.shape)\n",
        "\n",
        "            \"\"\" tanh(S.Wa + hj.Ua) \"\"\"\n",
        "            # <= batch_size*en_seq_len, latent_dim\n",
        "            Ws_plus_Uh = K.tanh(W_a_dot_s + U_a_dot_h)\n",
        "            if verbose:\n",
        "                print('Ws+Uh>', Ws_plus_Uh.shape)\n",
        "\n",
        "            \"\"\" softmax(va.tanh(S.Wa + hj.Ua)) \"\"\"\n",
        "            # <= batch_size, en_seq_len\n",
        "            e_i = K.squeeze(K.dot(Ws_plus_Uh, self.V_a), axis=-1)\n",
        "            # <= batch_size, en_seq_len\n",
        "            e_i = K.softmax(e_i)\n",
        "\n",
        "            if verbose:\n",
        "                print('ei>', e_i.shape)\n",
        "\n",
        "            return e_i, [e_i]\n",
        "\n",
        "        def context_step(inputs, states):\n",
        "            \"\"\" Step function for computing ci using ei \"\"\"\n",
        "\n",
        "            assert_msg = \"States must be an iterable. Got {} of type {}\".format(states, type(states))\n",
        "            assert isinstance(states, list) or isinstance(states, tuple), assert_msg\n",
        "\n",
        "            # <= batch_size, hidden_size\n",
        "            c_i = K.sum(encoder_out_seq * K.expand_dims(inputs, -1), axis=1)\n",
        "            if verbose:\n",
        "                print('ci>', c_i.shape)\n",
        "            return c_i, [c_i]\n",
        "\n",
        "        fake_state_c = K.sum(encoder_out_seq, axis=1)\n",
        "        fake_state_e = K.sum(encoder_out_seq, axis=2)  # <= (batch_size, enc_seq_len, latent_dim\n",
        "\n",
        "        \"\"\" Computing energy outputs \"\"\"\n",
        "        # e_outputs => (batch_size, de_seq_len, en_seq_len)\n",
        "        last_out, e_outputs, _ = K.rnn(\n",
        "            energy_step, decoder_out_seq, [fake_state_e],\n",
        "        )\n",
        "\n",
        "        \"\"\" Computing context vectors \"\"\"\n",
        "        last_out, c_outputs, _ = K.rnn(\n",
        "            context_step, e_outputs, [fake_state_c],\n",
        "        )\n",
        "\n",
        "        return c_outputs, e_outputs\n",
        "\n",
        "    def compute_output_shape(self, input_shape):\n",
        "        \"\"\" Outputs produced by the layer \"\"\"\n",
        "        return [\n",
        "            tf.TensorShape((input_shape[1][0], input_shape[1][1], input_shape[1][2])),\n",
        "            tf.TensorShape((input_shape[1][0], input_shape[1][1], input_shape[0][1]))\n",
        "        ]"
      ],
      "execution_count": null,
      "outputs": []
    },
    {
      "cell_type": "markdown",
      "metadata": {
        "id": "TGXtLikt8Et3"
      },
      "source": [
        "# **Model**"
      ]
    },
    {
      "cell_type": "code",
      "metadata": {
        "id": "w7A5vBJOB5MX",
        "colab": {
          "base_uri": "https://localhost:8080/"
        },
        "outputId": "404f6d01-90d6-496c-b3d3-98c5cca5d9af"
      },
      "source": [
        "# from keras import backend as K \n",
        "from tensorflow.keras import backend as K\n",
        "K.clear_session() \n",
        "latent_dim = 500 \n",
        "\n",
        "# Encoder \n",
        "encoder_inputs = Input(shape=(max_len_text,)) \n",
        "enc_emb = Embedding(x_voc_size, 100, weights=[embedding_matrix],input_length=max_len_text, trainable=False)(encoder_inputs) \n",
        "\n",
        "#LSTM 1 \n",
        "encoder_lstm1 = LSTM(latent_dim,return_sequences=True,return_state=True) \n",
        "encoder_output1, state_h1, state_c1 = encoder_lstm1(enc_emb) \n",
        "\n",
        "#LSTM 2 \n",
        "encoder_lstm2 = LSTM(latent_dim,return_sequences=True,return_state=True) \n",
        "encoder_output2, state_h2, state_c2 = encoder_lstm2(encoder_output1) \n",
        "\n",
        "#LSTM 3 \n",
        "encoder_lstm3=LSTM(latent_dim, return_state=True, return_sequences=True) \n",
        "encoder_outputs, state_h, state_c= encoder_lstm3(encoder_output2) \n",
        "\n",
        "# Set up the decoder. \n",
        "decoder_inputs = Input(shape=(None,)) \n",
        "dec_emb_layer = Embedding(x_voc_size, 100, weights=[embedding_matrix],input_length=max_len_text, trainable=False) \n",
        "\n",
        "dec_emb = dec_emb_layer(decoder_inputs) \n",
        "\n",
        "#LSTM using encoder_states as initial state\n",
        "decoder_lstm = LSTM(latent_dim, return_sequences=True, return_state=True) \n",
        "decoder_outputs,decoder_fwd_state, decoder_back_state = decoder_lstm(dec_emb,initial_state=[state_h, state_c]) \n",
        "\n",
        "#Attention Layer\n",
        "# !pip install attention_keras\n",
        "# from attention_keras.layers.attention import AttentionLayer\n",
        "# !pip install keras-attention\n",
        "# !from tensorflow.keras.layers import Attention\n",
        "# !from Attention import AttentionLayer\n",
        "# !from tensorflow.keras import Input, layers, models\n",
        "# !from tensorflow.layers.attention import AttentionLayer\n",
        "# attn_layer = AttentionLayer()\n",
        "# attn_layer = AttentionLayer(name='attention_layer') \n",
        "# attn_out, attn_states = attn_layer([encoder_outputs, decoder_outputs]) \n",
        "# attention\n",
        "attn_layer = AttentionLayer()\n",
        "attn_op, attn_state = attn_layer([encoder_outputs , decoder_outputs])\n",
        "decoder_concat_input = Concatenate(axis=-1)([decoder_outputs, attn_op])\n",
        "\n",
        "# Concat attention output and decoder LSTM output \n",
        "# decoder_concat_input = Concatenate(axis=-1, name='concat_layer')([decoder_outputs, attn_out])\n",
        "\n",
        "#Dense layer\n",
        "decoder_dense = TimeDistributed(Dense(y_voc_size, activation='softmax')) \n",
        "decoder_outputs = decoder_dense(decoder_concat_input) \n",
        "\n",
        "# Define the model\n",
        "model = Model([encoder_inputs, decoder_inputs], decoder_outputs) \n",
        "model.summary()"
      ],
      "execution_count": null,
      "outputs": [
        {
          "output_type": "stream",
          "text": [
            "Model: \"functional_1\"\n",
            "__________________________________________________________________________________________________\n",
            "Layer (type)                    Output Shape         Param #     Connected to                     \n",
            "==================================================================================================\n",
            "input_1 (InputLayer)            [(None, 80)]         0                                            \n",
            "__________________________________________________________________________________________________\n",
            "embedding (Embedding)           (None, 80, 100)      304000      input_1[0][0]                    \n",
            "__________________________________________________________________________________________________\n",
            "lstm (LSTM)                     [(None, 80, 500), (N 1202000     embedding[0][0]                  \n",
            "__________________________________________________________________________________________________\n",
            "input_2 (InputLayer)            [(None, None)]       0                                            \n",
            "__________________________________________________________________________________________________\n",
            "lstm_1 (LSTM)                   [(None, 80, 500), (N 2002000     lstm[0][0]                       \n",
            "__________________________________________________________________________________________________\n",
            "embedding_1 (Embedding)         (None, None, 100)    304000      input_2[0][0]                    \n",
            "__________________________________________________________________________________________________\n",
            "lstm_2 (LSTM)                   [(None, 80, 500), (N 2002000     lstm_1[0][0]                     \n",
            "__________________________________________________________________________________________________\n",
            "lstm_3 (LSTM)                   [(None, None, 500),  1202000     embedding_1[0][0]                \n",
            "                                                                 lstm_2[0][1]                     \n",
            "                                                                 lstm_2[0][2]                     \n",
            "__________________________________________________________________________________________________\n",
            "attention_layer (AttentionLayer ((None, None, 500),  500500      lstm_2[0][0]                     \n",
            "                                                                 lstm_3[0][0]                     \n",
            "__________________________________________________________________________________________________\n",
            "concatenate (Concatenate)       (None, None, 1000)   0           lstm_3[0][0]                     \n",
            "                                                                 attention_layer[0][0]            \n",
            "__________________________________________________________________________________________________\n",
            "time_distributed (TimeDistribut (None, None, 611)    611611      concatenate[0][0]                \n",
            "==================================================================================================\n",
            "Total params: 8,128,111\n",
            "Trainable params: 7,520,111\n",
            "Non-trainable params: 608,000\n",
            "__________________________________________________________________________________________________\n"
          ],
          "name": "stdout"
        }
      ]
    },
    {
      "cell_type": "code",
      "metadata": {
        "id": "d8Bje1NnB_4O"
      },
      "source": [
        "model.compile(optimizer='rmsprop', loss='sparse_categorical_crossentropy')"
      ],
      "execution_count": null,
      "outputs": []
    },
    {
      "cell_type": "code",
      "metadata": {
        "colab": {
          "base_uri": "https://localhost:8080/"
        },
        "id": "qToL9_YMbwz2",
        "outputId": "56f15e65-ce63-4a14-b04b-d11650b34df0"
      },
      "source": [
        "checkpoint_path = \"/content/drive/MyDrive/model.ckpt\"\n",
        "checkpoint_dir = os.path.dirname(checkpoint_path)\n",
        "!ls {checkpoint_dir}"
      ],
      "execution_count": null,
      "outputs": [
        {
          "output_type": "stream",
          "text": [
            "'Colab Notebooks'  'Getting started.pdf'   model.ckpt   personal\n"
          ],
          "name": "stdout"
        }
      ]
    },
    {
      "cell_type": "code",
      "metadata": {
        "id": "8v9e_BwrJy2b"
      },
      "source": [
        "es = EarlyStopping(monitor='val_loss', mode='min', verbose=1)\n",
        "# checkpoint\n",
        "filepath=\"weights-improvement-{epoch:02d}-{val_loss:.2f}.hdf5\"\n",
        "# Create a callback that saves the model's weights\n",
        "cp_callback = tf.keras.callbacks.ModelCheckpoint(filepath=checkpoint_path,verbose=1,save_best_only=True, monitor='val_loss',)\n",
        "\n",
        "# checkpoint = ModelCheckpoint(filepath, monitor='val_loss', verbose=1,  mode='max')\n",
        "callbacks_list = [cp_callback,es]"
      ],
      "execution_count": null,
      "outputs": []
    },
    {
      "cell_type": "code",
      "metadata": {
        "colab": {
          "base_uri": "https://localhost:8080/"
        },
        "id": "-QxwuFqXJ3Bo",
        "outputId": "14351b9f-9e6d-4371-ce38-b2ae4054c965"
      },
      "source": [
        "\n",
        "x_tr\n",
        "y_tr[:,:-1]\n",
        "y_tr.reshape(y_tr.shape[0],y_tr.shape[1], 1)[:,1:]"
      ],
      "execution_count": null,
      "outputs": [
        {
          "output_type": "execute_result",
          "data": {
            "text/plain": [
              "array([[[152],\n",
              "        [ 25],\n",
              "        [153],\n",
              "        [ 17],\n",
              "        [ 12],\n",
              "        [154],\n",
              "        [  6],\n",
              "        [ 51],\n",
              "        [  7]],\n",
              "\n",
              "       [[195],\n",
              "        [  5],\n",
              "        [196],\n",
              "        [197],\n",
              "        [  3],\n",
              "        [198],\n",
              "        [ 12],\n",
              "        [199],\n",
              "        [  7]],\n",
              "\n",
              "       [[  9],\n",
              "        [  2],\n",
              "        [214],\n",
              "        [  3],\n",
              "        [215],\n",
              "        [  5],\n",
              "        [  2],\n",
              "        [216],\n",
              "        [  7]],\n",
              "\n",
              "       [[  2],\n",
              "        [230],\n",
              "        [231],\n",
              "        [232],\n",
              "        [233],\n",
              "        [  9],\n",
              "        [234],\n",
              "        [ 69],\n",
              "        [  7]],\n",
              "\n",
              "       [[255],\n",
              "        [  5],\n",
              "        [  2],\n",
              "        [256],\n",
              "        [ 44],\n",
              "        [ 21],\n",
              "        [ 16],\n",
              "        [257],\n",
              "        [  7]],\n",
              "\n",
              "       [[284],\n",
              "        [285],\n",
              "        [  9],\n",
              "        [ 77],\n",
              "        [ 23],\n",
              "        [ 37],\n",
              "        [ 31],\n",
              "        [286],\n",
              "        [  7]],\n",
              "\n",
              "       [[  2],\n",
              "        [ 47],\n",
              "        [  4],\n",
              "        [  2],\n",
              "        [ 29],\n",
              "        [ 15],\n",
              "        [302],\n",
              "        [303],\n",
              "        [  7]],\n",
              "\n",
              "       [[ 79],\n",
              "        [ 80],\n",
              "        [ 20],\n",
              "        [319],\n",
              "        [320],\n",
              "        [ 10],\n",
              "        [321],\n",
              "        [322],\n",
              "        [  7]],\n",
              "\n",
              "       [[  5],\n",
              "        [ 89],\n",
              "        [ 90],\n",
              "        [ 45],\n",
              "        [354],\n",
              "        [  4],\n",
              "        [  2],\n",
              "        [ 48],\n",
              "        [  7]],\n",
              "\n",
              "       [[  3],\n",
              "        [  3],\n",
              "        [387],\n",
              "        [  4],\n",
              "        [ 72],\n",
              "        [ 49],\n",
              "        [388],\n",
              "        [389],\n",
              "        [  7]],\n",
              "\n",
              "       [[420],\n",
              "        [  4],\n",
              "        [  2],\n",
              "        [421],\n",
              "        [  4],\n",
              "        [ 92],\n",
              "        [  5],\n",
              "        [ 62],\n",
              "        [  7]],\n",
              "\n",
              "       [[443],\n",
              "        [ 16],\n",
              "        [ 70],\n",
              "        [444],\n",
              "        [445],\n",
              "        [446],\n",
              "        [  6],\n",
              "        [ 99],\n",
              "        [  7]],\n",
              "\n",
              "       [[468],\n",
              "        [  5],\n",
              "        [469],\n",
              "        [  4],\n",
              "        [470],\n",
              "        [471],\n",
              "        [  6],\n",
              "        [108],\n",
              "        [  7]],\n",
              "\n",
              "       [[ 44],\n",
              "        [ 22],\n",
              "        [502],\n",
              "        [503],\n",
              "        [  9],\n",
              "        [111],\n",
              "        [504],\n",
              "        [505],\n",
              "        [  7]],\n",
              "\n",
              "       [[  9],\n",
              "        [ 94],\n",
              "        [526],\n",
              "        [527],\n",
              "        [ 15],\n",
              "        [528],\n",
              "        [ 14],\n",
              "        [529],\n",
              "        [  7]],\n",
              "\n",
              "       [[550],\n",
              "        [551],\n",
              "        [  6],\n",
              "        [552],\n",
              "        [  3],\n",
              "        [553],\n",
              "        [ 95],\n",
              "        [554],\n",
              "        [  7]],\n",
              "\n",
              "       [[582],\n",
              "        [583],\n",
              "        [  2],\n",
              "        [584],\n",
              "        [585],\n",
              "        [586],\n",
              "        [587],\n",
              "        [588],\n",
              "        [  7]],\n",
              "\n",
              "       [[ 97],\n",
              "        [ 26],\n",
              "        [608],\n",
              "        [ 12],\n",
              "        [609],\n",
              "        [  5],\n",
              "        [  2],\n",
              "        [610],\n",
              "        [  7]]], dtype=int32)"
            ]
          },
          "metadata": {
            "tags": []
          },
          "execution_count": 31
        }
      ]
    },
    {
      "cell_type": "code",
      "metadata": {
        "colab": {
          "base_uri": "https://localhost:8080/"
        },
        "id": "jRemH2uRJ5oW",
        "outputId": "b4cffba4-fbfa-4e3a-c7ab-d5f984ed9e20"
      },
      "source": [
        "# history=model.fit([x_tr,y_tr[:,:-1]], y_tr.reshape(y_tr.shape[0],y_tr.shape[1], 1)[:,1:] ,epochs=10,callbacks=[es],batch_size=512, validation_data=([x_val,y_val[:,:-1]], y_val.reshape(y_val.shape[0],y_val.shape[1], 1)[:,1:]))\n",
        "history=model.fit([x_tr,y_tr[:,:-1]], y_tr.reshape(y_tr.shape[0],y_tr.shape[1], 1)[:,1:] ,epochs=2,  callbacks=callbacks_list, batch_size=512, validation_data=([x_val,y_val[:,:-1]], y_val.reshape(y_val.shape[0],y_val.shape[1], 1)[:,1:]))"
      ],
      "execution_count": null,
      "outputs": [
        {
          "output_type": "stream",
          "text": [
            "Epoch 1/2\n",
            "1/1 [==============================] - ETA: 0s - loss: 6.4118\n",
            "Epoch 00001: val_loss improved from inf to 5.53811, saving model to /content/drive/MyDrive/model.ckpt\n",
            "WARNING:tensorflow:From /usr/local/lib/python3.6/dist-packages/tensorflow/python/training/tracking/tracking.py:111: Model.state_updates (from tensorflow.python.keras.engine.training) is deprecated and will be removed in a future version.\n",
            "Instructions for updating:\n",
            "This property should not be used in TensorFlow 2.0, as updates are applied automatically.\n"
          ],
          "name": "stdout"
        },
        {
          "output_type": "stream",
          "text": [
            "WARNING:tensorflow:From /usr/local/lib/python3.6/dist-packages/tensorflow/python/training/tracking/tracking.py:111: Model.state_updates (from tensorflow.python.keras.engine.training) is deprecated and will be removed in a future version.\n",
            "Instructions for updating:\n",
            "This property should not be used in TensorFlow 2.0, as updates are applied automatically.\n"
          ],
          "name": "stderr"
        },
        {
          "output_type": "stream",
          "text": [
            "WARNING:tensorflow:From /usr/local/lib/python3.6/dist-packages/tensorflow/python/training/tracking/tracking.py:111: Layer.updates (from tensorflow.python.keras.engine.base_layer) is deprecated and will be removed in a future version.\n",
            "Instructions for updating:\n",
            "This property should not be used in TensorFlow 2.0, as updates are applied automatically.\n"
          ],
          "name": "stdout"
        },
        {
          "output_type": "stream",
          "text": [
            "WARNING:tensorflow:From /usr/local/lib/python3.6/dist-packages/tensorflow/python/training/tracking/tracking.py:111: Layer.updates (from tensorflow.python.keras.engine.base_layer) is deprecated and will be removed in a future version.\n",
            "Instructions for updating:\n",
            "This property should not be used in TensorFlow 2.0, as updates are applied automatically.\n"
          ],
          "name": "stderr"
        },
        {
          "output_type": "stream",
          "text": [
            "INFO:tensorflow:Assets written to: /content/drive/MyDrive/model.ckpt/assets\n"
          ],
          "name": "stdout"
        },
        {
          "output_type": "stream",
          "text": [
            "INFO:tensorflow:Assets written to: /content/drive/MyDrive/model.ckpt/assets\n"
          ],
          "name": "stderr"
        },
        {
          "output_type": "stream",
          "text": [
            "\b\b\b\b\b\b\b\b\b\b\b\b\b\b\b\b\b\b\b\b\b\b\b\b\b\b\b\b\b\b\b\b\b\b\b\b\b\b\b\b\b\b\b\b\b\b\b\b\b\b\b\b\b\b\b\b\b\b\b\b\b\r1/1 [==============================] - 18s 18s/step - loss: 6.4118 - val_loss: 5.5381\n",
            "Epoch 2/2\n",
            "1/1 [==============================] - ETA: 0s - loss: 5.1688\n",
            "Epoch 00002: val_loss did not improve from 5.53811\n",
            "1/1 [==============================] - 0s 183ms/step - loss: 5.1688 - val_loss: 6.5295\n",
            "Epoch 00002: early stopping\n"
          ],
          "name": "stdout"
        }
      ]
    },
    {
      "cell_type": "markdown",
      "metadata": {
        "id": "M9GTpQur8Oy8"
      },
      "source": [
        "# **Plotting Results**"
      ]
    },
    {
      "cell_type": "code",
      "metadata": {
        "id": "lSONCZ0WCPug"
      },
      "source": [
        "from matplotlib import pyplot \n",
        "pyplot.plot(history.history['loss'], label='train') \n",
        "pyplot.plot(history.history['val_loss'], label='test') \n",
        "pyplot.legend() \n",
        "pyplot.show()"
      ],
      "execution_count": null,
      "outputs": []
    },
    {
      "cell_type": "code",
      "metadata": {
        "id": "12Us4jEYO9lH"
      },
      "source": [
        "\n",
        "reverse_target_word_index=y_tokenizer.index_word \n",
        "reverse_source_word_index=x_tokenizer.index_word \n",
        "target_word_index=y_tokenizer.word_index"
      ],
      "execution_count": null,
      "outputs": []
    },
    {
      "cell_type": "code",
      "metadata": {
        "id": "iToYMDNVPCLV"
      },
      "source": [
        "# encoder inference\n",
        "encoder_model = Model(inputs=encoder_inputs,outputs=[encoder_outputs, state_h, state_c])\n",
        "\n",
        "# decoder inference\n",
        "# Below tensors will hold the states of the previous time step\n",
        "decoder_state_input_h = Input(shape=(latent_dim,))\n",
        "decoder_state_input_c = Input(shape=(latent_dim,))\n",
        "decoder_hidden_state_input = Input(shape=(max_len_text,latent_dim))\n",
        "\n",
        "# Get the embeddings of the decoder sequence\n",
        "dec_emb2= dec_emb_layer(decoder_inputs)\n",
        "\n",
        "# To predict the next word in the sequence, set the initial states to the states from the previous time step\n",
        "decoder_outputs2, state_h2, state_c2 = decoder_lstm(dec_emb2, initial_state=[decoder_state_input_h, decoder_state_input_c])\n",
        "\n",
        "#attention inference\n",
        "attn_out_inf, attn_states_inf = attn_layer([decoder_hidden_state_input, decoder_outputs2])\n",
        "decoder_inf_concat = Concatenate(axis=-1, name='concat')([decoder_outputs2, attn_out_inf])\n",
        "\n",
        "# A dense softmax layer to generate prob dist. over the target vocabulary\n",
        "decoder_outputs2 = decoder_dense(decoder_inf_concat)\n",
        "\n",
        "# Final decoder model\n",
        "decoder_model = Model(\n",
        "[decoder_inputs] + [decoder_hidden_state_input,decoder_state_input_h, decoder_state_input_c],\n",
        "[decoder_outputs2] + [state_h2, state_c2])"
      ],
      "execution_count": null,
      "outputs": []
    },
    {
      "cell_type": "code",
      "metadata": {
        "id": "9C3qU4wWPM16"
      },
      "source": [
        "def decode_sequence(input_seq):\n",
        "    # Encode the input as state vectors.\n",
        "    e_out, e_h, e_c = encoder_model.predict(input_seq)\n",
        "    # print('input_seq: {}, e_out: {} '.format(input_seq,e_out))\n",
        "    # Generate empty target sequence of length 1.\n",
        "    target_seq = np.zeros((1,1))\n",
        "\n",
        "    # Chose the 'start' word as the first word of the target sequence\n",
        "    target_seq[0, 0] = target_word_index['start']\n",
        "\n",
        "    stop_condition = False\n",
        "    decoded_sentence = ''\n",
        "    while not stop_condition:\n",
        "        output_tokens, h, c = decoder_model.predict([target_seq] + [e_out, e_h, e_c])\n",
        "\n",
        "        # Sample a token\n",
        "        sampled_token_index = np.argmax(output_tokens[0, -1, :])\n",
        "        sampled_token = reverse_target_word_index[sampled_token_index]\n",
        "        # print(\"sampled_token:\",sampled_token)\n",
        "        if(sampled_token!='end'):\n",
        "            decoded_sentence += ' '+sampled_token\n",
        "\n",
        "            # Exit condition: either hit max length or find stop word.\n",
        "        if (sampled_token == 'end' or len(decoded_sentence.split()) >= (max_len_summary-1)):\n",
        "                stop_condition = True\n",
        "\n",
        "        # Update the target sequence (of length 1).\n",
        "        target_seq = np.zeros((1,1))\n",
        "        target_seq[0, 0] = sampled_token_index\n",
        "        # stop_condition = True\n",
        "        # Update internal states\n",
        "        e_h, e_c = h, c\n",
        "\n",
        "    return decoded_sentence"
      ],
      "execution_count": null,
      "outputs": []
    },
    {
      "cell_type": "code",
      "metadata": {
        "id": "L0NzMYlKPdqd"
      },
      "source": [
        "\n",
        "def seq2summary(input_seq):\n",
        "    newString=''\n",
        "    for i in input_seq:\n",
        "      if((i!=0 and i!=target_word_index['start']) and i!=target_word_index['end']):\n",
        "        newString=newString+reverse_target_word_index[i]+' '\n",
        "    return newString\n",
        "\n",
        "def seq2text(input_seq):\n",
        "    newString=''\n",
        "    for i in input_seq:\n",
        "      if(i!=0):\n",
        "        newString=newString+reverse_source_word_index[i]+' '\n",
        "    return newString"
      ],
      "execution_count": null,
      "outputs": []
    },
    {
      "cell_type": "code",
      "metadata": {
        "id": "pVmD2O_OAdDf"
      },
      "source": [
        "rouge1_f=[]\n",
        "rouge1_p=[]\n",
        "rouge1_r=[]\n",
        "rouge2_f=[]\n",
        "rouge2_p=[]\n",
        "rouge2_r=[]\n",
        "rougel_f=[]\n",
        "rougel_p=[]\n",
        "rougel_r=[]\n",
        "bleu_score=[]\n"
      ],
      "execution_count": null,
      "outputs": []
    },
    {
      "cell_type": "code",
      "metadata": {
        "colab": {
          "base_uri": "https://localhost:8080/"
        },
        "id": "MNszrjfZnK7k",
        "outputId": "8230daaf-0b1a-4512-b388-eb20212e8324"
      },
      "source": [
        "import nltk.translate.bleu_score as bleu\n",
        "\n",
        "!pip install bert_embedding\n",
        "from bert_embedding import BertEmbedding\n",
        "bert_E = BertEmbedding()\n",
        "\n",
        "\n"
      ],
      "execution_count": null,
      "outputs": [
        {
          "output_type": "stream",
          "text": [
            "Requirement already satisfied: bert_embedding in /usr/local/lib/python3.6/dist-packages (1.0.1)\n",
            "Requirement already satisfied: typing==3.6.6 in /usr/local/lib/python3.6/dist-packages (from bert_embedding) (3.6.6)\n",
            "Requirement already satisfied: mxnet==1.4.0 in /usr/local/lib/python3.6/dist-packages (from bert_embedding) (1.4.0)\n",
            "Requirement already satisfied: numpy==1.14.6 in /usr/local/lib/python3.6/dist-packages (from bert_embedding) (1.14.6)\n",
            "Requirement already satisfied: gluonnlp==0.6.0 in /usr/local/lib/python3.6/dist-packages (from bert_embedding) (0.6.0)\n",
            "Requirement already satisfied: graphviz<0.9.0,>=0.8.1 in /usr/local/lib/python3.6/dist-packages (from mxnet==1.4.0->bert_embedding) (0.8.4)\n",
            "Requirement already satisfied: requests>=2.20.0 in /usr/local/lib/python3.6/dist-packages (from mxnet==1.4.0->bert_embedding) (2.23.0)\n",
            "Requirement already satisfied: idna<3,>=2.5 in /usr/local/lib/python3.6/dist-packages (from requests>=2.20.0->mxnet==1.4.0->bert_embedding) (2.10)\n",
            "Requirement already satisfied: urllib3!=1.25.0,!=1.25.1,<1.26,>=1.21.1 in /usr/local/lib/python3.6/dist-packages (from requests>=2.20.0->mxnet==1.4.0->bert_embedding) (1.24.3)\n",
            "Requirement already satisfied: chardet<4,>=3.0.2 in /usr/local/lib/python3.6/dist-packages (from requests>=2.20.0->mxnet==1.4.0->bert_embedding) (3.0.4)\n",
            "Requirement already satisfied: certifi>=2017.4.17 in /usr/local/lib/python3.6/dist-packages (from requests>=2.20.0->mxnet==1.4.0->bert_embedding) (2020.11.8)\n"
          ],
          "name": "stdout"
        }
      ]
    },
    {
      "cell_type": "code",
      "metadata": {
        "id": "09WglsvMPdlD",
        "colab": {
          "base_uri": "https://localhost:8080/"
        },
        "outputId": "a8565505-23ad-433a-b3ab-d9b2dcfbde98"
      },
      "source": [
        "!python -m spacy download pt_core_news_sm\n",
        "\n",
        "\n",
        "import pt_core_news_sm\n",
        "\n",
        "nltk.download('stopwords')\n",
        "nlp = pt_core_news_sm.load()\n",
        "for i in range(len(x_val)):\n",
        "  print(i,\"  Review:\",seq2text(x_val[i]))\n",
        "  print(\"Original summary:\",seq2summary(y_val[i]))\n",
        "  print(\"Predicted summary:\",decode_sequence(x_val[i].reshape(1,max_len_text)))\n",
        "  print(\"\\n\")\n",
        "  summary= seq2summary(y_val[i])\n",
        "  reference_summary=decode_sequence(x_val[i].reshape(1,max_len_text))\n",
        "  #Bleu Score\n",
        "  r0, e0 = prep(summary)\n",
        "  r1, e1 = prep(reference_summary)\n",
        "  t0 = nlp(summary)\n",
        "  t1 = nlp(reference_summary)\n",
        "  bleu_score.append( bleu.sentence_bleu([r1], r0, smoothing_function=SmoothingFunction.method2))\n",
        "  # print(\"r0-r1 bleu score: \", bleu.sentence_bleu([r1], r0, smoothing_function=SmoothingFunction.method2))\n",
        "\n",
        "  #Rouge Score\n",
        "  rouge = Rouge()\n",
        "  scores = rouge.get_scores(summary, reference_summary)\n",
        "  # print('scores',scores)\n",
        "\n",
        "  for thisdict in scores:\n",
        "\n",
        "    rouge1=thisdict['rouge-1']\n",
        "    rouge1_f.append(rouge1['f'])\n",
        "    rouge1_p.append(rouge1['p'])\n",
        "    rouge1_r.append(rouge1['r'])\n",
        "  \n",
        "    rouge2=thisdict['rouge-2']\n",
        "    rouge2_f.append(rouge2['f'])\n",
        "    rouge2_p.append(rouge2['p'])\n",
        "    rouge2_r.append(rouge2['r'])\n",
        "\n",
        "    rougel=thisdict['rouge-l']\n",
        "    rougel_f.append(rougel['f'])\n",
        "    rougel_p.append(rougel['p'])\n",
        "    rougel_r.append(rougel['r'])"
      ],
      "execution_count": null,
      "outputs": [
        {
          "output_type": "stream",
          "text": [
            "\u001b[38;5;3m⚠ Skipping model package dependencies and setting `--no-deps`. You\n",
            "don't seem to have the spaCy package itself installed (maybe because you've\n",
            "built from source?), so installing the model dependencies would cause spaCy to\n",
            "be downloaded, which probably isn't what you want. If the model package has\n",
            "other dependencies, you'll have to install them manually.\u001b[0m\n",
            "Collecting pt_core_news_sm==2.2.5\n",
            "\u001b[?25l  Downloading https://github.com/explosion/spacy-models/releases/download/pt_core_news_sm-2.2.5/pt_core_news_sm-2.2.5.tar.gz (21.2MB)\n",
            "\u001b[K     |████████████████████████████████| 21.2MB 1.1MB/s \n",
            "\u001b[?25hBuilding wheels for collected packages: pt-core-news-sm\n",
            "  Building wheel for pt-core-news-sm (setup.py) ... \u001b[?25l\u001b[?25hdone\n",
            "  Created wheel for pt-core-news-sm: filename=pt_core_news_sm-2.2.5-cp36-none-any.whl size=21186282 sha256=1353999957bf8949aa830ee6664df941a60fddd51cc4bed5898ebf59f2424960\n",
            "  Stored in directory: /tmp/pip-ephem-wheel-cache-9ebckjwv/wheels/ea/94/74/ec9be8418e9231b471be5dc7e1b45dd670019a376a6b5bc1c0\n",
            "Successfully built pt-core-news-sm\n",
            "Installing collected packages: pt-core-news-sm\n",
            "Successfully installed pt-core-news-sm-2.2.5\n",
            "\u001b[38;5;2m✔ Download and installation successful\u001b[0m\n",
            "You can now load the model via spacy.load('pt_core_news_sm')\n",
            "[nltk_data] Downloading package stopwords to /root/nltk_data...\n",
            "[nltk_data]   Package stopwords is already up-to-date!\n",
            "0   Review: investigating released little information mrs death police given information motive death made according often left morning husband worked place family home dogs crime scene investigators last week mrs worked department years mrs found dead last month released school mrs first fourth school said married mother member family one neighbor told post last week michelle took care whole center life michelle friendly girl area mother mrs two described neighbor center world searching police revealed little murder married mother family home dogs \n",
            "Original summary: police have no of death as to the motive \n",
            "Predicted summary:  the the the the the the the the\n",
            "\n",
            "\n",
            "1   Review: left wing yes scotland campaign say message winning yesterday said real stay people scotland really extent england lot people know stay public cuts continue doubt real people particularly women see really strong argument front prime minister attacked would safer first minister alex scottish cabinet hold last cabinet meeting scottish next month scottish private per first five years came recent scotland available private reached million per higher year alone show million still far higher years south lead cut fact england expected \n",
            "Original summary: england be in scotland highlight on private has by \n",
            "Predicted summary:  the the the the the the the the\n",
            "\n",
            "\n"
          ],
          "name": "stdout"
        }
      ]
    },
    {
      "cell_type": "code",
      "metadata": {
        "id": "znkabFxmA5HS",
        "colab": {
          "base_uri": "https://localhost:8080/"
        },
        "outputId": "6071ad0b-ce67-4511-bd88-f4679104e149"
      },
      "source": [
        "#    Mean  of rouge score of all articles\n",
        "\n",
        "# print('Mean of rouge1_p',sum(rouge1_p) / len(rouge1_p))\n",
        "# print('Mean of rouge1_r',sum(rouge1_r) / len(rouge1_r))\n",
        "# print('Mean of rouge1_f',sum(rouge1_f) / len(rouge1_f))\n",
        "# print()\n",
        "# print('Mean of rouge2_p',sum(rouge2_p) / len(rouge2_p))\n",
        "# print('Mean of rouge2_r',sum(rouge2_r) / len(rouge2_r))\n",
        "# print('Mean of rouge2_f',sum(rouge2_f) / len(rouge2_f))\n",
        "# print()\n",
        "print('Mean of rougel_p',sum(rougel_p) / len(rougel_p))\n",
        "print('Mean of rougel_r',sum(rougel_r) / len(rougel_r))\n",
        "print('Mean of rougel_f',sum(rougel_f) / len(rougel_f))\n",
        "# Average of Bleu\n",
        "bleu_average= np.average(bleu_score)\n",
        "print(bleu_average)\n",
        "# F1\n",
        "rouge_average= sum(rougel_r) / len(rougel_r)# Recall of rouge-l\n",
        "F1 = 2 * (bleu_average * rouge_average) / (bleu_average + rouge_average)\n",
        "print(F1)"
      ],
      "execution_count": null,
      "outputs": [
        {
          "output_type": "stream",
          "text": [
            "Mean of rougel_p 0.05555555555555555\n",
            "Mean of rougel_r 0.5\n",
            "Mean of rougel_f 0.0999999991\n",
            "0.09287528999566799\n",
            "0.15665232058557646\n"
          ],
          "name": "stdout"
        }
      ]
    },
    {
      "cell_type": "code",
      "metadata": {
        "id": "uF3knTMcKT2S"
      },
      "source": [
        "# print(\"Review:\",seq2text(x_val[44]))\n",
        "# print(\"Original summary:\",seq2summary(y_val[44]))\n",
        "# print(\"Predicted summary:\",decode_sequence(x_val[44].reshape(1,max_len_text)))"
      ],
      "execution_count": null,
      "outputs": []
    },
    {
      "cell_type": "code",
      "metadata": {
        "id": "ERpaoN0yd6Yn"
      },
      "source": [],
      "execution_count": null,
      "outputs": []
    }
  ]
}